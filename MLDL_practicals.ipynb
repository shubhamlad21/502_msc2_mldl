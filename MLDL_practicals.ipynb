{
  "cells": [
    {
      "cell_type": "markdown",
      "metadata": {
        "id": "view-in-github",
        "colab_type": "text"
      },
      "source": [
        "<a href=\"https://colab.research.google.com/github/shubhamlad21/502_msc2_mldl/blob/main/MLDL_practicals.ipynb\" target=\"_parent\"><img src=\"https://colab.research.google.com/assets/colab-badge.svg\" alt=\"Open In Colab\"/></a>"
      ]
    },
    {
      "cell_type": "markdown",
      "source": [
        "# Practical 01 - Simple Linear Regression"
      ],
      "metadata": {
        "id": "EBe54Dq1oDt7"
      },
      "id": "EBe54Dq1oDt7"
    },
    {
      "cell_type": "code",
      "source": [
        "from google.colab import drive\n",
        "drive.mount('/content/drive')"
      ],
      "metadata": {
        "colab": {
          "base_uri": "https://localhost:8080/"
        },
        "id": "2b0CphIvBhMX",
        "outputId": "766b9b2a-bf7d-42f2-8f2d-0ef52a9ae05a"
      },
      "id": "2b0CphIvBhMX",
      "execution_count": 1,
      "outputs": [
        {
          "output_type": "stream",
          "name": "stdout",
          "text": [
            "Mounted at /content/drive\n"
          ]
        }
      ]
    },
    {
      "cell_type": "code",
      "source": [
        "import numpy as np\n",
        "import matplotlib.pyplot as plt\n",
        "import pandas as pd"
      ],
      "metadata": {
        "id": "sVTLNQmrlUyn"
      },
      "id": "sVTLNQmrlUyn",
      "execution_count": 2,
      "outputs": []
    },
    {
      "cell_type": "code",
      "source": [
        "dataset=pd.read_csv('/content/drive/MyDrive/csv_files/Salary_Data.csv')\n",
        "x = dataset.iloc[:,:-1].values\n",
        "y = dataset.iloc[:,-1].values"
      ],
      "metadata": {
        "id": "Fa2PpEk5nGp4"
      },
      "id": "Fa2PpEk5nGp4",
      "execution_count": 3,
      "outputs": []
    },
    {
      "cell_type": "code",
      "source": [
        "print(x)"
      ],
      "metadata": {
        "id": "em5M5p60nMjS",
        "colab": {
          "base_uri": "https://localhost:8080/"
        },
        "outputId": "3856b305-eb3a-4776-efe1-baaf5f6e0c98"
      },
      "id": "em5M5p60nMjS",
      "execution_count": 4,
      "outputs": [
        {
          "output_type": "stream",
          "name": "stdout",
          "text": [
            "[[ 1.1]\n",
            " [ 1.3]\n",
            " [ 1.5]\n",
            " [ 2. ]\n",
            " [ 2.2]\n",
            " [ 2.9]\n",
            " [ 3. ]\n",
            " [ 3.2]\n",
            " [ 3.2]\n",
            " [ 3.7]\n",
            " [ 3.9]\n",
            " [ 4. ]\n",
            " [ 4. ]\n",
            " [ 4.1]\n",
            " [ 4.5]\n",
            " [ 4.9]\n",
            " [ 5.1]\n",
            " [ 5.3]\n",
            " [ 5.9]\n",
            " [ 6. ]\n",
            " [ 6.8]\n",
            " [ 7.1]\n",
            " [ 7.9]\n",
            " [ 8.2]\n",
            " [ 8.7]\n",
            " [ 9. ]\n",
            " [ 9.5]\n",
            " [ 9.6]\n",
            " [10.3]\n",
            " [10.5]]\n"
          ]
        }
      ]
    },
    {
      "cell_type": "code",
      "source": [
        "print(y)"
      ],
      "metadata": {
        "id": "KFF6cVKZnPQK",
        "colab": {
          "base_uri": "https://localhost:8080/"
        },
        "outputId": "4bd99394-d91a-421a-cebc-2f5a6f44b816"
      },
      "id": "KFF6cVKZnPQK",
      "execution_count": 5,
      "outputs": [
        {
          "output_type": "stream",
          "name": "stdout",
          "text": [
            "[ 39343.  46205.  37731.  43525.  39891.  56642.  60150.  54445.  64445.\n",
            "  57189.  63218.  55794.  56957.  57081.  61111.  67938.  66029.  83088.\n",
            "  81363.  93940.  91738.  98273. 101302. 113812. 109431. 105582. 116969.\n",
            " 112635. 122391. 121872.]\n"
          ]
        }
      ]
    },
    {
      "cell_type": "code",
      "source": [
        "from sklearn.model_selection import train_test_split\n",
        "x_train, x_test, y_train, y_test = train_test_split(x,y,test_size = 1/3, random_state = 0)"
      ],
      "metadata": {
        "id": "uuKO_pionS7r"
      },
      "id": "uuKO_pionS7r",
      "execution_count": 6,
      "outputs": []
    },
    {
      "cell_type": "code",
      "source": [
        "print(x_train)"
      ],
      "metadata": {
        "id": "AMae2vg8nkqm",
        "colab": {
          "base_uri": "https://localhost:8080/"
        },
        "outputId": "67fb7177-8ea2-4a57-8dae-c61d88fcf563"
      },
      "id": "AMae2vg8nkqm",
      "execution_count": 7,
      "outputs": [
        {
          "output_type": "stream",
          "name": "stdout",
          "text": [
            "[[ 2.9]\n",
            " [ 5.1]\n",
            " [ 3.2]\n",
            " [ 4.5]\n",
            " [ 8.2]\n",
            " [ 6.8]\n",
            " [ 1.3]\n",
            " [10.5]\n",
            " [ 3. ]\n",
            " [ 2.2]\n",
            " [ 5.9]\n",
            " [ 6. ]\n",
            " [ 3.7]\n",
            " [ 3.2]\n",
            " [ 9. ]\n",
            " [ 2. ]\n",
            " [ 1.1]\n",
            " [ 7.1]\n",
            " [ 4.9]\n",
            " [ 4. ]]\n"
          ]
        }
      ]
    },
    {
      "cell_type": "code",
      "source": [
        "print(x_test)"
      ],
      "metadata": {
        "id": "MPmTLy6Bns_B",
        "colab": {
          "base_uri": "https://localhost:8080/"
        },
        "outputId": "832c3458-41eb-4d54-bf83-d788020b116d"
      },
      "id": "MPmTLy6Bns_B",
      "execution_count": 8,
      "outputs": [
        {
          "output_type": "stream",
          "name": "stdout",
          "text": [
            "[[ 1.5]\n",
            " [10.3]\n",
            " [ 4.1]\n",
            " [ 3.9]\n",
            " [ 9.5]\n",
            " [ 8.7]\n",
            " [ 9.6]\n",
            " [ 4. ]\n",
            " [ 5.3]\n",
            " [ 7.9]]\n"
          ]
        }
      ]
    },
    {
      "cell_type": "code",
      "source": [
        "print(y_test)"
      ],
      "metadata": {
        "colab": {
          "base_uri": "https://localhost:8080/"
        },
        "id": "bsZfwH-Jnum1",
        "outputId": "44f83e88-da51-4ed3-913f-62d90c3279e6"
      },
      "id": "bsZfwH-Jnum1",
      "execution_count": 9,
      "outputs": [
        {
          "output_type": "stream",
          "name": "stdout",
          "text": [
            "[ 37731. 122391.  57081.  63218. 116969. 109431. 112635.  55794.  83088.\n",
            " 101302.]\n"
          ]
        }
      ]
    },
    {
      "cell_type": "code",
      "source": [
        "from sklearn.linear_model import LinearRegression\n",
        "regressor = LinearRegression()\n",
        "regressor.fit(x_train, y_train)"
      ],
      "metadata": {
        "colab": {
          "base_uri": "https://localhost:8080/",
          "height": 0
        },
        "id": "JDYjIXUJnxkt",
        "outputId": "157fe796-ed70-4446-cc8e-c71ffac31c25"
      },
      "id": "JDYjIXUJnxkt",
      "execution_count": 10,
      "outputs": [
        {
          "output_type": "execute_result",
          "data": {
            "text/plain": [
              "LinearRegression()"
            ],
            "text/html": [
              "<style>#sk-container-id-1 {color: black;background-color: white;}#sk-container-id-1 pre{padding: 0;}#sk-container-id-1 div.sk-toggleable {background-color: white;}#sk-container-id-1 label.sk-toggleable__label {cursor: pointer;display: block;width: 100%;margin-bottom: 0;padding: 0.3em;box-sizing: border-box;text-align: center;}#sk-container-id-1 label.sk-toggleable__label-arrow:before {content: \"▸\";float: left;margin-right: 0.25em;color: #696969;}#sk-container-id-1 label.sk-toggleable__label-arrow:hover:before {color: black;}#sk-container-id-1 div.sk-estimator:hover label.sk-toggleable__label-arrow:before {color: black;}#sk-container-id-1 div.sk-toggleable__content {max-height: 0;max-width: 0;overflow: hidden;text-align: left;background-color: #f0f8ff;}#sk-container-id-1 div.sk-toggleable__content pre {margin: 0.2em;color: black;border-radius: 0.25em;background-color: #f0f8ff;}#sk-container-id-1 input.sk-toggleable__control:checked~div.sk-toggleable__content {max-height: 200px;max-width: 100%;overflow: auto;}#sk-container-id-1 input.sk-toggleable__control:checked~label.sk-toggleable__label-arrow:before {content: \"▾\";}#sk-container-id-1 div.sk-estimator input.sk-toggleable__control:checked~label.sk-toggleable__label {background-color: #d4ebff;}#sk-container-id-1 div.sk-label input.sk-toggleable__control:checked~label.sk-toggleable__label {background-color: #d4ebff;}#sk-container-id-1 input.sk-hidden--visually {border: 0;clip: rect(1px 1px 1px 1px);clip: rect(1px, 1px, 1px, 1px);height: 1px;margin: -1px;overflow: hidden;padding: 0;position: absolute;width: 1px;}#sk-container-id-1 div.sk-estimator {font-family: monospace;background-color: #f0f8ff;border: 1px dotted black;border-radius: 0.25em;box-sizing: border-box;margin-bottom: 0.5em;}#sk-container-id-1 div.sk-estimator:hover {background-color: #d4ebff;}#sk-container-id-1 div.sk-parallel-item::after {content: \"\";width: 100%;border-bottom: 1px solid gray;flex-grow: 1;}#sk-container-id-1 div.sk-label:hover label.sk-toggleable__label {background-color: #d4ebff;}#sk-container-id-1 div.sk-serial::before {content: \"\";position: absolute;border-left: 1px solid gray;box-sizing: border-box;top: 0;bottom: 0;left: 50%;z-index: 0;}#sk-container-id-1 div.sk-serial {display: flex;flex-direction: column;align-items: center;background-color: white;padding-right: 0.2em;padding-left: 0.2em;position: relative;}#sk-container-id-1 div.sk-item {position: relative;z-index: 1;}#sk-container-id-1 div.sk-parallel {display: flex;align-items: stretch;justify-content: center;background-color: white;position: relative;}#sk-container-id-1 div.sk-item::before, #sk-container-id-1 div.sk-parallel-item::before {content: \"\";position: absolute;border-left: 1px solid gray;box-sizing: border-box;top: 0;bottom: 0;left: 50%;z-index: -1;}#sk-container-id-1 div.sk-parallel-item {display: flex;flex-direction: column;z-index: 1;position: relative;background-color: white;}#sk-container-id-1 div.sk-parallel-item:first-child::after {align-self: flex-end;width: 50%;}#sk-container-id-1 div.sk-parallel-item:last-child::after {align-self: flex-start;width: 50%;}#sk-container-id-1 div.sk-parallel-item:only-child::after {width: 0;}#sk-container-id-1 div.sk-dashed-wrapped {border: 1px dashed gray;margin: 0 0.4em 0.5em 0.4em;box-sizing: border-box;padding-bottom: 0.4em;background-color: white;}#sk-container-id-1 div.sk-label label {font-family: monospace;font-weight: bold;display: inline-block;line-height: 1.2em;}#sk-container-id-1 div.sk-label-container {text-align: center;}#sk-container-id-1 div.sk-container {/* jupyter's `normalize.less` sets `[hidden] { display: none; }` but bootstrap.min.css set `[hidden] { display: none !important; }` so we also need the `!important` here to be able to override the default hidden behavior on the sphinx rendered scikit-learn.org. See: https://github.com/scikit-learn/scikit-learn/issues/21755 */display: inline-block !important;position: relative;}#sk-container-id-1 div.sk-text-repr-fallback {display: none;}</style><div id=\"sk-container-id-1\" class=\"sk-top-container\"><div class=\"sk-text-repr-fallback\"><pre>LinearRegression()</pre><b>In a Jupyter environment, please rerun this cell to show the HTML representation or trust the notebook. <br />On GitHub, the HTML representation is unable to render, please try loading this page with nbviewer.org.</b></div><div class=\"sk-container\" hidden><div class=\"sk-item\"><div class=\"sk-estimator sk-toggleable\"><input class=\"sk-toggleable__control sk-hidden--visually\" id=\"sk-estimator-id-1\" type=\"checkbox\" checked><label for=\"sk-estimator-id-1\" class=\"sk-toggleable__label sk-toggleable__label-arrow\">LinearRegression</label><div class=\"sk-toggleable__content\"><pre>LinearRegression()</pre></div></div></div></div></div>"
            ]
          },
          "metadata": {},
          "execution_count": 10
        }
      ]
    },
    {
      "cell_type": "code",
      "source": [
        "y_pred = regressor.predict(x_test)"
      ],
      "metadata": {
        "id": "pp5a1bGnoVbQ"
      },
      "id": "pp5a1bGnoVbQ",
      "execution_count": 11,
      "outputs": []
    },
    {
      "cell_type": "code",
      "source": [
        "plt.scatter(x_train, y_train, color = 'red')\n",
        "plt.plot(x_train, regressor.predict(x_train), color = 'blue')\n",
        "plt.title('Salary vs Experience (Training Set)')\n",
        "plt.xlabel('Years of Experience')\n",
        "plt.ylabel('Salary')\n",
        "plt.show()"
      ],
      "metadata": {
        "id": "Dxvi0oY6oayp",
        "colab": {
          "base_uri": "https://localhost:8080/",
          "height": 0
        },
        "outputId": "e244ea1d-114a-435a-e2bb-70b6df28fbf4"
      },
      "id": "Dxvi0oY6oayp",
      "execution_count": 12,
      "outputs": [
        {
          "output_type": "display_data",
          "data": {
            "text/plain": [
              "<Figure size 640x480 with 1 Axes>"
            ],
            "image/png": "[encoded data removed]"
          },
          "metadata": {}
        }
      ]
    },
    {
      "cell_type": "code",
      "source": [
        "plt.scatter(x_test, y_test, color = 'red')\n",
        "plt.plot(x_test, regressor.predict(x_test), color = 'blue')\n",
        "plt.title('Salary vs Experience (Test Set)')\n",
        "plt.xlabel('Years of Experience')\n",
        "plt.ylabel('Salary')\n",
        "plt.show()"
      ],
      "metadata": {
        "id": "0xJAWw6dpkvJ",
        "colab": {
          "base_uri": "https://localhost:8080/",
          "height": 0
        },
        "outputId": "d955443a-6800-42cf-fc68-daa518c869cd"
      },
      "id": "0xJAWw6dpkvJ",
      "execution_count": 13,
      "outputs": [
        {
          "output_type": "display_data",
          "data": {
            "text/plain": [
              "<Figure size 640x480 with 1 Axes>"
            ],
            "image/png": "[encoded data removed]"
          },
          "metadata": {}
        }
      ]
    },
    {
      "cell_type": "markdown",
      "source": [
        "# Practical 02 - Multiple Linear Regression"
      ],
      "metadata": {
        "id": "9JAXaIYBwMme"
      },
      "id": "9JAXaIYBwMme"
    },
    {
      "cell_type": "code",
      "source": [
        "dataset = pd.read_csv('/content/drive/MyDrive/csv_files/50_Startups.csv')\n",
        "x = dataset.iloc[:,:-1].values\n",
        "y = dataset.iloc[:,-1].values"
      ],
      "metadata": {
        "id": "aO4sSkEnwkzu"
      },
      "id": "aO4sSkEnwkzu",
      "execution_count": 14,
      "outputs": []
    },
    {
      "cell_type": "code",
      "source": [
        "print(x)"
      ],
      "metadata": {
        "id": "BZS53KzMw4f7",
        "colab": {
          "base_uri": "https://localhost:8080/"
        },
        "outputId": "4219f126-4e9e-47a5-bfbb-18ca69c118ab"
      },
      "id": "BZS53KzMw4f7",
      "execution_count": 15,
      "outputs": [
        {
          "output_type": "stream",
          "name": "stdout",
          "text": [
            "[[165349.2 136897.8 471784.1 'New York']\n",
            " [162597.7 151377.59 443898.53 'California']\n",
            " [153441.51 101145.55 407934.54 'Florida']\n",
            " [144372.41 118671.85 383199.62 'New York']\n",
            " [142107.34 91391.77 366168.42 'Florida']\n",
            " [131876.9 99814.71 362861.36 'New York']\n",
            " [134615.46 147198.87 127716.82 'California']\n",
            " [130298.13 145530.06 323876.68 'Florida']\n",
            " [120542.52 148718.95 311613.29 'New York']\n",
            " [123334.88 108679.17 304981.62 'California']\n",
            " [101913.08 110594.11 229160.95 'Florida']\n",
            " [100671.96 91790.61 249744.55 'California']\n",
            " [93863.75 127320.38 249839.44 'Florida']\n",
            " [91992.39 135495.07 252664.93 'California']\n",
            " [119943.24 156547.42 256512.92 'Florida']\n",
            " [114523.61 122616.84 261776.23 'New York']\n",
            " [78013.11 121597.55 264346.06 'California']\n",
            " [94657.16 145077.58 282574.31 'New York']\n",
            " [91749.16 114175.79 294919.57 'Florida']\n",
            " [86419.7 153514.11 0.0 'New York']\n",
            " [76253.86 113867.3 298664.47 'California']\n",
            " [78389.47 153773.43 299737.29 'New York']\n",
            " [73994.56 122782.75 303319.26 'Florida']\n",
            " [67532.53 105751.03 304768.73 'Florida']\n",
            " [77044.01 99281.34 140574.81 'New York']\n",
            " [64664.71 139553.16 137962.62 'California']\n",
            " [75328.87 144135.98 134050.07 'Florida']\n",
            " [72107.6 127864.55 353183.81 'New York']\n",
            " [66051.52 182645.56 118148.2 'Florida']\n",
            " [65605.48 153032.06 107138.38 'New York']\n",
            " [61994.48 115641.28 91131.24 'Florida']\n",
            " [61136.38 152701.92 88218.23 'New York']\n",
            " [63408.86 129219.61 46085.25 'California']\n",
            " [55493.95 103057.49 214634.81 'Florida']\n",
            " [46426.07 157693.92 210797.67 'California']\n",
            " [46014.02 85047.44 205517.64 'New York']\n",
            " [28663.76 127056.21 201126.82 'Florida']\n",
            " [44069.95 51283.14 197029.42 'California']\n",
            " [20229.59 65947.93 185265.1 'New York']\n",
            " [38558.51 82982.09 174999.3 'California']\n",
            " [28754.33 118546.05 172795.67 'California']\n",
            " [27892.92 84710.77 164470.71 'Florida']\n",
            " [23640.93 96189.63 148001.11 'California']\n",
            " [15505.73 127382.3 35534.17 'New York']\n",
            " [22177.74 154806.14 28334.72 'California']\n",
            " [1000.23 124153.04 1903.93 'New York']\n",
            " [1315.46 115816.21 297114.46 'Florida']\n",
            " [0.0 135426.92 0.0 'California']\n",
            " [542.05 51743.15 0.0 'New York']\n",
            " [0.0 116983.8 45173.06 'California']]\n"
          ]
        }
      ]
    },
    {
      "cell_type": "code",
      "source": [
        "print(y)"
      ],
      "metadata": {
        "id": "Qxv1uVZLw7ta",
        "colab": {
          "base_uri": "https://localhost:8080/"
        },
        "outputId": "1dccf0fb-b5a6-412c-88ba-d3d98a672b8a"
      },
      "id": "Qxv1uVZLw7ta",
      "execution_count": 16,
      "outputs": [
        {
          "output_type": "stream",
          "name": "stdout",
          "text": [
            "[192261.83 191792.06 191050.39 182901.99 166187.94 156991.12 156122.51\n",
            " 155752.6  152211.77 149759.96 146121.95 144259.4  141585.52 134307.35\n",
            " 132602.65 129917.04 126992.93 125370.37 124266.9  122776.86 118474.03\n",
            " 111313.02 110352.25 108733.99 108552.04 107404.34 105733.54 105008.31\n",
            " 103282.38 101004.64  99937.59  97483.56  97427.84  96778.92  96712.8\n",
            "  96479.51  90708.19  89949.14  81229.06  81005.76  78239.91  77798.83\n",
            "  71498.49  69758.98  65200.33  64926.08  49490.75  42559.73  35673.41\n",
            "  14681.4 ]\n"
          ]
        }
      ]
    },
    {
      "cell_type": "code",
      "source": [
        "# Encoding categorical data\n",
        "from sklearn.compose import ColumnTransformer\n",
        "from sklearn.preprocessing import OneHotEncoder\n",
        "ct = ColumnTransformer(transformers=[('encoder', OneHotEncoder(), [3])], remainder='passthrough')\n",
        "x = np.array(ct.fit_transform(x))"
      ],
      "metadata": {
        "id": "lUkq-XrCtb76"
      },
      "id": "lUkq-XrCtb76",
      "execution_count": 17,
      "outputs": []
    },
    {
      "cell_type": "code",
      "source": [
        "print(x)"
      ],
      "metadata": {
        "colab": {
          "base_uri": "https://localhost:8080/"
        },
        "collapsed": true,
        "id": "qxbduNfMtrZG",
        "outputId": "bde20264-4023-434c-be3a-877323b842c7"
      },
      "id": "qxbduNfMtrZG",
      "execution_count": 18,
      "outputs": [
        {
          "output_type": "stream",
          "name": "stdout",
          "text": [
            "[[0.0 0.0 1.0 165349.2 136897.8 471784.1]\n",
            " [1.0 0.0 0.0 162597.7 151377.59 443898.53]\n",
            " [0.0 1.0 0.0 153441.51 101145.55 407934.54]\n",
            " [0.0 0.0 1.0 144372.41 118671.85 383199.62]\n",
            " [0.0 1.0 0.0 142107.34 91391.77 366168.42]\n",
            " [0.0 0.0 1.0 131876.9 99814.71 362861.36]\n",
            " [1.0 0.0 0.0 134615.46 147198.87 127716.82]\n",
            " [0.0 1.0 0.0 130298.13 145530.06 323876.68]\n",
            " [0.0 0.0 1.0 120542.52 148718.95 311613.29]\n",
            " [1.0 0.0 0.0 123334.88 108679.17 304981.62]\n",
            " [0.0 1.0 0.0 101913.08 110594.11 229160.95]\n",
            " [1.0 0.0 0.0 100671.96 91790.61 249744.55]\n",
            " [0.0 1.0 0.0 93863.75 127320.38 249839.44]\n",
            " [1.0 0.0 0.0 91992.39 135495.07 252664.93]\n",
            " [0.0 1.0 0.0 119943.24 156547.42 256512.92]\n",
            " [0.0 0.0 1.0 114523.61 122616.84 261776.23]\n",
            " [1.0 0.0 0.0 78013.11 121597.55 264346.06]\n",
            " [0.0 0.0 1.0 94657.16 145077.58 282574.31]\n",
            " [0.0 1.0 0.0 91749.16 114175.79 294919.57]\n",
            " [0.0 0.0 1.0 86419.7 153514.11 0.0]\n",
            " [1.0 0.0 0.0 76253.86 113867.3 298664.47]\n",
            " [0.0 0.0 1.0 78389.47 153773.43 299737.29]\n",
            " [0.0 1.0 0.0 73994.56 122782.75 303319.26]\n",
            " [0.0 1.0 0.0 67532.53 105751.03 304768.73]\n",
            " [0.0 0.0 1.0 77044.01 99281.34 140574.81]\n",
            " [1.0 0.0 0.0 64664.71 139553.16 137962.62]\n",
            " [0.0 1.0 0.0 75328.87 144135.98 134050.07]\n",
            " [0.0 0.0 1.0 72107.6 127864.55 353183.81]\n",
            " [0.0 1.0 0.0 66051.52 182645.56 118148.2]\n",
            " [0.0 0.0 1.0 65605.48 153032.06 107138.38]\n",
            " [0.0 1.0 0.0 61994.48 115641.28 91131.24]\n",
            " [0.0 0.0 1.0 61136.38 152701.92 88218.23]\n",
            " [1.0 0.0 0.0 63408.86 129219.61 46085.25]\n",
            " [0.0 1.0 0.0 55493.95 103057.49 214634.81]\n",
            " [1.0 0.0 0.0 46426.07 157693.92 210797.67]\n",
            " [0.0 0.0 1.0 46014.02 85047.44 205517.64]\n",
            " [0.0 1.0 0.0 28663.76 127056.21 201126.82]\n",
            " [1.0 0.0 0.0 44069.95 51283.14 197029.42]\n",
            " [0.0 0.0 1.0 20229.59 65947.93 185265.1]\n",
            " [1.0 0.0 0.0 38558.51 82982.09 174999.3]\n",
            " [1.0 0.0 0.0 28754.33 118546.05 172795.67]\n",
            " [0.0 1.0 0.0 27892.92 84710.77 164470.71]\n",
            " [1.0 0.0 0.0 23640.93 96189.63 148001.11]\n",
            " [0.0 0.0 1.0 15505.73 127382.3 35534.17]\n",
            " [1.0 0.0 0.0 22177.74 154806.14 28334.72]\n",
            " [0.0 0.0 1.0 1000.23 124153.04 1903.93]\n",
            " [0.0 1.0 0.0 1315.46 115816.21 297114.46]\n",
            " [1.0 0.0 0.0 0.0 135426.92 0.0]\n",
            " [0.0 0.0 1.0 542.05 51743.15 0.0]\n",
            " [1.0 0.0 0.0 0.0 116983.8 45173.06]]\n"
          ]
        }
      ]
    },
    {
      "cell_type": "code",
      "source": [
        "# Splitting the dataset into the Training set and Test set\n",
        "from sklearn.model_selection import train_test_split\n",
        "x_train, x_test, y_train, y_test = train_test_split(x, y, test_size = 0.2, random_state = 0)"
      ],
      "metadata": {
        "id": "T3RAfFjcuAid"
      },
      "id": "T3RAfFjcuAid",
      "execution_count": 19,
      "outputs": []
    },
    {
      "cell_type": "code",
      "source": [
        "# Training the Multiple Linear Regression model on the Training set\n",
        "from sklearn.linear_model import LinearRegression\n",
        "regressor = LinearRegression()\n",
        "regressor.fit(x_train, y_train)\n",
        "from sklearn.linear_model import LinearRegression\n",
        "regressor = LinearRegression()\n",
        "regressor.fit(x_train, y_train)"
      ],
      "metadata": {
        "colab": {
          "base_uri": "https://localhost:8080/",
          "height": 0
        },
        "id": "PQAQVm8JuNA8",
        "outputId": "b5b2dd45-4f63-41d8-f0d2-e61aec3c0c49"
      },
      "id": "PQAQVm8JuNA8",
      "execution_count": 20,
      "outputs": [
        {
          "output_type": "execute_result",
          "data": {
            "text/plain": [
              "LinearRegression()"
            ],
            "text/html": [
              "<style>#sk-container-id-2 {color: black;background-color: white;}#sk-container-id-2 pre{padding: 0;}#sk-container-id-2 div.sk-toggleable {background-color: white;}#sk-container-id-2 label.sk-toggleable__label {cursor: pointer;display: block;width: 100%;margin-bottom: 0;padding: 0.3em;box-sizing: border-box;text-align: center;}#sk-container-id-2 label.sk-toggleable__label-arrow:before {content: \"▸\";float: left;margin-right: 0.25em;color: #696969;}#sk-container-id-2 label.sk-toggleable__label-arrow:hover:before {color: black;}#sk-container-id-2 div.sk-estimator:hover label.sk-toggleable__label-arrow:before {color: black;}#sk-container-id-2 div.sk-toggleable__content {max-height: 0;max-width: 0;overflow: hidden;text-align: left;background-color: #f0f8ff;}#sk-container-id-2 div.sk-toggleable__content pre {margin: 0.2em;color: black;border-radius: 0.25em;background-color: #f0f8ff;}#sk-container-id-2 input.sk-toggleable__control:checked~div.sk-toggleable__content {max-height: 200px;max-width: 100%;overflow: auto;}#sk-container-id-2 input.sk-toggleable__control:checked~label.sk-toggleable__label-arrow:before {content: \"▾\";}#sk-container-id-2 div.sk-estimator input.sk-toggleable__control:checked~label.sk-toggleable__label {background-color: #d4ebff;}#sk-container-id-2 div.sk-label input.sk-toggleable__control:checked~label.sk-toggleable__label {background-color: #d4ebff;}#sk-container-id-2 input.sk-hidden--visually {border: 0;clip: rect(1px 1px 1px 1px);clip: rect(1px, 1px, 1px, 1px);height: 1px;margin: -1px;overflow: hidden;padding: 0;position: absolute;width: 1px;}#sk-container-id-2 div.sk-estimator {font-family: monospace;background-color: #f0f8ff;border: 1px dotted black;border-radius: 0.25em;box-sizing: border-box;margin-bottom: 0.5em;}#sk-container-id-2 div.sk-estimator:hover {background-color: #d4ebff;}#sk-container-id-2 div.sk-parallel-item::after {content: \"\";width: 100%;border-bottom: 1px solid gray;flex-grow: 1;}#sk-container-id-2 div.sk-label:hover label.sk-toggleable__label {background-color: #d4ebff;}#sk-container-id-2 div.sk-serial::before {content: \"\";position: absolute;border-left: 1px solid gray;box-sizing: border-box;top: 0;bottom: 0;left: 50%;z-index: 0;}#sk-container-id-2 div.sk-serial {display: flex;flex-direction: column;align-items: center;background-color: white;padding-right: 0.2em;padding-left: 0.2em;position: relative;}#sk-container-id-2 div.sk-item {position: relative;z-index: 1;}#sk-container-id-2 div.sk-parallel {display: flex;align-items: stretch;justify-content: center;background-color: white;position: relative;}#sk-container-id-2 div.sk-item::before, #sk-container-id-2 div.sk-parallel-item::before {content: \"\";position: absolute;border-left: 1px solid gray;box-sizing: border-box;top: 0;bottom: 0;left: 50%;z-index: -1;}#sk-container-id-2 div.sk-parallel-item {display: flex;flex-direction: column;z-index: 1;position: relative;background-color: white;}#sk-container-id-2 div.sk-parallel-item:first-child::after {align-self: flex-end;width: 50%;}#sk-container-id-2 div.sk-parallel-item:last-child::after {align-self: flex-start;width: 50%;}#sk-container-id-2 div.sk-parallel-item:only-child::after {width: 0;}#sk-container-id-2 div.sk-dashed-wrapped {border: 1px dashed gray;margin: 0 0.4em 0.5em 0.4em;box-sizing: border-box;padding-bottom: 0.4em;background-color: white;}#sk-container-id-2 div.sk-label label {font-family: monospace;font-weight: bold;display: inline-block;line-height: 1.2em;}#sk-container-id-2 div.sk-label-container {text-align: center;}#sk-container-id-2 div.sk-container {/* jupyter's `normalize.less` sets `[hidden] { display: none; }` but bootstrap.min.css set `[hidden] { display: none !important; }` so we also need the `!important` here to be able to override the default hidden behavior on the sphinx rendered scikit-learn.org. See: https://github.com/scikit-learn/scikit-learn/issues/21755 */display: inline-block !important;position: relative;}#sk-container-id-2 div.sk-text-repr-fallback {display: none;}</style><div id=\"sk-container-id-2\" class=\"sk-top-container\"><div class=\"sk-text-repr-fallback\"><pre>LinearRegression()</pre><b>In a Jupyter environment, please rerun this cell to show the HTML representation or trust the notebook. <br />On GitHub, the HTML representation is unable to render, please try loading this page with nbviewer.org.</b></div><div class=\"sk-container\" hidden><div class=\"sk-item\"><div class=\"sk-estimator sk-toggleable\"><input class=\"sk-toggleable__control sk-hidden--visually\" id=\"sk-estimator-id-2\" type=\"checkbox\" checked><label for=\"sk-estimator-id-2\" class=\"sk-toggleable__label sk-toggleable__label-arrow\">LinearRegression</label><div class=\"sk-toggleable__content\"><pre>LinearRegression()</pre></div></div></div></div></div>"
            ]
          },
          "metadata": {},
          "execution_count": 20
        }
      ]
    },
    {
      "cell_type": "code",
      "source": [
        "# Predicting the Test set results\n",
        "y_pred = regressor.predict(x_test)\n",
        "np.set_printoptions(precision=2)\n",
        "print(np.concatenate((y_pred.reshape(len(y_pred),1), y_test.reshape(len(y_test),1)),1))"
      ],
      "metadata": {
        "colab": {
          "base_uri": "https://localhost:8080/"
        },
        "id": "wqq4ssuwuWKC",
        "outputId": "595bacb9-155c-4818-b809-d233ce87fabc"
      },
      "id": "wqq4ssuwuWKC",
      "execution_count": 21,
      "outputs": [
        {
          "output_type": "stream",
          "name": "stdout",
          "text": [
            "[[103015.2  103282.38]\n",
            " [132582.28 144259.4 ]\n",
            " [132447.74 146121.95]\n",
            " [ 71976.1   77798.83]\n",
            " [178537.48 191050.39]\n",
            " [116161.24 105008.31]\n",
            " [ 67851.69  81229.06]\n",
            " [ 98791.73  97483.56]\n",
            " [113969.44 110352.25]\n",
            " [167921.07 166187.94]]\n"
          ]
        }
      ]
    },
    {
      "cell_type": "markdown",
      "source": [
        "# Practical 03 - Logistic Regression\n",
        "\n"
      ],
      "metadata": {
        "id": "ZQQQR4z29EyJ"
      },
      "id": "ZQQQR4z29EyJ"
    },
    {
      "cell_type": "code",
      "source": [
        "import pandas as pd"
      ],
      "metadata": {
        "id": "hF7a09gT9NkU"
      },
      "id": "hF7a09gT9NkU",
      "execution_count": 22,
      "outputs": []
    },
    {
      "cell_type": "code",
      "source": [
        "iris_data = pd.read_csv('/content/drive/MyDrive/csv_files/Iris.csv')"
      ],
      "metadata": {
        "id": "KiI_wLoDOZ38"
      },
      "id": "KiI_wLoDOZ38",
      "execution_count": 23,
      "outputs": []
    },
    {
      "cell_type": "code",
      "source": [
        "iris_data.head()"
      ],
      "metadata": {
        "colab": {
          "base_uri": "https://localhost:8080/",
          "height": 0
        },
        "id": "2AWMN8jBOcaU",
        "outputId": "0ada0615-d55b-4afa-d4db-0c3b6380bac7"
      },
      "id": "2AWMN8jBOcaU",
      "execution_count": 24,
      "outputs": [
        {
          "output_type": "execute_result",
          "data": {
            "text/plain": [
              "   Id  SepalLengthCm  SepalWidthCm  PetalLengthCm  PetalWidthCm      Species\n",
              "0   1            5.1           3.5            1.4           0.2  Iris-setosa\n",
              "1   2            4.9           3.0            1.4           0.2  Iris-setosa\n",
              "2   3            4.7           3.2            1.3           0.2  Iris-setosa\n",
              "3   4            4.6           3.1            1.5           0.2  Iris-setosa\n",
              "4   5            5.0           3.6            1.4           0.2  Iris-setosa"
            ],
            "text/html": [
              "\n",
              "  <div id=\"df-463040f5-1d06-4017-acfc-e65cb5bbe8d2\" class=\"colab-df-container\">\n",
              "    <div>\n",
              "<style scoped>\n",
              "    .dataframe tbody tr th:only-of-type {\n",
              "        vertical-align: middle;\n",
              "    }\n",
              "\n",
              "    .dataframe tbody tr th {\n",
              "        vertical-align: top;\n",
              "    }\n",
              "\n",
              "    .dataframe thead th {\n",
              "        text-align: right;\n",
              "    }\n",
              "</style>\n",
              "<table border=\"1\" class=\"dataframe\">\n",
              "  <thead>\n",
              "    <tr style=\"text-align: right;\">\n",
              "      <th></th>\n",
              "      <th>Id</th>\n",
              "      <th>SepalLengthCm</th>\n",
              "      <th>SepalWidthCm</th>\n",
              "      <th>PetalLengthCm</th>\n",
              "      <th>PetalWidthCm</th>\n",
              "      <th>Species</th>\n",
              "    </tr>\n",
              "  </thead>\n",
              "  <tbody>\n",
              "    <tr>\n",
              "      <th>0</th>\n",
              "      <td>1</td>\n",
              "      <td>5.1</td>\n",
              "      <td>3.5</td>\n",
              "      <td>1.4</td>\n",
              "      <td>0.2</td>\n",
              "      <td>Iris-setosa</td>\n",
              "    </tr>\n",
              "    <tr>\n",
              "      <th>1</th>\n",
              "      <td>2</td>\n",
              "      <td>4.9</td>\n",
              "      <td>3.0</td>\n",
              "      <td>1.4</td>\n",
              "      <td>0.2</td>\n",
              "      <td>Iris-setosa</td>\n",
              "    </tr>\n",
              "    <tr>\n",
              "      <th>2</th>\n",
              "      <td>3</td>\n",
              "      <td>4.7</td>\n",
              "      <td>3.2</td>\n",
              "      <td>1.3</td>\n",
              "      <td>0.2</td>\n",
              "      <td>Iris-setosa</td>\n",
              "    </tr>\n",
              "    <tr>\n",
              "      <th>3</th>\n",
              "      <td>4</td>\n",
              "      <td>4.6</td>\n",
              "      <td>3.1</td>\n",
              "      <td>1.5</td>\n",
              "      <td>0.2</td>\n",
              "      <td>Iris-setosa</td>\n",
              "    </tr>\n",
              "    <tr>\n",
              "      <th>4</th>\n",
              "      <td>5</td>\n",
              "      <td>5.0</td>\n",
              "      <td>3.6</td>\n",
              "      <td>1.4</td>\n",
              "      <td>0.2</td>\n",
              "      <td>Iris-setosa</td>\n",
              "    </tr>\n",
              "  </tbody>\n",
              "</table>\n",
              "</div>\n",
              "    <div class=\"colab-df-buttons\">\n",
              "\n",
              "  <div class=\"colab-df-container\">\n",
              "    <button class=\"colab-df-convert\" onclick=\"convertToInteractive('df-463040f5-1d06-4017-acfc-e65cb5bbe8d2')\"\n",
              "            title=\"Convert this dataframe to an interactive table.\"\n",
              "            style=\"display:none;\">\n",
              "\n",
              "  <svg xmlns=\"http://www.w3.org/2000/svg\" height=\"24px\" viewBox=\"0 -960 960 960\">\n",
              "    <path d=\"M120-120v-720h720v720H120Zm60-500h600v-160H180v160Zm220 220h160v-160H400v160Zm0 220h160v-160H400v160ZM180-400h160v-160H180v160Zm440 0h160v-160H620v160ZM180-180h160v-160H180v160Zm440 0h160v-160H620v160Z\"/>\n",
              "  </svg>\n",
              "    </button>\n",
              "\n",
              "  <style>\n",
              "    .colab-df-container {\n",
              "      display:flex;\n",
              "      gap: 12px;\n",
              "    }\n",
              "\n",
              "    .colab-df-convert {\n",
              "      background-color: #E8F0FE;\n",
              "      border: none;\n",
              "      border-radius: 50%;\n",
              "      cursor: pointer;\n",
              "      display: none;\n",
              "      fill: #1967D2;\n",
              "      height: 32px;\n",
              "      padding: 0 0 0 0;\n",
              "      width: 32px;\n",
              "    }\n",
              "\n",
              "    .colab-df-convert:hover {\n",
              "      background-color: #E2EBFA;\n",
              "      box-shadow: 0px 1px 2px rgba(60, 64, 67, 0.3), 0px 1px 3px 1px rgba(60, 64, 67, 0.15);\n",
              "      fill: #174EA6;\n",
              "    }\n",
              "\n",
              "    .colab-df-buttons div {\n",
              "      margin-bottom: 4px;\n",
              "    }\n",
              "\n",
              "    [theme=dark] .colab-df-convert {\n",
              "      background-color: #3B4455;\n",
              "      fill: #D2E3FC;\n",
              "    }\n",
              "\n",
              "    [theme=dark] .colab-df-convert:hover {\n",
              "      background-color: #434B5C;\n",
              "      box-shadow: 0px 1px 3px 1px rgba(0, 0, 0, 0.15);\n",
              "      filter: drop-shadow(0px 1px 2px rgba(0, 0, 0, 0.3));\n",
              "      fill: #FFFFFF;\n",
              "    }\n",
              "  </style>\n",
              "\n",
              "    <script>\n",
              "      const buttonEl =\n",
              "        document.querySelector('#df-463040f5-1d06-4017-acfc-e65cb5bbe8d2 button.colab-df-convert');\n",
              "      buttonEl.style.display =\n",
              "        google.colab.kernel.accessAllowed ? 'block' : 'none';\n",
              "\n",
              "      async function convertToInteractive(key) {\n",
              "        const element = document.querySelector('#df-463040f5-1d06-4017-acfc-e65cb5bbe8d2');\n",
              "        const dataTable =\n",
              "          await google.colab.kernel.invokeFunction('convertToInteractive',\n",
              "                                                    [key], {});\n",
              "        if (!dataTable) return;\n",
              "\n",
              "        const docLinkHtml = 'Like what you see? Visit the ' +\n",
              "          '<a target=\"_blank\" href=https://colab.research.google.com/notebooks/data_table.ipynb>data table notebook</a>'\n",
              "          + ' to learn more about interactive tables.';\n",
              "        element.innerHTML = '';\n",
              "        dataTable['output_type'] = 'display_data';\n",
              "        await google.colab.output.renderOutput(dataTable, element);\n",
              "        const docLink = document.createElement('div');\n",
              "        docLink.innerHTML = docLinkHtml;\n",
              "        element.appendChild(docLink);\n",
              "      }\n",
              "    </script>\n",
              "  </div>\n",
              "\n",
              "\n",
              "<div id=\"df-f6234a06-697b-4a2b-b81b-b00c26b66aea\">\n",
              "  <button class=\"colab-df-quickchart\" onclick=\"quickchart('df-f6234a06-697b-4a2b-b81b-b00c26b66aea')\"\n",
              "            title=\"Suggest charts.\"\n",
              "            style=\"display:none;\">\n",
              "\n",
              "<svg xmlns=\"http://www.w3.org/2000/svg\" height=\"24px\"viewBox=\"0 0 24 24\"\n",
              "     width=\"24px\">\n",
              "    <g>\n",
              "        <path d=\"M19 3H5c-1.1 0-2 .9-2 2v14c0 1.1.9 2 2 2h14c1.1 0 2-.9 2-2V5c0-1.1-.9-2-2-2zM9 17H7v-7h2v7zm4 0h-2V7h2v10zm4 0h-2v-4h2v4z\"/>\n",
              "    </g>\n",
              "</svg>\n",
              "  </button>\n",
              "\n",
              "<style>\n",
              "  .colab-df-quickchart {\n",
              "      --bg-color: #E8F0FE;\n",
              "      --fill-color: #1967D2;\n",
              "      --hover-bg-color: #E2EBFA;\n",
              "      --hover-fill-color: #174EA6;\n",
              "      --disabled-fill-color: #AAA;\n",
              "      --disabled-bg-color: #DDD;\n",
              "  }\n",
              "\n",
              "  [theme=dark] .colab-df-quickchart {\n",
              "      --bg-color: #3B4455;\n",
              "      --fill-color: #D2E3FC;\n",
              "      --hover-bg-color: #434B5C;\n",
              "      --hover-fill-color: #FFFFFF;\n",
              "      --disabled-bg-color: #3B4455;\n",
              "      --disabled-fill-color: #666;\n",
              "  }\n",
              "\n",
              "  .colab-df-quickchart {\n",
              "    background-color: var(--bg-color);\n",
              "    border: none;\n",
              "    border-radius: 50%;\n",
              "    cursor: pointer;\n",
              "    display: none;\n",
              "    fill: var(--fill-color);\n",
              "    height: 32px;\n",
              "    padding: 0;\n",
              "    width: 32px;\n",
              "  }\n",
              "\n",
              "  .colab-df-quickchart:hover {\n",
              "    background-color: var(--hover-bg-color);\n",
              "    box-shadow: 0 1px 2px rgba(60, 64, 67, 0.3), 0 1px 3px 1px rgba(60, 64, 67, 0.15);\n",
              "    fill: var(--button-hover-fill-color);\n",
              "  }\n",
              "\n",
              "  .colab-df-quickchart-complete:disabled,\n",
              "  .colab-df-quickchart-complete:disabled:hover {\n",
              "    background-color: var(--disabled-bg-color);\n",
              "    fill: var(--disabled-fill-color);\n",
              "    box-shadow: none;\n",
              "  }\n",
              "\n",
              "  .colab-df-spinner {\n",
              "    border: 2px solid var(--fill-color);\n",
              "    border-color: transparent;\n",
              "    border-bottom-color: var(--fill-color);\n",
              "    animation:\n",
              "      spin 1s steps(1) infinite;\n",
              "  }\n",
              "\n",
              "  @keyframes spin {\n",
              "    0% {\n",
              "      border-color: transparent;\n",
              "      border-bottom-color: var(--fill-color);\n",
              "      border-left-color: var(--fill-color);\n",
              "    }\n",
              "    20% {\n",
              "      border-color: transparent;\n",
              "      border-left-color: var(--fill-color);\n",
              "      border-top-color: var(--fill-color);\n",
              "    }\n",
              "    30% {\n",
              "      border-color: transparent;\n",
              "      border-left-color: var(--fill-color);\n",
              "      border-top-color: var(--fill-color);\n",
              "      border-right-color: var(--fill-color);\n",
              "    }\n",
              "    40% {\n",
              "      border-color: transparent;\n",
              "      border-right-color: var(--fill-color);\n",
              "      border-top-color: var(--fill-color);\n",
              "    }\n",
              "    60% {\n",
              "      border-color: transparent;\n",
              "      border-right-color: var(--fill-color);\n",
              "    }\n",
              "    80% {\n",
              "      border-color: transparent;\n",
              "      border-right-color: var(--fill-color);\n",
              "      border-bottom-color: var(--fill-color);\n",
              "    }\n",
              "    90% {\n",
              "      border-color: transparent;\n",
              "      border-bottom-color: var(--fill-color);\n",
              "    }\n",
              "  }\n",
              "</style>\n",
              "\n",
              "  <script>\n",
              "    async function quickchart(key) {\n",
              "      const quickchartButtonEl =\n",
              "        document.querySelector('#' + key + ' button');\n",
              "      quickchartButtonEl.disabled = true;  // To prevent multiple clicks.\n",
              "      quickchartButtonEl.classList.add('colab-df-spinner');\n",
              "      try {\n",
              "        const charts = await google.colab.kernel.invokeFunction(\n",
              "            'suggestCharts', [key], {});\n",
              "      } catch (error) {\n",
              "        console.error('Error during call to suggestCharts:', error);\n",
              "      }\n",
              "      quickchartButtonEl.classList.remove('colab-df-spinner');\n",
              "      quickchartButtonEl.classList.add('colab-df-quickchart-complete');\n",
              "    }\n",
              "    (() => {\n",
              "      let quickchartButtonEl =\n",
              "        document.querySelector('#df-f6234a06-697b-4a2b-b81b-b00c26b66aea button');\n",
              "      quickchartButtonEl.style.display =\n",
              "        google.colab.kernel.accessAllowed ? 'block' : 'none';\n",
              "    })();\n",
              "  </script>\n",
              "</div>\n",
              "    </div>\n",
              "  </div>\n"
            ]
          },
          "metadata": {},
          "execution_count": 24
        }
      ]
    },
    {
      "cell_type": "markdown",
      "source": [
        "Data Cleaning"
      ],
      "metadata": {
        "id": "ShzsSx2mOiIe"
      },
      "id": "ShzsSx2mOiIe"
    },
    {
      "cell_type": "code",
      "source": [
        "iris_data.info()"
      ],
      "metadata": {
        "colab": {
          "base_uri": "https://localhost:8080/"
        },
        "id": "jqU5c1a9Okyh",
        "outputId": "98d00a75-47e9-4589-cbee-5427083d02db"
      },
      "id": "jqU5c1a9Okyh",
      "execution_count": 25,
      "outputs": [
        {
          "output_type": "stream",
          "name": "stdout",
          "text": [
            "<class 'pandas.core.frame.DataFrame'>\n",
            "RangeIndex: 150 entries, 0 to 149\n",
            "Data columns (total 6 columns):\n",
            " #   Column         Non-Null Count  Dtype  \n",
            "---  ------         --------------  -----  \n",
            " 0   Id             150 non-null    int64  \n",
            " 1   SepalLengthCm  150 non-null    float64\n",
            " 2   SepalWidthCm   150 non-null    float64\n",
            " 3   PetalLengthCm  150 non-null    float64\n",
            " 4   PetalWidthCm   150 non-null    float64\n",
            " 5   Species        150 non-null    object \n",
            "dtypes: float64(4), int64(1), object(1)\n",
            "memory usage: 7.2+ KB\n"
          ]
        }
      ]
    },
    {
      "cell_type": "markdown",
      "source": [
        "Label Encoding"
      ],
      "metadata": {
        "id": "0QAytw34OogC"
      },
      "id": "0QAytw34OogC"
    },
    {
      "cell_type": "code",
      "source": [
        "# Iris-setosa = 0 , Iris-versicolor = 1, Iris-virginica = 2\n",
        "\n",
        "from sklearn.preprocessing import LabelEncoder\n",
        "encoder = LabelEncoder()\n",
        "\n",
        "iris_data['Species'] = encoder.fit_transform(iris_data['Species'])"
      ],
      "metadata": {
        "id": "igvgiTAhOnLL"
      },
      "id": "igvgiTAhOnLL",
      "execution_count": 26,
      "outputs": []
    },
    {
      "cell_type": "code",
      "source": [
        "iris_data.head(150)"
      ],
      "metadata": {
        "colab": {
          "base_uri": "https://localhost:8080/",
          "height": 0
        },
        "id": "7LN6aE_POqdC",
        "outputId": "75cd32f7-9344-4257-f18a-c750d6c40838"
      },
      "id": "7LN6aE_POqdC",
      "execution_count": 27,
      "outputs": [
        {
          "output_type": "execute_result",
          "data": {
            "text/plain": [
              "      Id  SepalLengthCm  SepalWidthCm  PetalLengthCm  PetalWidthCm  Species\n",
              "0      1            5.1           3.5            1.4           0.2        0\n",
              "1      2            4.9           3.0            1.4           0.2        0\n",
              "2      3            4.7           3.2            1.3           0.2        0\n",
              "3      4            4.6           3.1            1.5           0.2        0\n",
              "4      5            5.0           3.6            1.4           0.2        0\n",
              "..   ...            ...           ...            ...           ...      ...\n",
              "145  146            6.7           3.0            5.2           2.3        2\n",
              "146  147            6.3           2.5            5.0           1.9        2\n",
              "147  148            6.5           3.0            5.2           2.0        2\n",
              "148  149            6.2           3.4            5.4           2.3        2\n",
              "149  150            5.9           3.0            5.1           1.8        2\n",
              "\n",
              "[150 rows x 6 columns]"
            ],
            "text/html": [
              "\n",
              "  <div id=\"df-680da56e-4189-4661-84ca-5e94733d1a84\" class=\"colab-df-container\">\n",
              "    <div>\n",
              "<style scoped>\n",
              "    .dataframe tbody tr th:only-of-type {\n",
              "        vertical-align: middle;\n",
              "    }\n",
              "\n",
              "    .dataframe tbody tr th {\n",
              "        vertical-align: top;\n",
              "    }\n",
              "\n",
              "    .dataframe thead th {\n",
              "        text-align: right;\n",
              "    }\n",
              "</style>\n",
              "<table border=\"1\" class=\"dataframe\">\n",
              "  <thead>\n",
              "    <tr style=\"text-align: right;\">\n",
              "      <th></th>\n",
              "      <th>Id</th>\n",
              "      <th>SepalLengthCm</th>\n",
              "      <th>SepalWidthCm</th>\n",
              "      <th>PetalLengthCm</th>\n",
              "      <th>PetalWidthCm</th>\n",
              "      <th>Species</th>\n",
              "    </tr>\n",
              "  </thead>\n",
              "  <tbody>\n",
              "    <tr>\n",
              "      <th>0</th>\n",
              "      <td>1</td>\n",
              "      <td>5.1</td>\n",
              "      <td>3.5</td>\n",
              "      <td>1.4</td>\n",
              "      <td>0.2</td>\n",
              "      <td>0</td>\n",
              "    </tr>\n",
              "    <tr>\n",
              "      <th>1</th>\n",
              "      <td>2</td>\n",
              "      <td>4.9</td>\n",
              "      <td>3.0</td>\n",
              "      <td>1.4</td>\n",
              "      <td>0.2</td>\n",
              "      <td>0</td>\n",
              "    </tr>\n",
              "    <tr>\n",
              "      <th>2</th>\n",
              "      <td>3</td>\n",
              "      <td>4.7</td>\n",
              "      <td>3.2</td>\n",
              "      <td>1.3</td>\n",
              "      <td>0.2</td>\n",
              "      <td>0</td>\n",
              "    </tr>\n",
              "    <tr>\n",
              "      <th>3</th>\n",
              "      <td>4</td>\n",
              "      <td>4.6</td>\n",
              "      <td>3.1</td>\n",
              "      <td>1.5</td>\n",
              "      <td>0.2</td>\n",
              "      <td>0</td>\n",
              "    </tr>\n",
              "    <tr>\n",
              "      <th>4</th>\n",
              "      <td>5</td>\n",
              "      <td>5.0</td>\n",
              "      <td>3.6</td>\n",
              "      <td>1.4</td>\n",
              "      <td>0.2</td>\n",
              "      <td>0</td>\n",
              "    </tr>\n",
              "    <tr>\n",
              "      <th>...</th>\n",
              "      <td>...</td>\n",
              "      <td>...</td>\n",
              "      <td>...</td>\n",
              "      <td>...</td>\n",
              "      <td>...</td>\n",
              "      <td>...</td>\n",
              "    </tr>\n",
              "    <tr>\n",
              "      <th>145</th>\n",
              "      <td>146</td>\n",
              "      <td>6.7</td>\n",
              "      <td>3.0</td>\n",
              "      <td>5.2</td>\n",
              "      <td>2.3</td>\n",
              "      <td>2</td>\n",
              "    </tr>\n",
              "    <tr>\n",
              "      <th>146</th>\n",
              "      <td>147</td>\n",
              "      <td>6.3</td>\n",
              "      <td>2.5</td>\n",
              "      <td>5.0</td>\n",
              "      <td>1.9</td>\n",
              "      <td>2</td>\n",
              "    </tr>\n",
              "    <tr>\n",
              "      <th>147</th>\n",
              "      <td>148</td>\n",
              "      <td>6.5</td>\n",
              "      <td>3.0</td>\n",
              "      <td>5.2</td>\n",
              "      <td>2.0</td>\n",
              "      <td>2</td>\n",
              "    </tr>\n",
              "    <tr>\n",
              "      <th>148</th>\n",
              "      <td>149</td>\n",
              "      <td>6.2</td>\n",
              "      <td>3.4</td>\n",
              "      <td>5.4</td>\n",
              "      <td>2.3</td>\n",
              "      <td>2</td>\n",
              "    </tr>\n",
              "    <tr>\n",
              "      <th>149</th>\n",
              "      <td>150</td>\n",
              "      <td>5.9</td>\n",
              "      <td>3.0</td>\n",
              "      <td>5.1</td>\n",
              "      <td>1.8</td>\n",
              "      <td>2</td>\n",
              "    </tr>\n",
              "  </tbody>\n",
              "</table>\n",
              "<p>150 rows × 6 columns</p>\n",
              "</div>\n",
              "    <div class=\"colab-df-buttons\">\n",
              "\n",
              "  <div class=\"colab-df-container\">\n",
              "    <button class=\"colab-df-convert\" onclick=\"convertToInteractive('df-680da56e-4189-4661-84ca-5e94733d1a84')\"\n",
              "            title=\"Convert this dataframe to an interactive table.\"\n",
              "            style=\"display:none;\">\n",
              "\n",
              "  <svg xmlns=\"http://www.w3.org/2000/svg\" height=\"24px\" viewBox=\"0 -960 960 960\">\n",
              "    <path d=\"M120-120v-720h720v720H120Zm60-500h600v-160H180v160Zm220 220h160v-160H400v160Zm0 220h160v-160H400v160ZM180-400h160v-160H180v160Zm440 0h160v-160H620v160ZM180-180h160v-160H180v160Zm440 0h160v-160H620v160Z\"/>\n",
              "  </svg>\n",
              "    </button>\n",
              "\n",
              "  <style>\n",
              "    .colab-df-container {\n",
              "      display:flex;\n",
              "      gap: 12px;\n",
              "    }\n",
              "\n",
              "    .colab-df-convert {\n",
              "      background-color: #E8F0FE;\n",
              "      border: none;\n",
              "      border-radius: 50%;\n",
              "      cursor: pointer;\n",
              "      display: none;\n",
              "      fill: #1967D2;\n",
              "      height: 32px;\n",
              "      padding: 0 0 0 0;\n",
              "      width: 32px;\n",
              "    }\n",
              "\n",
              "    .colab-df-convert:hover {\n",
              "      background-color: #E2EBFA;\n",
              "      box-shadow: 0px 1px 2px rgba(60, 64, 67, 0.3), 0px 1px 3px 1px rgba(60, 64, 67, 0.15);\n",
              "      fill: #174EA6;\n",
              "    }\n",
              "\n",
              "    .colab-df-buttons div {\n",
              "      margin-bottom: 4px;\n",
              "    }\n",
              "\n",
              "    [theme=dark] .colab-df-convert {\n",
              "      background-color: #3B4455;\n",
              "      fill: #D2E3FC;\n",
              "    }\n",
              "\n",
              "    [theme=dark] .colab-df-convert:hover {\n",
              "      background-color: #434B5C;\n",
              "      box-shadow: 0px 1px 3px 1px rgba(0, 0, 0, 0.15);\n",
              "      filter: drop-shadow(0px 1px 2px rgba(0, 0, 0, 0.3));\n",
              "      fill: #FFFFFF;\n",
              "    }\n",
              "  </style>\n",
              "\n",
              "    <script>\n",
              "      const buttonEl =\n",
              "        document.querySelector('#df-680da56e-4189-4661-84ca-5e94733d1a84 button.colab-df-convert');\n",
              "      buttonEl.style.display =\n",
              "        google.colab.kernel.accessAllowed ? 'block' : 'none';\n",
              "\n",
              "      async function convertToInteractive(key) {\n",
              "        const element = document.querySelector('#df-680da56e-4189-4661-84ca-5e94733d1a84');\n",
              "        const dataTable =\n",
              "          await google.colab.kernel.invokeFunction('convertToInteractive',\n",
              "                                                    [key], {});\n",
              "        if (!dataTable) return;\n",
              "\n",
              "        const docLinkHtml = 'Like what you see? Visit the ' +\n",
              "          '<a target=\"_blank\" href=https://colab.research.google.com/notebooks/data_table.ipynb>data table notebook</a>'\n",
              "          + ' to learn more about interactive tables.';\n",
              "        element.innerHTML = '';\n",
              "        dataTable['output_type'] = 'display_data';\n",
              "        await google.colab.output.renderOutput(dataTable, element);\n",
              "        const docLink = document.createElement('div');\n",
              "        docLink.innerHTML = docLinkHtml;\n",
              "        element.appendChild(docLink);\n",
              "      }\n",
              "    </script>\n",
              "  </div>\n",
              "\n",
              "\n",
              "<div id=\"df-ab00237b-8596-449f-856a-fa72992e158c\">\n",
              "  <button class=\"colab-df-quickchart\" onclick=\"quickchart('df-ab00237b-8596-449f-856a-fa72992e158c')\"\n",
              "            title=\"Suggest charts.\"\n",
              "            style=\"display:none;\">\n",
              "\n",
              "<svg xmlns=\"http://www.w3.org/2000/svg\" height=\"24px\"viewBox=\"0 0 24 24\"\n",
              "     width=\"24px\">\n",
              "    <g>\n",
              "        <path d=\"M19 3H5c-1.1 0-2 .9-2 2v14c0 1.1.9 2 2 2h14c1.1 0 2-.9 2-2V5c0-1.1-.9-2-2-2zM9 17H7v-7h2v7zm4 0h-2V7h2v10zm4 0h-2v-4h2v4z\"/>\n",
              "    </g>\n",
              "</svg>\n",
              "  </button>\n",
              "\n",
              "<style>\n",
              "  .colab-df-quickchart {\n",
              "      --bg-color: #E8F0FE;\n",
              "      --fill-color: #1967D2;\n",
              "      --hover-bg-color: #E2EBFA;\n",
              "      --hover-fill-color: #174EA6;\n",
              "      --disabled-fill-color: #AAA;\n",
              "      --disabled-bg-color: #DDD;\n",
              "  }\n",
              "\n",
              "  [theme=dark] .colab-df-quickchart {\n",
              "      --bg-color: #3B4455;\n",
              "      --fill-color: #D2E3FC;\n",
              "      --hover-bg-color: #434B5C;\n",
              "      --hover-fill-color: #FFFFFF;\n",
              "      --disabled-bg-color: #3B4455;\n",
              "      --disabled-fill-color: #666;\n",
              "  }\n",
              "\n",
              "  .colab-df-quickchart {\n",
              "    background-color: var(--bg-color);\n",
              "    border: none;\n",
              "    border-radius: 50%;\n",
              "    cursor: pointer;\n",
              "    display: none;\n",
              "    fill: var(--fill-color);\n",
              "    height: 32px;\n",
              "    padding: 0;\n",
              "    width: 32px;\n",
              "  }\n",
              "\n",
              "  .colab-df-quickchart:hover {\n",
              "    background-color: var(--hover-bg-color);\n",
              "    box-shadow: 0 1px 2px rgba(60, 64, 67, 0.3), 0 1px 3px 1px rgba(60, 64, 67, 0.15);\n",
              "    fill: var(--button-hover-fill-color);\n",
              "  }\n",
              "\n",
              "  .colab-df-quickchart-complete:disabled,\n",
              "  .colab-df-quickchart-complete:disabled:hover {\n",
              "    background-color: var(--disabled-bg-color);\n",
              "    fill: var(--disabled-fill-color);\n",
              "    box-shadow: none;\n",
              "  }\n",
              "\n",
              "  .colab-df-spinner {\n",
              "    border: 2px solid var(--fill-color);\n",
              "    border-color: transparent;\n",
              "    border-bottom-color: var(--fill-color);\n",
              "    animation:\n",
              "      spin 1s steps(1) infinite;\n",
              "  }\n",
              "\n",
              "  @keyframes spin {\n",
              "    0% {\n",
              "      border-color: transparent;\n",
              "      border-bottom-color: var(--fill-color);\n",
              "      border-left-color: var(--fill-color);\n",
              "    }\n",
              "    20% {\n",
              "      border-color: transparent;\n",
              "      border-left-color: var(--fill-color);\n",
              "      border-top-color: var(--fill-color);\n",
              "    }\n",
              "    30% {\n",
              "      border-color: transparent;\n",
              "      border-left-color: var(--fill-color);\n",
              "      border-top-color: var(--fill-color);\n",
              "      border-right-color: var(--fill-color);\n",
              "    }\n",
              "    40% {\n",
              "      border-color: transparent;\n",
              "      border-right-color: var(--fill-color);\n",
              "      border-top-color: var(--fill-color);\n",
              "    }\n",
              "    60% {\n",
              "      border-color: transparent;\n",
              "      border-right-color: var(--fill-color);\n",
              "    }\n",
              "    80% {\n",
              "      border-color: transparent;\n",
              "      border-right-color: var(--fill-color);\n",
              "      border-bottom-color: var(--fill-color);\n",
              "    }\n",
              "    90% {\n",
              "      border-color: transparent;\n",
              "      border-bottom-color: var(--fill-color);\n",
              "    }\n",
              "  }\n",
              "</style>\n",
              "\n",
              "  <script>\n",
              "    async function quickchart(key) {\n",
              "      const quickchartButtonEl =\n",
              "        document.querySelector('#' + key + ' button');\n",
              "      quickchartButtonEl.disabled = true;  // To prevent multiple clicks.\n",
              "      quickchartButtonEl.classList.add('colab-df-spinner');\n",
              "      try {\n",
              "        const charts = await google.colab.kernel.invokeFunction(\n",
              "            'suggestCharts', [key], {});\n",
              "      } catch (error) {\n",
              "        console.error('Error during call to suggestCharts:', error);\n",
              "      }\n",
              "      quickchartButtonEl.classList.remove('colab-df-spinner');\n",
              "      quickchartButtonEl.classList.add('colab-df-quickchart-complete');\n",
              "    }\n",
              "    (() => {\n",
              "      let quickchartButtonEl =\n",
              "        document.querySelector('#df-ab00237b-8596-449f-856a-fa72992e158c button');\n",
              "      quickchartButtonEl.style.display =\n",
              "        google.colab.kernel.accessAllowed ? 'block' : 'none';\n",
              "    })();\n",
              "  </script>\n",
              "</div>\n",
              "    </div>\n",
              "  </div>\n"
            ]
          },
          "metadata": {},
          "execution_count": 27
        }
      ]
    },
    {
      "cell_type": "markdown",
      "source": [
        "Data Analysis"
      ],
      "metadata": {
        "id": "N8buxAvJOwxR"
      },
      "id": "N8buxAvJOwxR"
    },
    {
      "cell_type": "code",
      "source": [
        "import matplotlib.pyplot as plt\n",
        "\n",
        "plt.pie(iris_data['Species'].value_counts(),labels=['Setosa','Versicolor','Virginica'],autopct='%0.2f')\n",
        "plt.show()"
      ],
      "metadata": {
        "colab": {
          "base_uri": "https://localhost:8080/",
          "height": 0
        },
        "id": "2KvxavMPOsuM",
        "outputId": "6fdc47a0-ee83-4162-91d0-dc0f4a86ec01"
      },
      "id": "2KvxavMPOsuM",
      "execution_count": 28,
      "outputs": [
        {
          "output_type": "display_data",
          "data": {
            "text/plain": [
              "<Figure size 640x480 with 1 Axes>"
            ],
            "image/png": "[encoded data removed]"
          },
          "metadata": {}
        }
      ]
    },
    {
      "cell_type": "markdown",
      "source": [
        "Create Dependent & Independent Variable"
      ],
      "metadata": {
        "id": "EFaBXj-pO0YP"
      },
      "id": "EFaBXj-pO0YP"
    },
    {
      "cell_type": "code",
      "source": [
        "x = iris_data.drop('Species',axis=1)\n",
        "y = iris_data['Species']\n",
        "print(x)"
      ],
      "metadata": {
        "colab": {
          "base_uri": "https://localhost:8080/"
        },
        "id": "L-dTRfHHOyuD",
        "outputId": "54c873eb-eaf8-4351-9265-069a1feb26b9"
      },
      "id": "L-dTRfHHOyuD",
      "execution_count": 29,
      "outputs": [
        {
          "output_type": "stream",
          "name": "stdout",
          "text": [
            "      Id  SepalLengthCm  SepalWidthCm  PetalLengthCm  PetalWidthCm\n",
            "0      1            5.1           3.5            1.4           0.2\n",
            "1      2            4.9           3.0            1.4           0.2\n",
            "2      3            4.7           3.2            1.3           0.2\n",
            "3      4            4.6           3.1            1.5           0.2\n",
            "4      5            5.0           3.6            1.4           0.2\n",
            "..   ...            ...           ...            ...           ...\n",
            "145  146            6.7           3.0            5.2           2.3\n",
            "146  147            6.3           2.5            5.0           1.9\n",
            "147  148            6.5           3.0            5.2           2.0\n",
            "148  149            6.2           3.4            5.4           2.3\n",
            "149  150            5.9           3.0            5.1           1.8\n",
            "\n",
            "[150 rows x 5 columns]\n"
          ]
        }
      ]
    },
    {
      "cell_type": "code",
      "source": [
        "print(y)"
      ],
      "metadata": {
        "colab": {
          "base_uri": "https://localhost:8080/"
        },
        "id": "4578oyMOO4Pd",
        "outputId": "c8c746ac-6984-4db1-c5fc-28bbded7afae"
      },
      "id": "4578oyMOO4Pd",
      "execution_count": 30,
      "outputs": [
        {
          "output_type": "stream",
          "name": "stdout",
          "text": [
            "0      0\n",
            "1      0\n",
            "2      0\n",
            "3      0\n",
            "4      0\n",
            "      ..\n",
            "145    2\n",
            "146    2\n",
            "147    2\n",
            "148    2\n",
            "149    2\n",
            "Name: Species, Length: 150, dtype: int64\n"
          ]
        }
      ]
    },
    {
      "cell_type": "markdown",
      "source": [
        "Split data into Train and test dataset"
      ],
      "metadata": {
        "id": "cb5xu45bO9Ia"
      },
      "id": "cb5xu45bO9Ia"
    },
    {
      "cell_type": "code",
      "source": [
        "from sklearn.model_selection import train_test_split\n",
        "\n",
        "x_train,x_test,y_train,y_test = train_test_split(x,y,test_size=0.2,random_state=2)"
      ],
      "metadata": {
        "id": "6aQ0PpOeO9gy"
      },
      "id": "6aQ0PpOeO9gy",
      "execution_count": 31,
      "outputs": []
    },
    {
      "cell_type": "markdown",
      "source": [
        "Train the model"
      ],
      "metadata": {
        "id": "-rK4sVFcPA9a"
      },
      "id": "-rK4sVFcPA9a"
    },
    {
      "cell_type": "code",
      "source": [
        "from sklearn.linear_model import LogisticRegression\n",
        "\n",
        "model = LogisticRegression(max_iter = 1000)\n",
        "\n",
        "model.fit(x_train,y_train)"
      ],
      "metadata": {
        "colab": {
          "base_uri": "https://localhost:8080/",
          "height": 0
        },
        "id": "1gjaY-zrO_jk",
        "outputId": "399033d4-30fa-4736-c12d-f6bc3ed67c2e"
      },
      "id": "1gjaY-zrO_jk",
      "execution_count": 32,
      "outputs": [
        {
          "output_type": "execute_result",
          "data": {
            "text/plain": [
              "LogisticRegression(max_iter=1000)"
            ],
            "text/html": [
              "<style>#sk-container-id-3 {color: black;background-color: white;}#sk-container-id-3 pre{padding: 0;}#sk-container-id-3 div.sk-toggleable {background-color: white;}#sk-container-id-3 label.sk-toggleable__label {cursor: pointer;display: block;width: 100%;margin-bottom: 0;padding: 0.3em;box-sizing: border-box;text-align: center;}#sk-container-id-3 label.sk-toggleable__label-arrow:before {content: \"▸\";float: left;margin-right: 0.25em;color: #696969;}#sk-container-id-3 label.sk-toggleable__label-arrow:hover:before {color: black;}#sk-container-id-3 div.sk-estimator:hover label.sk-toggleable__label-arrow:before {color: black;}#sk-container-id-3 div.sk-toggleable__content {max-height: 0;max-width: 0;overflow: hidden;text-align: left;background-color: #f0f8ff;}#sk-container-id-3 div.sk-toggleable__content pre {margin: 0.2em;color: black;border-radius: 0.25em;background-color: #f0f8ff;}#sk-container-id-3 input.sk-toggleable__control:checked~div.sk-toggleable__content {max-height: 200px;max-width: 100%;overflow: auto;}#sk-container-id-3 input.sk-toggleable__control:checked~label.sk-toggleable__label-arrow:before {content: \"▾\";}#sk-container-id-3 div.sk-estimator input.sk-toggleable__control:checked~label.sk-toggleable__label {background-color: #d4ebff;}#sk-container-id-3 div.sk-label input.sk-toggleable__control:checked~label.sk-toggleable__label {background-color: #d4ebff;}#sk-container-id-3 input.sk-hidden--visually {border: 0;clip: rect(1px 1px 1px 1px);clip: rect(1px, 1px, 1px, 1px);height: 1px;margin: -1px;overflow: hidden;padding: 0;position: absolute;width: 1px;}#sk-container-id-3 div.sk-estimator {font-family: monospace;background-color: #f0f8ff;border: 1px dotted black;border-radius: 0.25em;box-sizing: border-box;margin-bottom: 0.5em;}#sk-container-id-3 div.sk-estimator:hover {background-color: #d4ebff;}#sk-container-id-3 div.sk-parallel-item::after {content: \"\";width: 100%;border-bottom: 1px solid gray;flex-grow: 1;}#sk-container-id-3 div.sk-label:hover label.sk-toggleable__label {background-color: #d4ebff;}#sk-container-id-3 div.sk-serial::before {content: \"\";position: absolute;border-left: 1px solid gray;box-sizing: border-box;top: 0;bottom: 0;left: 50%;z-index: 0;}#sk-container-id-3 div.sk-serial {display: flex;flex-direction: column;align-items: center;background-color: white;padding-right: 0.2em;padding-left: 0.2em;position: relative;}#sk-container-id-3 div.sk-item {position: relative;z-index: 1;}#sk-container-id-3 div.sk-parallel {display: flex;align-items: stretch;justify-content: center;background-color: white;position: relative;}#sk-container-id-3 div.sk-item::before, #sk-container-id-3 div.sk-parallel-item::before {content: \"\";position: absolute;border-left: 1px solid gray;box-sizing: border-box;top: 0;bottom: 0;left: 50%;z-index: -1;}#sk-container-id-3 div.sk-parallel-item {display: flex;flex-direction: column;z-index: 1;position: relative;background-color: white;}#sk-container-id-3 div.sk-parallel-item:first-child::after {align-self: flex-end;width: 50%;}#sk-container-id-3 div.sk-parallel-item:last-child::after {align-self: flex-start;width: 50%;}#sk-container-id-3 div.sk-parallel-item:only-child::after {width: 0;}#sk-container-id-3 div.sk-dashed-wrapped {border: 1px dashed gray;margin: 0 0.4em 0.5em 0.4em;box-sizing: border-box;padding-bottom: 0.4em;background-color: white;}#sk-container-id-3 div.sk-label label {font-family: monospace;font-weight: bold;display: inline-block;line-height: 1.2em;}#sk-container-id-3 div.sk-label-container {text-align: center;}#sk-container-id-3 div.sk-container {/* jupyter's `normalize.less` sets `[hidden] { display: none; }` but bootstrap.min.css set `[hidden] { display: none !important; }` so we also need the `!important` here to be able to override the default hidden behavior on the sphinx rendered scikit-learn.org. See: https://github.com/scikit-learn/scikit-learn/issues/21755 */display: inline-block !important;position: relative;}#sk-container-id-3 div.sk-text-repr-fallback {display: none;}</style><div id=\"sk-container-id-3\" class=\"sk-top-container\"><div class=\"sk-text-repr-fallback\"><pre>LogisticRegression(max_iter=1000)</pre><b>In a Jupyter environment, please rerun this cell to show the HTML representation or trust the notebook. <br />On GitHub, the HTML representation is unable to render, please try loading this page with nbviewer.org.</b></div><div class=\"sk-container\" hidden><div class=\"sk-item\"><div class=\"sk-estimator sk-toggleable\"><input class=\"sk-toggleable__control sk-hidden--visually\" id=\"sk-estimator-id-3\" type=\"checkbox\" checked><label for=\"sk-estimator-id-3\" class=\"sk-toggleable__label sk-toggleable__label-arrow\">LogisticRegression</label><div class=\"sk-toggleable__content\"><pre>LogisticRegression(max_iter=1000)</pre></div></div></div></div></div>"
            ]
          },
          "metadata": {},
          "execution_count": 32
        }
      ]
    },
    {
      "cell_type": "markdown",
      "source": [
        "Predict train data"
      ],
      "metadata": {
        "id": "kYnTOFupPEMQ"
      },
      "id": "kYnTOFupPEMQ"
    },
    {
      "cell_type": "code",
      "source": [
        "pred_train = model.predict(x_train)"
      ],
      "metadata": {
        "id": "vNaR35F9PFC8"
      },
      "id": "vNaR35F9PFC8",
      "execution_count": 33,
      "outputs": []
    },
    {
      "cell_type": "markdown",
      "source": [
        "Check accuracy on train data"
      ],
      "metadata": {
        "id": "L9Y9B05YPG1l"
      },
      "id": "L9Y9B05YPG1l"
    },
    {
      "cell_type": "code",
      "source": [
        "from sklearn.metrics import confusion_matrix,accuracy_score\n",
        "accuracy_score(y_train,pred_train)"
      ],
      "metadata": {
        "colab": {
          "base_uri": "https://localhost:8080/"
        },
        "id": "DZ3E6PavPLmo",
        "outputId": "69a4a4e5-a7ba-4c64-9b87-72d60fb5af3d"
      },
      "id": "DZ3E6PavPLmo",
      "execution_count": 34,
      "outputs": [
        {
          "output_type": "execute_result",
          "data": {
            "text/plain": [
              "1.0"
            ]
          },
          "metadata": {},
          "execution_count": 34
        }
      ]
    },
    {
      "cell_type": "markdown",
      "source": [
        "Predict test data"
      ],
      "metadata": {
        "id": "gxspWfLnPNTY"
      },
      "id": "gxspWfLnPNTY"
    },
    {
      "cell_type": "code",
      "source": [
        "pred_test = model.predict(x_test)"
      ],
      "metadata": {
        "id": "7Dna8qZtPOBU"
      },
      "id": "7Dna8qZtPOBU",
      "execution_count": 35,
      "outputs": []
    },
    {
      "cell_type": "markdown",
      "source": [
        "Check accuracy and print Confusion matrix"
      ],
      "metadata": {
        "id": "wsjLQbtIPPso"
      },
      "id": "wsjLQbtIPPso"
    },
    {
      "cell_type": "code",
      "source": [
        "accuracy_score(y_test,pred_test)\n",
        "confusion_matrix(y_test,pred_test)"
      ],
      "metadata": {
        "colab": {
          "base_uri": "https://localhost:8080/"
        },
        "id": "S5TWDRDRPUaL",
        "outputId": "c0102117-c08e-4602-e6d3-bc614ccd7650"
      },
      "id": "S5TWDRDRPUaL",
      "execution_count": 36,
      "outputs": [
        {
          "output_type": "execute_result",
          "data": {
            "text/plain": [
              "array([[14,  0,  0],\n",
              "       [ 0,  8,  0],\n",
              "       [ 0,  0,  8]])"
            ]
          },
          "metadata": {},
          "execution_count": 36
        }
      ]
    },
    {
      "cell_type": "markdown",
      "source": [
        "# Practical 04 - KNeighbor"
      ],
      "metadata": {
        "id": "_03qIH0CmC8_"
      },
      "id": "_03qIH0CmC8_"
    },
    {
      "cell_type": "markdown",
      "id": "e857cab9",
      "metadata": {
        "id": "e857cab9"
      },
      "source": [
        "Importing the dataset"
      ]
    },
    {
      "cell_type": "code",
      "execution_count": 37,
      "id": "76c4c40e",
      "metadata": {
        "scrolled": true,
        "id": "76c4c40e"
      },
      "outputs": [],
      "source": [
        "import numpy as np\n",
        "import matplotlib.pyplot as plt\n",
        "import pandas as pd"
      ]
    },
    {
      "cell_type": "code",
      "execution_count": 38,
      "id": "151323a7",
      "metadata": {
        "scrolled": true,
        "id": "151323a7"
      },
      "outputs": [],
      "source": [
        "dataset=pd.read_csv('/content/drive/MyDrive/csv_files/Social_Network_Ads.csv')"
      ]
    },
    {
      "cell_type": "code",
      "execution_count": 39,
      "id": "e71d1812",
      "metadata": {
        "scrolled": true,
        "id": "e71d1812"
      },
      "outputs": [],
      "source": [
        "x = dataset.iloc[:,:-1].values\n",
        "y = dataset.iloc[:,-1].values"
      ]
    },
    {
      "cell_type": "markdown",
      "id": "6eb7775b",
      "metadata": {
        "id": "6eb7775b"
      },
      "source": [
        "Splitting the dataset into the training set and test set"
      ]
    },
    {
      "cell_type": "code",
      "execution_count": 40,
      "id": "fc98fb1e",
      "metadata": {
        "scrolled": true,
        "id": "fc98fb1e"
      },
      "outputs": [],
      "source": [
        "from sklearn.model_selection import train_test_split\n",
        "x_train, x_test, y_train, y_test = train_test_split(x,y, test_size=0.25, random_state=0)"
      ]
    },
    {
      "cell_type": "code",
      "execution_count": 41,
      "id": "6193a1c3",
      "metadata": {
        "scrolled": true,
        "id": "6193a1c3",
        "colab": {
          "base_uri": "https://localhost:8080/"
        },
        "outputId": "ff7d7416-4954-4e64-b2de-ab5a610dce52"
      },
      "outputs": [
        {
          "output_type": "stream",
          "name": "stdout",
          "text": [
            "[[    30  87000]\n",
            " [    38  50000]\n",
            " [    35  75000]\n",
            " [    30  79000]\n",
            " [    35  50000]\n",
            " [    27  20000]\n",
            " [    31  15000]\n",
            " [    36 144000]\n",
            " [    18  68000]\n",
            " [    47  43000]\n",
            " [    30  49000]\n",
            " [    28  55000]\n",
            " [    37  55000]\n",
            " [    39  77000]\n",
            " [    20  86000]\n",
            " [    32 117000]\n",
            " [    37  77000]\n",
            " [    19  85000]\n",
            " [    55 130000]\n",
            " [    35  22000]\n",
            " [    35  47000]\n",
            " [    47 144000]\n",
            " [    41  51000]\n",
            " [    47 105000]\n",
            " [    23  28000]\n",
            " [    49 141000]\n",
            " [    28  87000]\n",
            " [    29  80000]\n",
            " [    37  62000]\n",
            " [    32  86000]\n",
            " [    21  88000]\n",
            " [    37  79000]\n",
            " [    57  60000]\n",
            " [    37  53000]\n",
            " [    24  58000]\n",
            " [    18  52000]\n",
            " [    22  81000]\n",
            " [    34  43000]\n",
            " [    31  34000]\n",
            " [    49  36000]\n",
            " [    27  88000]\n",
            " [    41  52000]\n",
            " [    27  84000]\n",
            " [    35  20000]\n",
            " [    43 112000]\n",
            " [    27  58000]\n",
            " [    37  80000]\n",
            " [    52  90000]\n",
            " [    26  30000]\n",
            " [    49  86000]\n",
            " [    57 122000]\n",
            " [    34  25000]\n",
            " [    35  57000]\n",
            " [    34 115000]\n",
            " [    59  88000]\n",
            " [    45  32000]\n",
            " [    29  83000]\n",
            " [    26  80000]\n",
            " [    49  28000]\n",
            " [    23  20000]\n",
            " [    32  18000]\n",
            " [    60  42000]\n",
            " [    19  76000]\n",
            " [    36  99000]\n",
            " [    19  26000]\n",
            " [    60  83000]\n",
            " [    24  89000]\n",
            " [    27  58000]\n",
            " [    40  47000]\n",
            " [    42  70000]\n",
            " [    32 150000]\n",
            " [    35  77000]\n",
            " [    22  63000]\n",
            " [    45  22000]\n",
            " [    27  89000]\n",
            " [    18  82000]\n",
            " [    42  79000]\n",
            " [    40  60000]\n",
            " [    53  34000]\n",
            " [    47 107000]\n",
            " [    58 144000]\n",
            " [    59  83000]\n",
            " [    24  55000]\n",
            " [    26  35000]\n",
            " [    58  38000]\n",
            " [    42  80000]\n",
            " [    40  75000]\n",
            " [    59 130000]\n",
            " [    46  41000]\n",
            " [    41  60000]\n",
            " [    42  64000]\n",
            " [    37 146000]\n",
            " [    23  48000]\n",
            " [    25  33000]\n",
            " [    24  84000]\n",
            " [    27  96000]\n",
            " [    23  63000]\n",
            " [    48  33000]\n",
            " [    48  90000]\n",
            " [    42 104000]]\n"
          ]
        }
      ],
      "source": [
        "#print(x_train)\n",
        "print(x_test)"
      ]
    },
    {
      "cell_type": "raw",
      "id": "9ab61b7f",
      "metadata": {
        "id": "9ab61b7f"
      },
      "source": [
        "Feature Scaling"
      ]
    },
    {
      "cell_type": "code",
      "execution_count": 42,
      "id": "e084ae04",
      "metadata": {
        "scrolled": true,
        "id": "e084ae04"
      },
      "outputs": [],
      "source": [
        "from sklearn.preprocessing import StandardScaler\n",
        "sc=StandardScaler()\n",
        "x_train = sc.fit_transform(x_train)\n",
        "x_test = sc.transform(x_test)"
      ]
    },
    {
      "cell_type": "code",
      "execution_count": 43,
      "id": "7a4f2ed2",
      "metadata": {
        "scrolled": true,
        "id": "7a4f2ed2",
        "colab": {
          "base_uri": "https://localhost:8080/"
        },
        "outputId": "578c2376-dcae-49fe-f928-3a2e62ee5bc2"
      },
      "outputs": [
        {
          "output_type": "stream",
          "name": "stdout",
          "text": [
            "[[ 0.58 -0.89]\n",
            " [-0.61  1.46]\n",
            " [-0.01 -0.57]\n",
            " [-0.61  1.9 ]\n",
            " [ 1.37 -1.41]\n",
            " [ 1.47  1.  ]\n",
            " [ 0.09 -0.8 ]\n",
            " [-0.01 -0.25]\n",
            " [-0.21 -0.57]\n",
            " [-0.21 -0.19]\n",
            " [-0.31 -1.29]\n",
            " [-0.31 -0.57]\n",
            " [ 0.38  0.1 ]\n",
            " [ 0.88 -0.6 ]\n",
            " [ 2.07 -1.18]\n",
            " [ 1.08 -0.13]\n",
            " [ 0.68  1.78]\n",
            " [-0.71  0.56]\n",
            " [ 0.78  0.36]\n",
            " [ 0.88 -0.54]\n",
            " [-1.2  -1.58]\n",
            " [ 2.17  0.94]\n",
            " [-0.01  1.23]\n",
            " [ 0.19  1.08]\n",
            " [ 0.38 -0.48]\n",
            " [-0.31 -0.31]\n",
            " [ 0.98 -0.83]\n",
            " [ 0.98  1.87]\n",
            " [-0.01  1.26]\n",
            " [-0.9   2.27]\n",
            " [-1.2  -1.58]\n",
            " [ 2.17 -0.8 ]\n",
            " [-1.4  -1.47]\n",
            " [ 0.38  2.3 ]\n",
            " [ 0.78  0.77]\n",
            " [-1.   -0.31]\n",
            " [ 0.09  0.77]\n",
            " [-1.    0.56]\n",
            " [ 0.28  0.07]\n",
            " [ 0.68 -1.26]\n",
            " [-0.51 -0.02]\n",
            " [-1.8   0.36]\n",
            " [-0.71  0.13]\n",
            " [ 0.38  0.3 ]\n",
            " [-0.31  0.07]\n",
            " [-0.51  2.3 ]\n",
            " [ 0.19  0.04]\n",
            " [ 1.27  2.22]\n",
            " [ 0.78  0.27]\n",
            " [-0.31  0.16]\n",
            " [-0.01 -0.54]\n",
            " [-0.21  0.16]\n",
            " [-0.11  0.24]\n",
            " [-0.01 -0.25]\n",
            " [ 2.17  1.11]\n",
            " [-1.8   0.36]\n",
            " [ 1.87  0.13]\n",
            " [ 0.38 -0.13]\n",
            " [-1.2   0.3 ]\n",
            " [ 0.78  1.37]\n",
            " [-0.31 -0.25]\n",
            " [-1.7  -0.05]\n",
            " [-1.   -0.74]\n",
            " [ 0.28  0.5 ]\n",
            " [-0.11 -1.06]\n",
            " [-1.1   0.59]\n",
            " [ 0.09 -0.8 ]\n",
            " [-1.    1.55]\n",
            " [-0.71  1.4 ]\n",
            " [-1.3   0.5 ]\n",
            " [-0.31  0.04]\n",
            " [-0.11  0.01]\n",
            " [-0.31 -0.89]\n",
            " [ 0.88 -1.35]\n",
            " [-0.31  2.24]\n",
            " [ 0.98  1.98]\n",
            " [-1.2   0.48]\n",
            " [-1.3   0.27]\n",
            " [ 1.37  1.98]\n",
            " [ 1.27 -1.35]\n",
            " [-0.31 -0.28]\n",
            " [-0.51  1.26]\n",
            " [-0.8   1.08]\n",
            " [ 0.98 -1.06]\n",
            " [ 0.28  0.3 ]\n",
            " [ 0.98  0.77]\n",
            " [-0.71 -1.5 ]\n",
            " [-0.71  0.04]\n",
            " [ 0.48  1.72]\n",
            " [ 2.07  0.19]\n",
            " [-1.99 -0.74]\n",
            " [-0.21  1.4 ]\n",
            " [ 0.38  0.59]\n",
            " [ 0.88 -1.15]\n",
            " [-1.2  -0.77]\n",
            " [ 0.19  0.24]\n",
            " [ 0.78 -0.31]\n",
            " [ 2.07 -0.8 ]\n",
            " [ 0.78  0.13]\n",
            " [-0.31  0.62]\n",
            " [-1.   -0.31]\n",
            " [ 0.19 -0.36]\n",
            " [ 2.07  2.13]\n",
            " [ 1.87 -1.26]\n",
            " [ 1.37 -0.92]\n",
            " [ 0.88  1.26]\n",
            " [ 1.47  2.13]\n",
            " [-0.31 -1.23]\n",
            " [ 1.97  0.91]\n",
            " [ 0.68 -0.71]\n",
            " [-1.5   0.36]\n",
            " [ 0.78 -1.35]\n",
            " [ 0.38 -0.13]\n",
            " [-1.    0.42]\n",
            " [-0.01 -0.31]\n",
            " [-1.2   0.42]\n",
            " [-0.9  -1.21]\n",
            " [-0.11  0.04]\n",
            " [-1.6  -0.42]\n",
            " [ 0.98 -1.  ]\n",
            " [ 1.08 -1.21]\n",
            " [-0.01 -0.13]\n",
            " [-1.1  -1.52]\n",
            " [ 0.78 -1.21]\n",
            " [ 0.98  2.07]\n",
            " [-1.2  -1.52]\n",
            " [-0.31  0.79]\n",
            " [ 0.09 -0.31]\n",
            " [-1.4  -1.23]\n",
            " [-0.61 -1.5 ]\n",
            " [ 0.78  0.53]\n",
            " [-0.31 -0.34]\n",
            " [ 1.77 -0.28]\n",
            " [ 0.88 -1.03]\n",
            " [ 0.19  0.07]\n",
            " [-0.61  0.88]\n",
            " [-1.89 -1.41]\n",
            " [-1.3   0.59]\n",
            " [-0.31  0.53]\n",
            " [-1.   -1.09]\n",
            " [ 1.18 -1.44]\n",
            " [ 0.19 -0.31]\n",
            " [ 1.18 -0.74]\n",
            " [-0.31  0.07]\n",
            " [ 0.19  2.1 ]\n",
            " [ 0.78 -1.09]\n",
            " [ 0.09  0.04]\n",
            " [-1.8   0.13]\n",
            " [-0.9   0.16]\n",
            " [-0.71  0.19]\n",
            " [ 0.88 -1.29]\n",
            " [ 0.19 -0.25]\n",
            " [-0.41  1.23]\n",
            " [-0.01  0.3 ]\n",
            " [ 0.38  0.16]\n",
            " [ 0.88 -0.65]\n",
            " [ 0.09  0.16]\n",
            " [-1.89 -1.29]\n",
            " [-0.11  0.3 ]\n",
            " [-0.21 -0.28]\n",
            " [ 0.28 -0.51]\n",
            " [-0.21  1.61]\n",
            " [ 0.98 -1.18]\n",
            " [-0.21  1.64]\n",
            " [ 1.27  1.87]\n",
            " [-1.1  -0.36]\n",
            " [-0.01  0.04]\n",
            " [ 0.09 -0.25]\n",
            " [-1.6  -1.23]\n",
            " [-0.51 -0.28]\n",
            " [ 0.98  0.13]\n",
            " [ 1.97 -1.35]\n",
            " [ 1.47  0.07]\n",
            " [-0.61  1.37]\n",
            " [ 1.57  0.01]\n",
            " [-0.8   0.3 ]\n",
            " [ 1.97  0.74]\n",
            " [-1.2  -0.51]\n",
            " [ 0.68  0.27]\n",
            " [-1.4  -0.42]\n",
            " [ 0.19  0.16]\n",
            " [-0.51 -1.21]\n",
            " [ 0.58  2.01]\n",
            " [-1.6  -1.5 ]\n",
            " [-0.51 -0.54]\n",
            " [ 0.48  1.84]\n",
            " [-1.4  -1.09]\n",
            " [ 0.78 -1.38]\n",
            " [-0.31 -0.42]\n",
            " [ 1.57  1.  ]\n",
            " [ 0.98  1.43]\n",
            " [-0.31 -0.48]\n",
            " [-0.11  2.16]\n",
            " [-1.5  -0.1 ]\n",
            " [-0.11  1.95]\n",
            " [-0.71 -0.34]\n",
            " [-0.51 -0.83]\n",
            " [ 0.68 -1.38]\n",
            " [-0.8  -1.58]\n",
            " [-1.89 -1.47]\n",
            " [ 1.08  0.13]\n",
            " [ 0.09  1.52]\n",
            " [-0.31  0.1 ]\n",
            " [ 0.09  0.04]\n",
            " [-1.4  -1.35]\n",
            " [ 0.28  0.07]\n",
            " [-0.9   0.39]\n",
            " [ 1.57 -1.26]\n",
            " [-0.31 -0.74]\n",
            " [-0.11  0.16]\n",
            " [-0.9  -0.65]\n",
            " [-0.71 -0.05]\n",
            " [ 0.38 -0.45]\n",
            " [-0.8   1.9 ]\n",
            " [ 1.37  1.29]\n",
            " [ 1.18 -0.97]\n",
            " [ 1.77  1.84]\n",
            " [-0.9  -0.25]\n",
            " [-0.8   0.56]\n",
            " [-1.2  -1.55]\n",
            " [-0.51 -1.12]\n",
            " [ 0.28  0.07]\n",
            " [-0.21 -1.06]\n",
            " [ 1.67  1.61]\n",
            " [ 0.98  1.78]\n",
            " [ 0.28  0.04]\n",
            " [-0.8  -0.22]\n",
            " [-0.11  0.07]\n",
            " [ 0.28 -0.19]\n",
            " [ 1.97 -0.65]\n",
            " [-0.8   1.35]\n",
            " [-1.8  -0.6 ]\n",
            " [-0.11  0.13]\n",
            " [ 0.28 -0.31]\n",
            " [ 1.08  0.56]\n",
            " [-1.    0.27]\n",
            " [ 1.47  0.36]\n",
            " [ 0.19 -0.36]\n",
            " [ 2.17 -1.03]\n",
            " [-0.31  1.11]\n",
            " [-1.7   0.07]\n",
            " [-0.01  0.04]\n",
            " [ 0.09  1.06]\n",
            " [-0.11 -0.36]\n",
            " [-1.2   0.07]\n",
            " [-0.31 -1.35]\n",
            " [ 1.57  1.11]\n",
            " [-0.8  -1.52]\n",
            " [ 0.09  1.87]\n",
            " [-0.9  -0.77]\n",
            " [-0.51 -0.77]\n",
            " [-0.31 -0.92]\n",
            " [ 0.28 -0.71]\n",
            " [ 0.28  0.07]\n",
            " [ 0.09  1.87]\n",
            " [-1.1   1.95]\n",
            " [-1.7  -1.55]\n",
            " [-1.2  -1.09]\n",
            " [-0.71 -0.1 ]\n",
            " [ 0.09  0.1 ]\n",
            " [ 0.28  0.27]\n",
            " [ 0.88 -0.57]\n",
            " [ 0.28 -1.15]\n",
            " [-0.11  0.68]\n",
            " [ 2.17 -0.68]\n",
            " [-1.3  -1.38]\n",
            " [-1.   -0.94]\n",
            " [-0.01 -0.42]\n",
            " [-0.21 -0.45]\n",
            " [-1.8  -0.97]\n",
            " [ 1.77  1.  ]\n",
            " [ 0.19 -0.36]\n",
            " [ 0.38  1.11]\n",
            " [-1.8  -1.35]\n",
            " [ 0.19 -0.13]\n",
            " [ 0.88 -1.44]\n",
            " [-1.99  0.48]\n",
            " [-0.31  0.27]\n",
            " [ 1.87 -1.06]\n",
            " [-0.41  0.07]\n",
            " [ 1.08 -0.89]\n",
            " [-1.1  -1.12]\n",
            " [-1.89  0.01]\n",
            " [ 0.09  0.27]\n",
            " [-1.2   0.33]\n",
            " [-1.3   0.3 ]\n",
            " [-1.    0.45]\n",
            " [ 1.67 -0.89]\n",
            " [ 1.18  0.53]\n",
            " [ 1.08  0.53]\n",
            " [ 1.37  2.33]\n",
            " [-0.31 -0.13]\n",
            " [ 0.38 -0.45]\n",
            " [-0.41 -0.77]\n",
            " [-0.11 -0.51]\n",
            " [ 0.98 -1.15]\n",
            " [-0.9  -0.77]\n",
            " [-0.21 -0.51]\n",
            " [-1.1  -0.45]\n",
            " [-1.2   1.4 ]]\n"
          ]
        }
      ],
      "source": [
        "print(x_train)"
      ]
    },
    {
      "cell_type": "markdown",
      "id": "56881130",
      "metadata": {
        "id": "56881130"
      },
      "source": [
        "Testing"
      ]
    },
    {
      "cell_type": "code",
      "execution_count": 44,
      "id": "214d0b6c",
      "metadata": {
        "scrolled": true,
        "colab": {
          "base_uri": "https://localhost:8080/",
          "height": 0
        },
        "id": "214d0b6c",
        "outputId": "110e74ee-463c-41d8-be75-df9b58fb8c7c"
      },
      "outputs": [
        {
          "output_type": "execute_result",
          "data": {
            "text/plain": [
              "KNeighborsClassifier()"
            ],
            "text/html": [
              "<style>#sk-container-id-4 {color: black;background-color: white;}#sk-container-id-4 pre{padding: 0;}#sk-container-id-4 div.sk-toggleable {background-color: white;}#sk-container-id-4 label.sk-toggleable__label {cursor: pointer;display: block;width: 100%;margin-bottom: 0;padding: 0.3em;box-sizing: border-box;text-align: center;}#sk-container-id-4 label.sk-toggleable__label-arrow:before {content: \"▸\";float: left;margin-right: 0.25em;color: #696969;}#sk-container-id-4 label.sk-toggleable__label-arrow:hover:before {color: black;}#sk-container-id-4 div.sk-estimator:hover label.sk-toggleable__label-arrow:before {color: black;}#sk-container-id-4 div.sk-toggleable__content {max-height: 0;max-width: 0;overflow: hidden;text-align: left;background-color: #f0f8ff;}#sk-container-id-4 div.sk-toggleable__content pre {margin: 0.2em;color: black;border-radius: 0.25em;background-color: #f0f8ff;}#sk-container-id-4 input.sk-toggleable__control:checked~div.sk-toggleable__content {max-height: 200px;max-width: 100%;overflow: auto;}#sk-container-id-4 input.sk-toggleable__control:checked~label.sk-toggleable__label-arrow:before {content: \"▾\";}#sk-container-id-4 div.sk-estimator input.sk-toggleable__control:checked~label.sk-toggleable__label {background-color: #d4ebff;}#sk-container-id-4 div.sk-label input.sk-toggleable__control:checked~label.sk-toggleable__label {background-color: #d4ebff;}#sk-container-id-4 input.sk-hidden--visually {border: 0;clip: rect(1px 1px 1px 1px);clip: rect(1px, 1px, 1px, 1px);height: 1px;margin: -1px;overflow: hidden;padding: 0;position: absolute;width: 1px;}#sk-container-id-4 div.sk-estimator {font-family: monospace;background-color: #f0f8ff;border: 1px dotted black;border-radius: 0.25em;box-sizing: border-box;margin-bottom: 0.5em;}#sk-container-id-4 div.sk-estimator:hover {background-color: #d4ebff;}#sk-container-id-4 div.sk-parallel-item::after {content: \"\";width: 100%;border-bottom: 1px solid gray;flex-grow: 1;}#sk-container-id-4 div.sk-label:hover label.sk-toggleable__label {background-color: #d4ebff;}#sk-container-id-4 div.sk-serial::before {content: \"\";position: absolute;border-left: 1px solid gray;box-sizing: border-box;top: 0;bottom: 0;left: 50%;z-index: 0;}#sk-container-id-4 div.sk-serial {display: flex;flex-direction: column;align-items: center;background-color: white;padding-right: 0.2em;padding-left: 0.2em;position: relative;}#sk-container-id-4 div.sk-item {position: relative;z-index: 1;}#sk-container-id-4 div.sk-parallel {display: flex;align-items: stretch;justify-content: center;background-color: white;position: relative;}#sk-container-id-4 div.sk-item::before, #sk-container-id-4 div.sk-parallel-item::before {content: \"\";position: absolute;border-left: 1px solid gray;box-sizing: border-box;top: 0;bottom: 0;left: 50%;z-index: -1;}#sk-container-id-4 div.sk-parallel-item {display: flex;flex-direction: column;z-index: 1;position: relative;background-color: white;}#sk-container-id-4 div.sk-parallel-item:first-child::after {align-self: flex-end;width: 50%;}#sk-container-id-4 div.sk-parallel-item:last-child::after {align-self: flex-start;width: 50%;}#sk-container-id-4 div.sk-parallel-item:only-child::after {width: 0;}#sk-container-id-4 div.sk-dashed-wrapped {border: 1px dashed gray;margin: 0 0.4em 0.5em 0.4em;box-sizing: border-box;padding-bottom: 0.4em;background-color: white;}#sk-container-id-4 div.sk-label label {font-family: monospace;font-weight: bold;display: inline-block;line-height: 1.2em;}#sk-container-id-4 div.sk-label-container {text-align: center;}#sk-container-id-4 div.sk-container {/* jupyter's `normalize.less` sets `[hidden] { display: none; }` but bootstrap.min.css set `[hidden] { display: none !important; }` so we also need the `!important` here to be able to override the default hidden behavior on the sphinx rendered scikit-learn.org. See: https://github.com/scikit-learn/scikit-learn/issues/21755 */display: inline-block !important;position: relative;}#sk-container-id-4 div.sk-text-repr-fallback {display: none;}</style><div id=\"sk-container-id-4\" class=\"sk-top-container\"><div class=\"sk-text-repr-fallback\"><pre>KNeighborsClassifier()</pre><b>In a Jupyter environment, please rerun this cell to show the HTML representation or trust the notebook. <br />On GitHub, the HTML representation is unable to render, please try loading this page with nbviewer.org.</b></div><div class=\"sk-container\" hidden><div class=\"sk-item\"><div class=\"sk-estimator sk-toggleable\"><input class=\"sk-toggleable__control sk-hidden--visually\" id=\"sk-estimator-id-4\" type=\"checkbox\" checked><label for=\"sk-estimator-id-4\" class=\"sk-toggleable__label sk-toggleable__label-arrow\">KNeighborsClassifier</label><div class=\"sk-toggleable__content\"><pre>KNeighborsClassifier()</pre></div></div></div></div></div>"
            ]
          },
          "metadata": {},
          "execution_count": 44
        }
      ],
      "source": [
        "from sklearn.neighbors import KNeighborsClassifier\n",
        "classifier = KNeighborsClassifier(n_neighbors = 5, metric ='minkowski', p=2)\n",
        "classifier.fit(x_train,y_train)"
      ]
    },
    {
      "cell_type": "markdown",
      "id": "f1cc83c4",
      "metadata": {
        "id": "f1cc83c4"
      },
      "source": [
        "Prediciting a new result"
      ]
    },
    {
      "cell_type": "code",
      "execution_count": 45,
      "id": "39da4c96",
      "metadata": {
        "colab": {
          "base_uri": "https://localhost:8080/"
        },
        "id": "39da4c96",
        "outputId": "6fbb3852-8b35-4dfb-93ff-233724d9cb06"
      },
      "outputs": [
        {
          "output_type": "stream",
          "name": "stdout",
          "text": [
            "[0]\n"
          ]
        }
      ],
      "source": [
        "print(classifier.predict(sc.transform([[40,20000]])))"
      ]
    },
    {
      "cell_type": "markdown",
      "id": "aa973c56",
      "metadata": {
        "id": "aa973c56"
      },
      "source": [
        "Prediciting the test set results"
      ]
    },
    {
      "cell_type": "code",
      "execution_count": 46,
      "id": "599a5cb9",
      "metadata": {
        "id": "599a5cb9",
        "colab": {
          "base_uri": "https://localhost:8080/"
        },
        "outputId": "4f741683-3707-4ef4-c38b-b71d52cec578"
      },
      "outputs": [
        {
          "output_type": "stream",
          "name": "stdout",
          "text": [
            "[[0 0]\n",
            " [0 0]\n",
            " [0 0]\n",
            " [0 0]\n",
            " [0 0]\n",
            " [0 0]\n",
            " [0 0]\n",
            " [1 1]\n",
            " [0 0]\n",
            " [1 0]\n",
            " [0 0]\n",
            " [0 0]\n",
            " [0 0]\n",
            " [0 0]\n",
            " [0 0]\n",
            " [1 0]\n",
            " [0 0]\n",
            " [0 0]\n",
            " [1 1]\n",
            " [0 0]\n",
            " [0 0]\n",
            " [1 1]\n",
            " [0 0]\n",
            " [1 1]\n",
            " [0 0]\n",
            " [1 1]\n",
            " [0 0]\n",
            " [0 0]\n",
            " [0 0]\n",
            " [0 0]\n",
            " [0 0]\n",
            " [0 1]\n",
            " [1 1]\n",
            " [0 0]\n",
            " [0 0]\n",
            " [0 0]\n",
            " [0 0]\n",
            " [0 0]\n",
            " [0 0]\n",
            " [1 1]\n",
            " [0 0]\n",
            " [0 0]\n",
            " [0 0]\n",
            " [0 0]\n",
            " [1 1]\n",
            " [0 0]\n",
            " [0 0]\n",
            " [1 1]\n",
            " [0 0]\n",
            " [1 1]\n",
            " [1 1]\n",
            " [0 0]\n",
            " [0 0]\n",
            " [1 0]\n",
            " [1 1]\n",
            " [1 1]\n",
            " [0 0]\n",
            " [0 0]\n",
            " [1 1]\n",
            " [0 0]\n",
            " [0 0]\n",
            " [1 1]\n",
            " [0 0]\n",
            " [1 1]\n",
            " [0 0]\n",
            " [1 1]\n",
            " [0 0]\n",
            " [0 0]\n",
            " [0 0]\n",
            " [0 0]\n",
            " [1 1]\n",
            " [0 0]\n",
            " [0 0]\n",
            " [1 1]\n",
            " [0 0]\n",
            " [0 0]\n",
            " [0 0]\n",
            " [0 0]\n",
            " [1 1]\n",
            " [1 1]\n",
            " [1 1]\n",
            " [1 0]\n",
            " [0 0]\n",
            " [0 0]\n",
            " [1 1]\n",
            " [0 1]\n",
            " [0 0]\n",
            " [1 1]\n",
            " [1 1]\n",
            " [0 0]\n",
            " [0 0]\n",
            " [1 1]\n",
            " [0 0]\n",
            " [0 0]\n",
            " [0 0]\n",
            " [0 1]\n",
            " [0 0]\n",
            " [1 1]\n",
            " [1 1]\n",
            " [1 1]]\n"
          ]
        }
      ],
      "source": [
        "y_pred=classifier.predict(x_test)\n",
        "print(np.concatenate((y_pred.reshape(len(y_pred),1),y_test.reshape(len(y_test),1)),1))"
      ]
    },
    {
      "cell_type": "code",
      "execution_count": 47,
      "id": "e5e0c82b",
      "metadata": {
        "colab": {
          "base_uri": "https://localhost:8080/"
        },
        "id": "e5e0c82b",
        "outputId": "9892b207-af06-4ce7-def9-4b81b672002f"
      },
      "outputs": [
        {
          "output_type": "stream",
          "name": "stdout",
          "text": [
            "[[64  4]\n",
            " [ 3 29]]\n"
          ]
        },
        {
          "output_type": "execute_result",
          "data": {
            "text/plain": [
              "0.93"
            ]
          },
          "metadata": {},
          "execution_count": 47
        }
      ],
      "source": [
        "from sklearn.metrics import confusion_matrix, accuracy_score\n",
        "cm=confusion_matrix(y_test,y_pred)\n",
        "print(cm)\n",
        "accuracy_score(y_test,y_pred)"
      ]
    },
    {
      "cell_type": "markdown",
      "id": "7beda672",
      "metadata": {
        "id": "7beda672"
      },
      "source": [
        "Visualising the Training set results"
      ]
    },
    {
      "cell_type": "code",
      "execution_count": 48,
      "id": "a138c750",
      "metadata": {
        "id": "a138c750"
      },
      "outputs": [],
      "source": [
        "#from matplotlib .colors import ListedColormap\n",
        "#x_set,y_set = sc.inverse_transform(x_train), y_train\n",
        "#x1,x2=np.meshgrid(np.arange(start = x_set[:, 0].min() - 10, stop = x_set[:,0].max()+10,step=1),\n",
        " #                np.arrange(start = x_set[:,1].min()-1000, stop=x_set[:,1].max())\"\"\""
      ]
    },
    {
      "cell_type": "markdown",
      "source": [
        "#Practical 05 - SVC\n",
        "30/06/2023 - SVC Notebook Colab\n"
      ],
      "metadata": {
        "id": "XNQeKAK1d-H6"
      },
      "id": "XNQeKAK1d-H6"
    },
    {
      "cell_type": "code",
      "source": [
        "import numpy as np\n",
        "import matplotlib.pyplot as plt\n",
        "import pandas as pd\n",
        "from sklearn import metrics"
      ],
      "metadata": {
        "id": "aaZZ4aR8oTmX"
      },
      "id": "aaZZ4aR8oTmX",
      "execution_count": 49,
      "outputs": []
    },
    {
      "cell_type": "code",
      "source": [
        "dataset=pd.read_csv('/content/drive/MyDrive/csv_files/Social_Network_Ads.csv')"
      ],
      "metadata": {
        "id": "Zh2dmzxvp2wk"
      },
      "id": "Zh2dmzxvp2wk",
      "execution_count": 50,
      "outputs": []
    },
    {
      "cell_type": "code",
      "source": [
        "x = dataset.iloc[:,:-1].values\n",
        "y = dataset.iloc[:,-1].values"
      ],
      "metadata": {
        "id": "Aa1WJrwUp701"
      },
      "id": "Aa1WJrwUp701",
      "execution_count": 51,
      "outputs": []
    },
    {
      "cell_type": "code",
      "source": [
        "from sklearn.model_selection import train_test_split\n",
        "x_train, x_test, y_train, y_test = train_test_split(x,y, test_size=0.25, random_state=0)"
      ],
      "metadata": {
        "id": "UBeg8oskp9bh"
      },
      "id": "UBeg8oskp9bh",
      "execution_count": 52,
      "outputs": []
    },
    {
      "cell_type": "code",
      "source": [
        "from sklearn.preprocessing import StandardScaler\n",
        "sc=StandardScaler()\n",
        "x_train = sc.fit_transform(x_train)\n",
        "x_test = sc.transform(x_test)"
      ],
      "metadata": {
        "id": "uUVy8gcgp-4Z"
      },
      "id": "uUVy8gcgp-4Z",
      "execution_count": 53,
      "outputs": []
    },
    {
      "cell_type": "code",
      "source": [
        "from sklearn.pipeline import make_pipeline\n",
        "from sklearn.svm import SVC\n",
        "clf = make_pipeline(StandardScaler(), SVC(gamma='auto'))\n",
        "clf.fit(x_train, y_train)\n",
        "y_pred = clf.predict(x_test)\n",
        "print(y_pred)"
      ],
      "metadata": {
        "colab": {
          "base_uri": "https://localhost:8080/"
        },
        "id": "6lFr32LoqEsi",
        "outputId": "e5703e36-6e90-486c-9c2f-9d32dd8602a2"
      },
      "id": "6lFr32LoqEsi",
      "execution_count": 54,
      "outputs": [
        {
          "output_type": "stream",
          "name": "stdout",
          "text": [
            "[0 0 0 0 0 0 0 1 0 1 0 0 0 0 0 1 0 0 1 0 0 1 0 1 0 1 0 0 0 0 0 0 1 0 0 0 0\n",
            " 0 0 1 0 0 0 0 1 0 0 1 0 1 1 0 0 1 1 1 0 0 1 0 0 1 0 1 0 1 0 0 0 0 1 0 0 1\n",
            " 0 0 0 0 1 1 1 1 0 0 1 0 0 1 1 0 0 1 0 0 0 0 0 1 1 1]\n"
          ]
        }
      ]
    },
    {
      "cell_type": "code",
      "source": [
        "print(\"Accuracy:\",metrics.accuracy_score(y_test, y_pred))"
      ],
      "metadata": {
        "colab": {
          "base_uri": "https://localhost:8080/"
        },
        "id": "37OlPMZBqGBR",
        "outputId": "0ff5b3af-d982-4fe8-f25c-5641d6b4d4d2"
      },
      "id": "37OlPMZBqGBR",
      "execution_count": 55,
      "outputs": [
        {
          "output_type": "stream",
          "name": "stdout",
          "text": [
            "Accuracy: 0.93\n"
          ]
        }
      ]
    },
    {
      "cell_type": "markdown",
      "source": [
        "#  Practical 06 - Naive Bayes\n",
        "01/07/2023"
      ],
      "metadata": {
        "id": "E2fSDexZdg_G"
      },
      "id": "E2fSDexZdg_G"
    },
    {
      "cell_type": "code",
      "source": [
        "import numpy as np\n",
        "import matplotlib.pyplot as plt\n",
        "import pandas as pd\n",
        "from sklearn.naive_bayes import GaussianNB"
      ],
      "metadata": {
        "id": "YfDL8AoKzVnv"
      },
      "id": "YfDL8AoKzVnv",
      "execution_count": 56,
      "outputs": []
    },
    {
      "cell_type": "code",
      "source": [
        "dataset=pd.read_csv('/content/drive/MyDrive/csv_files/Social_Network_Ads.csv')"
      ],
      "metadata": {
        "id": "jMs58peDeFvn"
      },
      "id": "jMs58peDeFvn",
      "execution_count": 57,
      "outputs": []
    },
    {
      "cell_type": "code",
      "source": [
        "x = dataset.iloc[:,:-1].values\n",
        "y = dataset.iloc[:,-1].values"
      ],
      "metadata": {
        "id": "vXPUBVs5eHgf"
      },
      "id": "vXPUBVs5eHgf",
      "execution_count": 58,
      "outputs": []
    },
    {
      "cell_type": "code",
      "source": [
        "from sklearn.model_selection import train_test_split\n",
        "x_train, x_test, y_train, y_test = train_test_split(x,y, test_size=0.25, random_state=0)"
      ],
      "metadata": {
        "id": "6uVQ79WseJUn"
      },
      "id": "6uVQ79WseJUn",
      "execution_count": 59,
      "outputs": []
    },
    {
      "cell_type": "code",
      "source": [
        "from sklearn.preprocessing import StandardScaler\n",
        "sc=StandardScaler()\n",
        "x_train = sc.fit_transform(x_train)\n",
        "x_test = sc.transform(x_test)"
      ],
      "metadata": {
        "id": "TDu2NsQugqgL"
      },
      "id": "TDu2NsQugqgL",
      "execution_count": 60,
      "outputs": []
    },
    {
      "cell_type": "code",
      "source": [
        "print(x_train)"
      ],
      "metadata": {
        "id": "sSTn294DgvHD",
        "colab": {
          "base_uri": "https://localhost:8080/"
        },
        "outputId": "5d3cfc20-97ad-4c4c-f26a-eaaf8f70e683"
      },
      "id": "sSTn294DgvHD",
      "execution_count": 61,
      "outputs": [
        {
          "output_type": "stream",
          "name": "stdout",
          "text": [
            "[[ 0.58 -0.89]\n",
            " [-0.61  1.46]\n",
            " [-0.01 -0.57]\n",
            " [-0.61  1.9 ]\n",
            " [ 1.37 -1.41]\n",
            " [ 1.47  1.  ]\n",
            " [ 0.09 -0.8 ]\n",
            " [-0.01 -0.25]\n",
            " [-0.21 -0.57]\n",
            " [-0.21 -0.19]\n",
            " [-0.31 -1.29]\n",
            " [-0.31 -0.57]\n",
            " [ 0.38  0.1 ]\n",
            " [ 0.88 -0.6 ]\n",
            " [ 2.07 -1.18]\n",
            " [ 1.08 -0.13]\n",
            " [ 0.68  1.78]\n",
            " [-0.71  0.56]\n",
            " [ 0.78  0.36]\n",
            " [ 0.88 -0.54]\n",
            " [-1.2  -1.58]\n",
            " [ 2.17  0.94]\n",
            " [-0.01  1.23]\n",
            " [ 0.19  1.08]\n",
            " [ 0.38 -0.48]\n",
            " [-0.31 -0.31]\n",
            " [ 0.98 -0.83]\n",
            " [ 0.98  1.87]\n",
            " [-0.01  1.26]\n",
            " [-0.9   2.27]\n",
            " [-1.2  -1.58]\n",
            " [ 2.17 -0.8 ]\n",
            " [-1.4  -1.47]\n",
            " [ 0.38  2.3 ]\n",
            " [ 0.78  0.77]\n",
            " [-1.   -0.31]\n",
            " [ 0.09  0.77]\n",
            " [-1.    0.56]\n",
            " [ 0.28  0.07]\n",
            " [ 0.68 -1.26]\n",
            " [-0.51 -0.02]\n",
            " [-1.8   0.36]\n",
            " [-0.71  0.13]\n",
            " [ 0.38  0.3 ]\n",
            " [-0.31  0.07]\n",
            " [-0.51  2.3 ]\n",
            " [ 0.19  0.04]\n",
            " [ 1.27  2.22]\n",
            " [ 0.78  0.27]\n",
            " [-0.31  0.16]\n",
            " [-0.01 -0.54]\n",
            " [-0.21  0.16]\n",
            " [-0.11  0.24]\n",
            " [-0.01 -0.25]\n",
            " [ 2.17  1.11]\n",
            " [-1.8   0.36]\n",
            " [ 1.87  0.13]\n",
            " [ 0.38 -0.13]\n",
            " [-1.2   0.3 ]\n",
            " [ 0.78  1.37]\n",
            " [-0.31 -0.25]\n",
            " [-1.7  -0.05]\n",
            " [-1.   -0.74]\n",
            " [ 0.28  0.5 ]\n",
            " [-0.11 -1.06]\n",
            " [-1.1   0.59]\n",
            " [ 0.09 -0.8 ]\n",
            " [-1.    1.55]\n",
            " [-0.71  1.4 ]\n",
            " [-1.3   0.5 ]\n",
            " [-0.31  0.04]\n",
            " [-0.11  0.01]\n",
            " [-0.31 -0.89]\n",
            " [ 0.88 -1.35]\n",
            " [-0.31  2.24]\n",
            " [ 0.98  1.98]\n",
            " [-1.2   0.48]\n",
            " [-1.3   0.27]\n",
            " [ 1.37  1.98]\n",
            " [ 1.27 -1.35]\n",
            " [-0.31 -0.28]\n",
            " [-0.51  1.26]\n",
            " [-0.8   1.08]\n",
            " [ 0.98 -1.06]\n",
            " [ 0.28  0.3 ]\n",
            " [ 0.98  0.77]\n",
            " [-0.71 -1.5 ]\n",
            " [-0.71  0.04]\n",
            " [ 0.48  1.72]\n",
            " [ 2.07  0.19]\n",
            " [-1.99 -0.74]\n",
            " [-0.21  1.4 ]\n",
            " [ 0.38  0.59]\n",
            " [ 0.88 -1.15]\n",
            " [-1.2  -0.77]\n",
            " [ 0.19  0.24]\n",
            " [ 0.78 -0.31]\n",
            " [ 2.07 -0.8 ]\n",
            " [ 0.78  0.13]\n",
            " [-0.31  0.62]\n",
            " [-1.   -0.31]\n",
            " [ 0.19 -0.36]\n",
            " [ 2.07  2.13]\n",
            " [ 1.87 -1.26]\n",
            " [ 1.37 -0.92]\n",
            " [ 0.88  1.26]\n",
            " [ 1.47  2.13]\n",
            " [-0.31 -1.23]\n",
            " [ 1.97  0.91]\n",
            " [ 0.68 -0.71]\n",
            " [-1.5   0.36]\n",
            " [ 0.78 -1.35]\n",
            " [ 0.38 -0.13]\n",
            " [-1.    0.42]\n",
            " [-0.01 -0.31]\n",
            " [-1.2   0.42]\n",
            " [-0.9  -1.21]\n",
            " [-0.11  0.04]\n",
            " [-1.6  -0.42]\n",
            " [ 0.98 -1.  ]\n",
            " [ 1.08 -1.21]\n",
            " [-0.01 -0.13]\n",
            " [-1.1  -1.52]\n",
            " [ 0.78 -1.21]\n",
            " [ 0.98  2.07]\n",
            " [-1.2  -1.52]\n",
            " [-0.31  0.79]\n",
            " [ 0.09 -0.31]\n",
            " [-1.4  -1.23]\n",
            " [-0.61 -1.5 ]\n",
            " [ 0.78  0.53]\n",
            " [-0.31 -0.34]\n",
            " [ 1.77 -0.28]\n",
            " [ 0.88 -1.03]\n",
            " [ 0.19  0.07]\n",
            " [-0.61  0.88]\n",
            " [-1.89 -1.41]\n",
            " [-1.3   0.59]\n",
            " [-0.31  0.53]\n",
            " [-1.   -1.09]\n",
            " [ 1.18 -1.44]\n",
            " [ 0.19 -0.31]\n",
            " [ 1.18 -0.74]\n",
            " [-0.31  0.07]\n",
            " [ 0.19  2.1 ]\n",
            " [ 0.78 -1.09]\n",
            " [ 0.09  0.04]\n",
            " [-1.8   0.13]\n",
            " [-0.9   0.16]\n",
            " [-0.71  0.19]\n",
            " [ 0.88 -1.29]\n",
            " [ 0.19 -0.25]\n",
            " [-0.41  1.23]\n",
            " [-0.01  0.3 ]\n",
            " [ 0.38  0.16]\n",
            " [ 0.88 -0.65]\n",
            " [ 0.09  0.16]\n",
            " [-1.89 -1.29]\n",
            " [-0.11  0.3 ]\n",
            " [-0.21 -0.28]\n",
            " [ 0.28 -0.51]\n",
            " [-0.21  1.61]\n",
            " [ 0.98 -1.18]\n",
            " [-0.21  1.64]\n",
            " [ 1.27  1.87]\n",
            " [-1.1  -0.36]\n",
            " [-0.01  0.04]\n",
            " [ 0.09 -0.25]\n",
            " [-1.6  -1.23]\n",
            " [-0.51 -0.28]\n",
            " [ 0.98  0.13]\n",
            " [ 1.97 -1.35]\n",
            " [ 1.47  0.07]\n",
            " [-0.61  1.37]\n",
            " [ 1.57  0.01]\n",
            " [-0.8   0.3 ]\n",
            " [ 1.97  0.74]\n",
            " [-1.2  -0.51]\n",
            " [ 0.68  0.27]\n",
            " [-1.4  -0.42]\n",
            " [ 0.19  0.16]\n",
            " [-0.51 -1.21]\n",
            " [ 0.58  2.01]\n",
            " [-1.6  -1.5 ]\n",
            " [-0.51 -0.54]\n",
            " [ 0.48  1.84]\n",
            " [-1.4  -1.09]\n",
            " [ 0.78 -1.38]\n",
            " [-0.31 -0.42]\n",
            " [ 1.57  1.  ]\n",
            " [ 0.98  1.43]\n",
            " [-0.31 -0.48]\n",
            " [-0.11  2.16]\n",
            " [-1.5  -0.1 ]\n",
            " [-0.11  1.95]\n",
            " [-0.71 -0.34]\n",
            " [-0.51 -0.83]\n",
            " [ 0.68 -1.38]\n",
            " [-0.8  -1.58]\n",
            " [-1.89 -1.47]\n",
            " [ 1.08  0.13]\n",
            " [ 0.09  1.52]\n",
            " [-0.31  0.1 ]\n",
            " [ 0.09  0.04]\n",
            " [-1.4  -1.35]\n",
            " [ 0.28  0.07]\n",
            " [-0.9   0.39]\n",
            " [ 1.57 -1.26]\n",
            " [-0.31 -0.74]\n",
            " [-0.11  0.16]\n",
            " [-0.9  -0.65]\n",
            " [-0.71 -0.05]\n",
            " [ 0.38 -0.45]\n",
            " [-0.8   1.9 ]\n",
            " [ 1.37  1.29]\n",
            " [ 1.18 -0.97]\n",
            " [ 1.77  1.84]\n",
            " [-0.9  -0.25]\n",
            " [-0.8   0.56]\n",
            " [-1.2  -1.55]\n",
            " [-0.51 -1.12]\n",
            " [ 0.28  0.07]\n",
            " [-0.21 -1.06]\n",
            " [ 1.67  1.61]\n",
            " [ 0.98  1.78]\n",
            " [ 0.28  0.04]\n",
            " [-0.8  -0.22]\n",
            " [-0.11  0.07]\n",
            " [ 0.28 -0.19]\n",
            " [ 1.97 -0.65]\n",
            " [-0.8   1.35]\n",
            " [-1.8  -0.6 ]\n",
            " [-0.11  0.13]\n",
            " [ 0.28 -0.31]\n",
            " [ 1.08  0.56]\n",
            " [-1.    0.27]\n",
            " [ 1.47  0.36]\n",
            " [ 0.19 -0.36]\n",
            " [ 2.17 -1.03]\n",
            " [-0.31  1.11]\n",
            " [-1.7   0.07]\n",
            " [-0.01  0.04]\n",
            " [ 0.09  1.06]\n",
            " [-0.11 -0.36]\n",
            " [-1.2   0.07]\n",
            " [-0.31 -1.35]\n",
            " [ 1.57  1.11]\n",
            " [-0.8  -1.52]\n",
            " [ 0.09  1.87]\n",
            " [-0.9  -0.77]\n",
            " [-0.51 -0.77]\n",
            " [-0.31 -0.92]\n",
            " [ 0.28 -0.71]\n",
            " [ 0.28  0.07]\n",
            " [ 0.09  1.87]\n",
            " [-1.1   1.95]\n",
            " [-1.7  -1.55]\n",
            " [-1.2  -1.09]\n",
            " [-0.71 -0.1 ]\n",
            " [ 0.09  0.1 ]\n",
            " [ 0.28  0.27]\n",
            " [ 0.88 -0.57]\n",
            " [ 0.28 -1.15]\n",
            " [-0.11  0.68]\n",
            " [ 2.17 -0.68]\n",
            " [-1.3  -1.38]\n",
            " [-1.   -0.94]\n",
            " [-0.01 -0.42]\n",
            " [-0.21 -0.45]\n",
            " [-1.8  -0.97]\n",
            " [ 1.77  1.  ]\n",
            " [ 0.19 -0.36]\n",
            " [ 0.38  1.11]\n",
            " [-1.8  -1.35]\n",
            " [ 0.19 -0.13]\n",
            " [ 0.88 -1.44]\n",
            " [-1.99  0.48]\n",
            " [-0.31  0.27]\n",
            " [ 1.87 -1.06]\n",
            " [-0.41  0.07]\n",
            " [ 1.08 -0.89]\n",
            " [-1.1  -1.12]\n",
            " [-1.89  0.01]\n",
            " [ 0.09  0.27]\n",
            " [-1.2   0.33]\n",
            " [-1.3   0.3 ]\n",
            " [-1.    0.45]\n",
            " [ 1.67 -0.89]\n",
            " [ 1.18  0.53]\n",
            " [ 1.08  0.53]\n",
            " [ 1.37  2.33]\n",
            " [-0.31 -0.13]\n",
            " [ 0.38 -0.45]\n",
            " [-0.41 -0.77]\n",
            " [-0.11 -0.51]\n",
            " [ 0.98 -1.15]\n",
            " [-0.9  -0.77]\n",
            " [-0.21 -0.51]\n",
            " [-1.1  -0.45]\n",
            " [-1.2   1.4 ]]\n"
          ]
        }
      ]
    },
    {
      "cell_type": "code",
      "source": [
        "from sklearn.naive_bayes import GaussianNB\n",
        "gnb = GaussianNB()\n",
        "gnb.fit(x_train, y_train)\n",
        "#y_pred = gnb.fit(x_train, y_train).predict(x_test)"
      ],
      "metadata": {
        "id": "UOJS8tcYekKL",
        "colab": {
          "base_uri": "https://localhost:8080/",
          "height": 0
        },
        "outputId": "2055280d-ee7d-4a65-881f-15fa45d22ec9"
      },
      "id": "UOJS8tcYekKL",
      "execution_count": 62,
      "outputs": [
        {
          "output_type": "execute_result",
          "data": {
            "text/plain": [
              "GaussianNB()"
            ],
            "text/html": [
              "<style>#sk-container-id-5 {color: black;background-color: white;}#sk-container-id-5 pre{padding: 0;}#sk-container-id-5 div.sk-toggleable {background-color: white;}#sk-container-id-5 label.sk-toggleable__label {cursor: pointer;display: block;width: 100%;margin-bottom: 0;padding: 0.3em;box-sizing: border-box;text-align: center;}#sk-container-id-5 label.sk-toggleable__label-arrow:before {content: \"▸\";float: left;margin-right: 0.25em;color: #696969;}#sk-container-id-5 label.sk-toggleable__label-arrow:hover:before {color: black;}#sk-container-id-5 div.sk-estimator:hover label.sk-toggleable__label-arrow:before {color: black;}#sk-container-id-5 div.sk-toggleable__content {max-height: 0;max-width: 0;overflow: hidden;text-align: left;background-color: #f0f8ff;}#sk-container-id-5 div.sk-toggleable__content pre {margin: 0.2em;color: black;border-radius: 0.25em;background-color: #f0f8ff;}#sk-container-id-5 input.sk-toggleable__control:checked~div.sk-toggleable__content {max-height: 200px;max-width: 100%;overflow: auto;}#sk-container-id-5 input.sk-toggleable__control:checked~label.sk-toggleable__label-arrow:before {content: \"▾\";}#sk-container-id-5 div.sk-estimator input.sk-toggleable__control:checked~label.sk-toggleable__label {background-color: #d4ebff;}#sk-container-id-5 div.sk-label input.sk-toggleable__control:checked~label.sk-toggleable__label {background-color: #d4ebff;}#sk-container-id-5 input.sk-hidden--visually {border: 0;clip: rect(1px 1px 1px 1px);clip: rect(1px, 1px, 1px, 1px);height: 1px;margin: -1px;overflow: hidden;padding: 0;position: absolute;width: 1px;}#sk-container-id-5 div.sk-estimator {font-family: monospace;background-color: #f0f8ff;border: 1px dotted black;border-radius: 0.25em;box-sizing: border-box;margin-bottom: 0.5em;}#sk-container-id-5 div.sk-estimator:hover {background-color: #d4ebff;}#sk-container-id-5 div.sk-parallel-item::after {content: \"\";width: 100%;border-bottom: 1px solid gray;flex-grow: 1;}#sk-container-id-5 div.sk-label:hover label.sk-toggleable__label {background-color: #d4ebff;}#sk-container-id-5 div.sk-serial::before {content: \"\";position: absolute;border-left: 1px solid gray;box-sizing: border-box;top: 0;bottom: 0;left: 50%;z-index: 0;}#sk-container-id-5 div.sk-serial {display: flex;flex-direction: column;align-items: center;background-color: white;padding-right: 0.2em;padding-left: 0.2em;position: relative;}#sk-container-id-5 div.sk-item {position: relative;z-index: 1;}#sk-container-id-5 div.sk-parallel {display: flex;align-items: stretch;justify-content: center;background-color: white;position: relative;}#sk-container-id-5 div.sk-item::before, #sk-container-id-5 div.sk-parallel-item::before {content: \"\";position: absolute;border-left: 1px solid gray;box-sizing: border-box;top: 0;bottom: 0;left: 50%;z-index: -1;}#sk-container-id-5 div.sk-parallel-item {display: flex;flex-direction: column;z-index: 1;position: relative;background-color: white;}#sk-container-id-5 div.sk-parallel-item:first-child::after {align-self: flex-end;width: 50%;}#sk-container-id-5 div.sk-parallel-item:last-child::after {align-self: flex-start;width: 50%;}#sk-container-id-5 div.sk-parallel-item:only-child::after {width: 0;}#sk-container-id-5 div.sk-dashed-wrapped {border: 1px dashed gray;margin: 0 0.4em 0.5em 0.4em;box-sizing: border-box;padding-bottom: 0.4em;background-color: white;}#sk-container-id-5 div.sk-label label {font-family: monospace;font-weight: bold;display: inline-block;line-height: 1.2em;}#sk-container-id-5 div.sk-label-container {text-align: center;}#sk-container-id-5 div.sk-container {/* jupyter's `normalize.less` sets `[hidden] { display: none; }` but bootstrap.min.css set `[hidden] { display: none !important; }` so we also need the `!important` here to be able to override the default hidden behavior on the sphinx rendered scikit-learn.org. See: https://github.com/scikit-learn/scikit-learn/issues/21755 */display: inline-block !important;position: relative;}#sk-container-id-5 div.sk-text-repr-fallback {display: none;}</style><div id=\"sk-container-id-5\" class=\"sk-top-container\"><div class=\"sk-text-repr-fallback\"><pre>GaussianNB()</pre><b>In a Jupyter environment, please rerun this cell to show the HTML representation or trust the notebook. <br />On GitHub, the HTML representation is unable to render, please try loading this page with nbviewer.org.</b></div><div class=\"sk-container\" hidden><div class=\"sk-item\"><div class=\"sk-estimator sk-toggleable\"><input class=\"sk-toggleable__control sk-hidden--visually\" id=\"sk-estimator-id-5\" type=\"checkbox\" checked><label for=\"sk-estimator-id-5\" class=\"sk-toggleable__label sk-toggleable__label-arrow\">GaussianNB</label><div class=\"sk-toggleable__content\"><pre>GaussianNB()</pre></div></div></div></div></div>"
            ]
          },
          "metadata": {},
          "execution_count": 62
        }
      ]
    },
    {
      "cell_type": "markdown",
      "source": [
        "Prediciting a new result"
      ],
      "metadata": {
        "id": "DQfCoWyHhYZ3"
      },
      "id": "DQfCoWyHhYZ3"
    },
    {
      "cell_type": "code",
      "source": [
        "print(sc.transform([[30,87000]]))\n",
        "print(gnb.predict(sc.transform([[40,200000]])))"
      ],
      "metadata": {
        "id": "0BacoIlKhCmf",
        "colab": {
          "base_uri": "https://localhost:8080/"
        },
        "outputId": "ec038303-7bcb-46c5-eeea-ee6937fc8eff"
      },
      "id": "0BacoIlKhCmf",
      "execution_count": 63,
      "outputs": [
        {
          "output_type": "stream",
          "name": "stdout",
          "text": [
            "[[-0.8  0.5]]\n",
            "[1]\n"
          ]
        }
      ]
    },
    {
      "cell_type": "code",
      "source": [
        "y_pred=gnb.predict(x_test)\n",
        "print(np.concatenate((y_pred.reshape(len(y_pred),1),y_test.reshape(len(y_test),1)),1))"
      ],
      "metadata": {
        "id": "PpYAc5BdhTdr",
        "colab": {
          "base_uri": "https://localhost:8080/"
        },
        "outputId": "536d977e-9221-44fa-f0af-99ff0f2f4ef8"
      },
      "id": "PpYAc5BdhTdr",
      "execution_count": 64,
      "outputs": [
        {
          "output_type": "stream",
          "name": "stdout",
          "text": [
            "[[0 0]\n",
            " [0 0]\n",
            " [0 0]\n",
            " [0 0]\n",
            " [0 0]\n",
            " [0 0]\n",
            " [0 0]\n",
            " [1 1]\n",
            " [0 0]\n",
            " [1 0]\n",
            " [0 0]\n",
            " [0 0]\n",
            " [0 0]\n",
            " [0 0]\n",
            " [0 0]\n",
            " [0 0]\n",
            " [0 0]\n",
            " [0 0]\n",
            " [1 1]\n",
            " [0 0]\n",
            " [0 0]\n",
            " [1 1]\n",
            " [0 0]\n",
            " [1 1]\n",
            " [0 0]\n",
            " [1 1]\n",
            " [0 0]\n",
            " [0 0]\n",
            " [0 0]\n",
            " [0 0]\n",
            " [0 0]\n",
            " [0 1]\n",
            " [1 1]\n",
            " [0 0]\n",
            " [0 0]\n",
            " [0 0]\n",
            " [0 0]\n",
            " [0 0]\n",
            " [0 0]\n",
            " [1 1]\n",
            " [0 0]\n",
            " [0 0]\n",
            " [0 0]\n",
            " [0 0]\n",
            " [1 1]\n",
            " [0 0]\n",
            " [0 0]\n",
            " [1 1]\n",
            " [0 0]\n",
            " [1 1]\n",
            " [1 1]\n",
            " [0 0]\n",
            " [0 0]\n",
            " [1 0]\n",
            " [1 1]\n",
            " [0 1]\n",
            " [0 0]\n",
            " [0 0]\n",
            " [1 1]\n",
            " [0 0]\n",
            " [0 0]\n",
            " [1 1]\n",
            " [0 0]\n",
            " [0 1]\n",
            " [0 0]\n",
            " [1 1]\n",
            " [0 0]\n",
            " [0 0]\n",
            " [0 0]\n",
            " [0 0]\n",
            " [1 1]\n",
            " [0 0]\n",
            " [0 0]\n",
            " [0 1]\n",
            " [0 0]\n",
            " [0 0]\n",
            " [0 0]\n",
            " [0 0]\n",
            " [1 1]\n",
            " [1 1]\n",
            " [1 1]\n",
            " [1 0]\n",
            " [0 0]\n",
            " [0 0]\n",
            " [1 1]\n",
            " [0 1]\n",
            " [0 0]\n",
            " [1 1]\n",
            " [0 1]\n",
            " [0 0]\n",
            " [0 0]\n",
            " [1 1]\n",
            " [0 0]\n",
            " [0 0]\n",
            " [0 0]\n",
            " [0 1]\n",
            " [0 0]\n",
            " [1 1]\n",
            " [1 1]\n",
            " [1 1]]\n"
          ]
        }
      ]
    },
    {
      "cell_type": "code",
      "source": [
        "from sklearn.metrics import confusion_matrix, accuracy_score\n",
        "cm=confusion_matrix(y_test,y_pred)\n",
        "print(cm)\n",
        "print(\"Accuracy: \", accuracy_score(y_test,y_pred))"
      ],
      "metadata": {
        "colab": {
          "base_uri": "https://localhost:8080/"
        },
        "id": "joX_E3_zfGTU",
        "outputId": "f7b85634-699f-4691-ee3d-6e63d8241914"
      },
      "id": "joX_E3_zfGTU",
      "execution_count": 65,
      "outputs": [
        {
          "output_type": "stream",
          "name": "stdout",
          "text": [
            "[[65  3]\n",
            " [ 7 25]]\n",
            "Accuracy:  0.9\n"
          ]
        }
      ]
    },
    {
      "cell_type": "markdown",
      "source": [
        "# Practical 07 - Decision Tree Classifier\n",
        "**07/07/2023**"
      ],
      "metadata": {
        "id": "sqprn1sLgdfW"
      },
      "id": "sqprn1sLgdfW"
    },
    {
      "cell_type": "code",
      "source": [
        "import numpy as np\n",
        "import matplotlib.pyplot as plt\n",
        "import pandas as pd"
      ],
      "metadata": {
        "id": "qxAQgprEgc-e"
      },
      "id": "qxAQgprEgc-e",
      "execution_count": 66,
      "outputs": []
    },
    {
      "cell_type": "code",
      "source": [
        "dataset=pd.read_csv('/content/drive/MyDrive/csv_files/Social_Network_Ads.csv')"
      ],
      "metadata": {
        "id": "lkw2M9xCjDmG"
      },
      "id": "lkw2M9xCjDmG",
      "execution_count": 67,
      "outputs": []
    },
    {
      "cell_type": "code",
      "source": [
        "x = dataset.iloc[:,:-1].values\n",
        "y = dataset.iloc[:,-1].values"
      ],
      "metadata": {
        "id": "DH1rM0XBjEEe"
      },
      "id": "DH1rM0XBjEEe",
      "execution_count": 68,
      "outputs": []
    },
    {
      "cell_type": "code",
      "source": [
        "from sklearn.model_selection import train_test_split\n",
        "x_train, x_test, y_train, y_test = train_test_split(x,y, test_size=0.25, random_state=0)"
      ],
      "metadata": {
        "id": "325GDBoojF71"
      },
      "id": "325GDBoojF71",
      "execution_count": 69,
      "outputs": []
    },
    {
      "cell_type": "code",
      "source": [
        "from sklearn.preprocessing import StandardScaler\n",
        "sc=StandardScaler()\n",
        "x_train = sc.fit_transform(x_train)\n",
        "x_test = sc.transform(x_test)"
      ],
      "metadata": {
        "id": "VPVWqwIDjIGl"
      },
      "id": "VPVWqwIDjIGl",
      "execution_count": 70,
      "outputs": []
    },
    {
      "cell_type": "code",
      "source": [
        "print(x_train)"
      ],
      "metadata": {
        "id": "6glQM_oAjPk3",
        "colab": {
          "base_uri": "https://localhost:8080/"
        },
        "outputId": "0fcd1c4c-b1e4-48c2-874b-68a887a68768"
      },
      "id": "6glQM_oAjPk3",
      "execution_count": 71,
      "outputs": [
        {
          "output_type": "stream",
          "name": "stdout",
          "text": [
            "[[ 0.58 -0.89]\n",
            " [-0.61  1.46]\n",
            " [-0.01 -0.57]\n",
            " [-0.61  1.9 ]\n",
            " [ 1.37 -1.41]\n",
            " [ 1.47  1.  ]\n",
            " [ 0.09 -0.8 ]\n",
            " [-0.01 -0.25]\n",
            " [-0.21 -0.57]\n",
            " [-0.21 -0.19]\n",
            " [-0.31 -1.29]\n",
            " [-0.31 -0.57]\n",
            " [ 0.38  0.1 ]\n",
            " [ 0.88 -0.6 ]\n",
            " [ 2.07 -1.18]\n",
            " [ 1.08 -0.13]\n",
            " [ 0.68  1.78]\n",
            " [-0.71  0.56]\n",
            " [ 0.78  0.36]\n",
            " [ 0.88 -0.54]\n",
            " [-1.2  -1.58]\n",
            " [ 2.17  0.94]\n",
            " [-0.01  1.23]\n",
            " [ 0.19  1.08]\n",
            " [ 0.38 -0.48]\n",
            " [-0.31 -0.31]\n",
            " [ 0.98 -0.83]\n",
            " [ 0.98  1.87]\n",
            " [-0.01  1.26]\n",
            " [-0.9   2.27]\n",
            " [-1.2  -1.58]\n",
            " [ 2.17 -0.8 ]\n",
            " [-1.4  -1.47]\n",
            " [ 0.38  2.3 ]\n",
            " [ 0.78  0.77]\n",
            " [-1.   -0.31]\n",
            " [ 0.09  0.77]\n",
            " [-1.    0.56]\n",
            " [ 0.28  0.07]\n",
            " [ 0.68 -1.26]\n",
            " [-0.51 -0.02]\n",
            " [-1.8   0.36]\n",
            " [-0.71  0.13]\n",
            " [ 0.38  0.3 ]\n",
            " [-0.31  0.07]\n",
            " [-0.51  2.3 ]\n",
            " [ 0.19  0.04]\n",
            " [ 1.27  2.22]\n",
            " [ 0.78  0.27]\n",
            " [-0.31  0.16]\n",
            " [-0.01 -0.54]\n",
            " [-0.21  0.16]\n",
            " [-0.11  0.24]\n",
            " [-0.01 -0.25]\n",
            " [ 2.17  1.11]\n",
            " [-1.8   0.36]\n",
            " [ 1.87  0.13]\n",
            " [ 0.38 -0.13]\n",
            " [-1.2   0.3 ]\n",
            " [ 0.78  1.37]\n",
            " [-0.31 -0.25]\n",
            " [-1.7  -0.05]\n",
            " [-1.   -0.74]\n",
            " [ 0.28  0.5 ]\n",
            " [-0.11 -1.06]\n",
            " [-1.1   0.59]\n",
            " [ 0.09 -0.8 ]\n",
            " [-1.    1.55]\n",
            " [-0.71  1.4 ]\n",
            " [-1.3   0.5 ]\n",
            " [-0.31  0.04]\n",
            " [-0.11  0.01]\n",
            " [-0.31 -0.89]\n",
            " [ 0.88 -1.35]\n",
            " [-0.31  2.24]\n",
            " [ 0.98  1.98]\n",
            " [-1.2   0.48]\n",
            " [-1.3   0.27]\n",
            " [ 1.37  1.98]\n",
            " [ 1.27 -1.35]\n",
            " [-0.31 -0.28]\n",
            " [-0.51  1.26]\n",
            " [-0.8   1.08]\n",
            " [ 0.98 -1.06]\n",
            " [ 0.28  0.3 ]\n",
            " [ 0.98  0.77]\n",
            " [-0.71 -1.5 ]\n",
            " [-0.71  0.04]\n",
            " [ 0.48  1.72]\n",
            " [ 2.07  0.19]\n",
            " [-1.99 -0.74]\n",
            " [-0.21  1.4 ]\n",
            " [ 0.38  0.59]\n",
            " [ 0.88 -1.15]\n",
            " [-1.2  -0.77]\n",
            " [ 0.19  0.24]\n",
            " [ 0.78 -0.31]\n",
            " [ 2.07 -0.8 ]\n",
            " [ 0.78  0.13]\n",
            " [-0.31  0.62]\n",
            " [-1.   -0.31]\n",
            " [ 0.19 -0.36]\n",
            " [ 2.07  2.13]\n",
            " [ 1.87 -1.26]\n",
            " [ 1.37 -0.92]\n",
            " [ 0.88  1.26]\n",
            " [ 1.47  2.13]\n",
            " [-0.31 -1.23]\n",
            " [ 1.97  0.91]\n",
            " [ 0.68 -0.71]\n",
            " [-1.5   0.36]\n",
            " [ 0.78 -1.35]\n",
            " [ 0.38 -0.13]\n",
            " [-1.    0.42]\n",
            " [-0.01 -0.31]\n",
            " [-1.2   0.42]\n",
            " [-0.9  -1.21]\n",
            " [-0.11  0.04]\n",
            " [-1.6  -0.42]\n",
            " [ 0.98 -1.  ]\n",
            " [ 1.08 -1.21]\n",
            " [-0.01 -0.13]\n",
            " [-1.1  -1.52]\n",
            " [ 0.78 -1.21]\n",
            " [ 0.98  2.07]\n",
            " [-1.2  -1.52]\n",
            " [-0.31  0.79]\n",
            " [ 0.09 -0.31]\n",
            " [-1.4  -1.23]\n",
            " [-0.61 -1.5 ]\n",
            " [ 0.78  0.53]\n",
            " [-0.31 -0.34]\n",
            " [ 1.77 -0.28]\n",
            " [ 0.88 -1.03]\n",
            " [ 0.19  0.07]\n",
            " [-0.61  0.88]\n",
            " [-1.89 -1.41]\n",
            " [-1.3   0.59]\n",
            " [-0.31  0.53]\n",
            " [-1.   -1.09]\n",
            " [ 1.18 -1.44]\n",
            " [ 0.19 -0.31]\n",
            " [ 1.18 -0.74]\n",
            " [-0.31  0.07]\n",
            " [ 0.19  2.1 ]\n",
            " [ 0.78 -1.09]\n",
            " [ 0.09  0.04]\n",
            " [-1.8   0.13]\n",
            " [-0.9   0.16]\n",
            " [-0.71  0.19]\n",
            " [ 0.88 -1.29]\n",
            " [ 0.19 -0.25]\n",
            " [-0.41  1.23]\n",
            " [-0.01  0.3 ]\n",
            " [ 0.38  0.16]\n",
            " [ 0.88 -0.65]\n",
            " [ 0.09  0.16]\n",
            " [-1.89 -1.29]\n",
            " [-0.11  0.3 ]\n",
            " [-0.21 -0.28]\n",
            " [ 0.28 -0.51]\n",
            " [-0.21  1.61]\n",
            " [ 0.98 -1.18]\n",
            " [-0.21  1.64]\n",
            " [ 1.27  1.87]\n",
            " [-1.1  -0.36]\n",
            " [-0.01  0.04]\n",
            " [ 0.09 -0.25]\n",
            " [-1.6  -1.23]\n",
            " [-0.51 -0.28]\n",
            " [ 0.98  0.13]\n",
            " [ 1.97 -1.35]\n",
            " [ 1.47  0.07]\n",
            " [-0.61  1.37]\n",
            " [ 1.57  0.01]\n",
            " [-0.8   0.3 ]\n",
            " [ 1.97  0.74]\n",
            " [-1.2  -0.51]\n",
            " [ 0.68  0.27]\n",
            " [-1.4  -0.42]\n",
            " [ 0.19  0.16]\n",
            " [-0.51 -1.21]\n",
            " [ 0.58  2.01]\n",
            " [-1.6  -1.5 ]\n",
            " [-0.51 -0.54]\n",
            " [ 0.48  1.84]\n",
            " [-1.4  -1.09]\n",
            " [ 0.78 -1.38]\n",
            " [-0.31 -0.42]\n",
            " [ 1.57  1.  ]\n",
            " [ 0.98  1.43]\n",
            " [-0.31 -0.48]\n",
            " [-0.11  2.16]\n",
            " [-1.5  -0.1 ]\n",
            " [-0.11  1.95]\n",
            " [-0.71 -0.34]\n",
            " [-0.51 -0.83]\n",
            " [ 0.68 -1.38]\n",
            " [-0.8  -1.58]\n",
            " [-1.89 -1.47]\n",
            " [ 1.08  0.13]\n",
            " [ 0.09  1.52]\n",
            " [-0.31  0.1 ]\n",
            " [ 0.09  0.04]\n",
            " [-1.4  -1.35]\n",
            " [ 0.28  0.07]\n",
            " [-0.9   0.39]\n",
            " [ 1.57 -1.26]\n",
            " [-0.31 -0.74]\n",
            " [-0.11  0.16]\n",
            " [-0.9  -0.65]\n",
            " [-0.71 -0.05]\n",
            " [ 0.38 -0.45]\n",
            " [-0.8   1.9 ]\n",
            " [ 1.37  1.29]\n",
            " [ 1.18 -0.97]\n",
            " [ 1.77  1.84]\n",
            " [-0.9  -0.25]\n",
            " [-0.8   0.56]\n",
            " [-1.2  -1.55]\n",
            " [-0.51 -1.12]\n",
            " [ 0.28  0.07]\n",
            " [-0.21 -1.06]\n",
            " [ 1.67  1.61]\n",
            " [ 0.98  1.78]\n",
            " [ 0.28  0.04]\n",
            " [-0.8  -0.22]\n",
            " [-0.11  0.07]\n",
            " [ 0.28 -0.19]\n",
            " [ 1.97 -0.65]\n",
            " [-0.8   1.35]\n",
            " [-1.8  -0.6 ]\n",
            " [-0.11  0.13]\n",
            " [ 0.28 -0.31]\n",
            " [ 1.08  0.56]\n",
            " [-1.    0.27]\n",
            " [ 1.47  0.36]\n",
            " [ 0.19 -0.36]\n",
            " [ 2.17 -1.03]\n",
            " [-0.31  1.11]\n",
            " [-1.7   0.07]\n",
            " [-0.01  0.04]\n",
            " [ 0.09  1.06]\n",
            " [-0.11 -0.36]\n",
            " [-1.2   0.07]\n",
            " [-0.31 -1.35]\n",
            " [ 1.57  1.11]\n",
            " [-0.8  -1.52]\n",
            " [ 0.09  1.87]\n",
            " [-0.9  -0.77]\n",
            " [-0.51 -0.77]\n",
            " [-0.31 -0.92]\n",
            " [ 0.28 -0.71]\n",
            " [ 0.28  0.07]\n",
            " [ 0.09  1.87]\n",
            " [-1.1   1.95]\n",
            " [-1.7  -1.55]\n",
            " [-1.2  -1.09]\n",
            " [-0.71 -0.1 ]\n",
            " [ 0.09  0.1 ]\n",
            " [ 0.28  0.27]\n",
            " [ 0.88 -0.57]\n",
            " [ 0.28 -1.15]\n",
            " [-0.11  0.68]\n",
            " [ 2.17 -0.68]\n",
            " [-1.3  -1.38]\n",
            " [-1.   -0.94]\n",
            " [-0.01 -0.42]\n",
            " [-0.21 -0.45]\n",
            " [-1.8  -0.97]\n",
            " [ 1.77  1.  ]\n",
            " [ 0.19 -0.36]\n",
            " [ 0.38  1.11]\n",
            " [-1.8  -1.35]\n",
            " [ 0.19 -0.13]\n",
            " [ 0.88 -1.44]\n",
            " [-1.99  0.48]\n",
            " [-0.31  0.27]\n",
            " [ 1.87 -1.06]\n",
            " [-0.41  0.07]\n",
            " [ 1.08 -0.89]\n",
            " [-1.1  -1.12]\n",
            " [-1.89  0.01]\n",
            " [ 0.09  0.27]\n",
            " [-1.2   0.33]\n",
            " [-1.3   0.3 ]\n",
            " [-1.    0.45]\n",
            " [ 1.67 -0.89]\n",
            " [ 1.18  0.53]\n",
            " [ 1.08  0.53]\n",
            " [ 1.37  2.33]\n",
            " [-0.31 -0.13]\n",
            " [ 0.38 -0.45]\n",
            " [-0.41 -0.77]\n",
            " [-0.11 -0.51]\n",
            " [ 0.98 -1.15]\n",
            " [-0.9  -0.77]\n",
            " [-0.21 -0.51]\n",
            " [-1.1  -0.45]\n",
            " [-1.2   1.4 ]]\n"
          ]
        }
      ]
    },
    {
      "cell_type": "code",
      "source": [
        "from sklearn.tree import DecisionTreeClassifier\n",
        "dtree = DecisionTreeClassifier()\n",
        "dtree.fit(x_train, y_train)"
      ],
      "metadata": {
        "colab": {
          "base_uri": "https://localhost:8080/",
          "height": 0
        },
        "id": "wNcv1gkUjR2O",
        "outputId": "ed7054e3-1c3f-452a-e91b-010e67b2c2a8"
      },
      "id": "wNcv1gkUjR2O",
      "execution_count": 72,
      "outputs": [
        {
          "output_type": "execute_result",
          "data": {
            "text/plain": [
              "DecisionTreeClassifier()"
            ],
            "text/html": [
              "<style>#sk-container-id-6 {color: black;background-color: white;}#sk-container-id-6 pre{padding: 0;}#sk-container-id-6 div.sk-toggleable {background-color: white;}#sk-container-id-6 label.sk-toggleable__label {cursor: pointer;display: block;width: 100%;margin-bottom: 0;padding: 0.3em;box-sizing: border-box;text-align: center;}#sk-container-id-6 label.sk-toggleable__label-arrow:before {content: \"▸\";float: left;margin-right: 0.25em;color: #696969;}#sk-container-id-6 label.sk-toggleable__label-arrow:hover:before {color: black;}#sk-container-id-6 div.sk-estimator:hover label.sk-toggleable__label-arrow:before {color: black;}#sk-container-id-6 div.sk-toggleable__content {max-height: 0;max-width: 0;overflow: hidden;text-align: left;background-color: #f0f8ff;}#sk-container-id-6 div.sk-toggleable__content pre {margin: 0.2em;color: black;border-radius: 0.25em;background-color: #f0f8ff;}#sk-container-id-6 input.sk-toggleable__control:checked~div.sk-toggleable__content {max-height: 200px;max-width: 100%;overflow: auto;}#sk-container-id-6 input.sk-toggleable__control:checked~label.sk-toggleable__label-arrow:before {content: \"▾\";}#sk-container-id-6 div.sk-estimator input.sk-toggleable__control:checked~label.sk-toggleable__label {background-color: #d4ebff;}#sk-container-id-6 div.sk-label input.sk-toggleable__control:checked~label.sk-toggleable__label {background-color: #d4ebff;}#sk-container-id-6 input.sk-hidden--visually {border: 0;clip: rect(1px 1px 1px 1px);clip: rect(1px, 1px, 1px, 1px);height: 1px;margin: -1px;overflow: hidden;padding: 0;position: absolute;width: 1px;}#sk-container-id-6 div.sk-estimator {font-family: monospace;background-color: #f0f8ff;border: 1px dotted black;border-radius: 0.25em;box-sizing: border-box;margin-bottom: 0.5em;}#sk-container-id-6 div.sk-estimator:hover {background-color: #d4ebff;}#sk-container-id-6 div.sk-parallel-item::after {content: \"\";width: 100%;border-bottom: 1px solid gray;flex-grow: 1;}#sk-container-id-6 div.sk-label:hover label.sk-toggleable__label {background-color: #d4ebff;}#sk-container-id-6 div.sk-serial::before {content: \"\";position: absolute;border-left: 1px solid gray;box-sizing: border-box;top: 0;bottom: 0;left: 50%;z-index: 0;}#sk-container-id-6 div.sk-serial {display: flex;flex-direction: column;align-items: center;background-color: white;padding-right: 0.2em;padding-left: 0.2em;position: relative;}#sk-container-id-6 div.sk-item {position: relative;z-index: 1;}#sk-container-id-6 div.sk-parallel {display: flex;align-items: stretch;justify-content: center;background-color: white;position: relative;}#sk-container-id-6 div.sk-item::before, #sk-container-id-6 div.sk-parallel-item::before {content: \"\";position: absolute;border-left: 1px solid gray;box-sizing: border-box;top: 0;bottom: 0;left: 50%;z-index: -1;}#sk-container-id-6 div.sk-parallel-item {display: flex;flex-direction: column;z-index: 1;position: relative;background-color: white;}#sk-container-id-6 div.sk-parallel-item:first-child::after {align-self: flex-end;width: 50%;}#sk-container-id-6 div.sk-parallel-item:last-child::after {align-self: flex-start;width: 50%;}#sk-container-id-6 div.sk-parallel-item:only-child::after {width: 0;}#sk-container-id-6 div.sk-dashed-wrapped {border: 1px dashed gray;margin: 0 0.4em 0.5em 0.4em;box-sizing: border-box;padding-bottom: 0.4em;background-color: white;}#sk-container-id-6 div.sk-label label {font-family: monospace;font-weight: bold;display: inline-block;line-height: 1.2em;}#sk-container-id-6 div.sk-label-container {text-align: center;}#sk-container-id-6 div.sk-container {/* jupyter's `normalize.less` sets `[hidden] { display: none; }` but bootstrap.min.css set `[hidden] { display: none !important; }` so we also need the `!important` here to be able to override the default hidden behavior on the sphinx rendered scikit-learn.org. See: https://github.com/scikit-learn/scikit-learn/issues/21755 */display: inline-block !important;position: relative;}#sk-container-id-6 div.sk-text-repr-fallback {display: none;}</style><div id=\"sk-container-id-6\" class=\"sk-top-container\"><div class=\"sk-text-repr-fallback\"><pre>DecisionTreeClassifier()</pre><b>In a Jupyter environment, please rerun this cell to show the HTML representation or trust the notebook. <br />On GitHub, the HTML representation is unable to render, please try loading this page with nbviewer.org.</b></div><div class=\"sk-container\" hidden><div class=\"sk-item\"><div class=\"sk-estimator sk-toggleable\"><input class=\"sk-toggleable__control sk-hidden--visually\" id=\"sk-estimator-id-6\" type=\"checkbox\" checked><label for=\"sk-estimator-id-6\" class=\"sk-toggleable__label sk-toggleable__label-arrow\">DecisionTreeClassifier</label><div class=\"sk-toggleable__content\"><pre>DecisionTreeClassifier()</pre></div></div></div></div></div>"
            ]
          },
          "metadata": {},
          "execution_count": 72
        }
      ]
    },
    {
      "cell_type": "code",
      "source": [
        "print(sc.transform([[30,87000]]))\n",
        "print(dtree.predict(sc.transform([[40,200000]])))"
      ],
      "metadata": {
        "colab": {
          "base_uri": "https://localhost:8080/"
        },
        "id": "Gep0DCJCkMLF",
        "outputId": "141b9c29-3ae1-4d04-816c-1bb0d52d5ffb"
      },
      "id": "Gep0DCJCkMLF",
      "execution_count": 73,
      "outputs": [
        {
          "output_type": "stream",
          "name": "stdout",
          "text": [
            "[[-0.8  0.5]]\n",
            "[1]\n"
          ]
        }
      ]
    },
    {
      "cell_type": "code",
      "source": [
        "y_pred=dtree.predict(x_test)\n",
        "print(np.concatenate((y_pred.reshape(len(y_pred),1),y_test.reshape(len(y_test),1)),1))"
      ],
      "metadata": {
        "id": "CpgPRQ9mkwuV",
        "colab": {
          "base_uri": "https://localhost:8080/"
        },
        "outputId": "28b79f30-a1b7-4a91-f47b-ea8a9d7e5913"
      },
      "id": "CpgPRQ9mkwuV",
      "execution_count": 74,
      "outputs": [
        {
          "output_type": "stream",
          "name": "stdout",
          "text": [
            "[[0 0]\n",
            " [0 0]\n",
            " [0 0]\n",
            " [0 0]\n",
            " [0 0]\n",
            " [0 0]\n",
            " [0 0]\n",
            " [1 1]\n",
            " [0 0]\n",
            " [0 0]\n",
            " [0 0]\n",
            " [0 0]\n",
            " [0 0]\n",
            " [1 0]\n",
            " [0 0]\n",
            " [1 0]\n",
            " [1 0]\n",
            " [0 0]\n",
            " [1 1]\n",
            " [0 0]\n",
            " [0 0]\n",
            " [0 1]\n",
            " [0 0]\n",
            " [1 1]\n",
            " [0 0]\n",
            " [1 1]\n",
            " [0 0]\n",
            " [0 0]\n",
            " [0 0]\n",
            " [0 0]\n",
            " [0 0]\n",
            " [0 1]\n",
            " [1 1]\n",
            " [0 0]\n",
            " [0 0]\n",
            " [0 0]\n",
            " [0 0]\n",
            " [0 0]\n",
            " [0 0]\n",
            " [1 1]\n",
            " [0 0]\n",
            " [0 0]\n",
            " [0 0]\n",
            " [0 0]\n",
            " [1 1]\n",
            " [0 0]\n",
            " [0 0]\n",
            " [0 1]\n",
            " [0 0]\n",
            " [1 1]\n",
            " [1 1]\n",
            " [0 0]\n",
            " [0 0]\n",
            " [1 0]\n",
            " [1 1]\n",
            " [1 1]\n",
            " [0 0]\n",
            " [0 0]\n",
            " [1 1]\n",
            " [0 0]\n",
            " [0 0]\n",
            " [1 1]\n",
            " [0 0]\n",
            " [1 1]\n",
            " [0 0]\n",
            " [1 1]\n",
            " [0 0]\n",
            " [0 0]\n",
            " [0 0]\n",
            " [1 0]\n",
            " [1 1]\n",
            " [0 0]\n",
            " [0 0]\n",
            " [1 1]\n",
            " [0 0]\n",
            " [0 0]\n",
            " [0 0]\n",
            " [0 0]\n",
            " [1 1]\n",
            " [1 1]\n",
            " [1 1]\n",
            " [1 0]\n",
            " [0 0]\n",
            " [0 0]\n",
            " [1 1]\n",
            " [0 1]\n",
            " [0 0]\n",
            " [1 1]\n",
            " [1 1]\n",
            " [0 0]\n",
            " [0 0]\n",
            " [1 1]\n",
            " [0 0]\n",
            " [0 0]\n",
            " [0 0]\n",
            " [1 1]\n",
            " [0 0]\n",
            " [1 1]\n",
            " [1 1]\n",
            " [1 1]]\n"
          ]
        }
      ]
    },
    {
      "cell_type": "code",
      "source": [
        "from sklearn.metrics import confusion_matrix, accuracy_score\n",
        "cm=confusion_matrix(y_test,y_pred)\n",
        "print(cm)\n",
        "print(\"Accuracy: \", accuracy_score(y_test,y_pred))"
      ],
      "metadata": {
        "colab": {
          "base_uri": "https://localhost:8080/"
        },
        "id": "QsPdUb7olJOV",
        "outputId": "3777447e-773c-4de4-9705-2b838020cb75"
      },
      "id": "QsPdUb7olJOV",
      "execution_count": 75,
      "outputs": [
        {
          "output_type": "stream",
          "name": "stdout",
          "text": [
            "[[62  6]\n",
            " [ 4 28]]\n",
            "Accuracy:  0.9\n"
          ]
        }
      ]
    },
    {
      "cell_type": "markdown",
      "source": [
        "#Practical 08- k Means Clustering\n",
        "14/07/2023"
      ],
      "metadata": {
        "id": "oqnbPpiE19EH"
      },
      "id": "oqnbPpiE19EH"
    },
    {
      "cell_type": "markdown",
      "source": [
        "Importing the library"
      ],
      "metadata": {
        "id": "YojnZZy84FB2"
      },
      "id": "YojnZZy84FB2"
    },
    {
      "cell_type": "code",
      "source": [
        "import numpy as np\n",
        "import matplotlib.pyplot as plt\n",
        "import pandas as pd"
      ],
      "metadata": {
        "id": "g5J8ORuq3yY4"
      },
      "id": "g5J8ORuq3yY4",
      "execution_count": 76,
      "outputs": []
    },
    {
      "cell_type": "markdown",
      "source": [
        "Importing the dataset"
      ],
      "metadata": {
        "id": "q18ewMwT4Bvc"
      },
      "id": "q18ewMwT4Bvc"
    },
    {
      "cell_type": "code",
      "source": [
        "dataset=pd.read_csv('/content/drive/MyDrive/csv_files/Mall_Customers.csv')\n",
        "x = dataset.iloc[:,[3,4]].values"
      ],
      "metadata": {
        "id": "AzhIKhix4ASZ"
      },
      "id": "AzhIKhix4ASZ",
      "execution_count": 77,
      "outputs": []
    },
    {
      "cell_type": "code",
      "source": [
        "print(x)"
      ],
      "metadata": {
        "id": "LYuashsN4TL5",
        "colab": {
          "base_uri": "https://localhost:8080/"
        },
        "outputId": "1598e4d5-47c4-463f-ff29-3debdf1f5ce7"
      },
      "id": "LYuashsN4TL5",
      "execution_count": 78,
      "outputs": [
        {
          "output_type": "stream",
          "name": "stdout",
          "text": [
            "[[ 15  39]\n",
            " [ 15  81]\n",
            " [ 16   6]\n",
            " [ 16  77]\n",
            " [ 17  40]\n",
            " [ 17  76]\n",
            " [ 18   6]\n",
            " [ 18  94]\n",
            " [ 19   3]\n",
            " [ 19  72]\n",
            " [ 19  14]\n",
            " [ 19  99]\n",
            " [ 20  15]\n",
            " [ 20  77]\n",
            " [ 20  13]\n",
            " [ 20  79]\n",
            " [ 21  35]\n",
            " [ 21  66]\n",
            " [ 23  29]\n",
            " [ 23  98]\n",
            " [ 24  35]\n",
            " [ 24  73]\n",
            " [ 25   5]\n",
            " [ 25  73]\n",
            " [ 28  14]\n",
            " [ 28  82]\n",
            " [ 28  32]\n",
            " [ 28  61]\n",
            " [ 29  31]\n",
            " [ 29  87]\n",
            " [ 30   4]\n",
            " [ 30  73]\n",
            " [ 33   4]\n",
            " [ 33  92]\n",
            " [ 33  14]\n",
            " [ 33  81]\n",
            " [ 34  17]\n",
            " [ 34  73]\n",
            " [ 37  26]\n",
            " [ 37  75]\n",
            " [ 38  35]\n",
            " [ 38  92]\n",
            " [ 39  36]\n",
            " [ 39  61]\n",
            " [ 39  28]\n",
            " [ 39  65]\n",
            " [ 40  55]\n",
            " [ 40  47]\n",
            " [ 40  42]\n",
            " [ 40  42]\n",
            " [ 42  52]\n",
            " [ 42  60]\n",
            " [ 43  54]\n",
            " [ 43  60]\n",
            " [ 43  45]\n",
            " [ 43  41]\n",
            " [ 44  50]\n",
            " [ 44  46]\n",
            " [ 46  51]\n",
            " [ 46  46]\n",
            " [ 46  56]\n",
            " [ 46  55]\n",
            " [ 47  52]\n",
            " [ 47  59]\n",
            " [ 48  51]\n",
            " [ 48  59]\n",
            " [ 48  50]\n",
            " [ 48  48]\n",
            " [ 48  59]\n",
            " [ 48  47]\n",
            " [ 49  55]\n",
            " [ 49  42]\n",
            " [ 50  49]\n",
            " [ 50  56]\n",
            " [ 54  47]\n",
            " [ 54  54]\n",
            " [ 54  53]\n",
            " [ 54  48]\n",
            " [ 54  52]\n",
            " [ 54  42]\n",
            " [ 54  51]\n",
            " [ 54  55]\n",
            " [ 54  41]\n",
            " [ 54  44]\n",
            " [ 54  57]\n",
            " [ 54  46]\n",
            " [ 57  58]\n",
            " [ 57  55]\n",
            " [ 58  60]\n",
            " [ 58  46]\n",
            " [ 59  55]\n",
            " [ 59  41]\n",
            " [ 60  49]\n",
            " [ 60  40]\n",
            " [ 60  42]\n",
            " [ 60  52]\n",
            " [ 60  47]\n",
            " [ 60  50]\n",
            " [ 61  42]\n",
            " [ 61  49]\n",
            " [ 62  41]\n",
            " [ 62  48]\n",
            " [ 62  59]\n",
            " [ 62  55]\n",
            " [ 62  56]\n",
            " [ 62  42]\n",
            " [ 63  50]\n",
            " [ 63  46]\n",
            " [ 63  43]\n",
            " [ 63  48]\n",
            " [ 63  52]\n",
            " [ 63  54]\n",
            " [ 64  42]\n",
            " [ 64  46]\n",
            " [ 65  48]\n",
            " [ 65  50]\n",
            " [ 65  43]\n",
            " [ 65  59]\n",
            " [ 67  43]\n",
            " [ 67  57]\n",
            " [ 67  56]\n",
            " [ 67  40]\n",
            " [ 69  58]\n",
            " [ 69  91]\n",
            " [ 70  29]\n",
            " [ 70  77]\n",
            " [ 71  35]\n",
            " [ 71  95]\n",
            " [ 71  11]\n",
            " [ 71  75]\n",
            " [ 71   9]\n",
            " [ 71  75]\n",
            " [ 72  34]\n",
            " [ 72  71]\n",
            " [ 73   5]\n",
            " [ 73  88]\n",
            " [ 73   7]\n",
            " [ 73  73]\n",
            " [ 74  10]\n",
            " [ 74  72]\n",
            " [ 75   5]\n",
            " [ 75  93]\n",
            " [ 76  40]\n",
            " [ 76  87]\n",
            " [ 77  12]\n",
            " [ 77  97]\n",
            " [ 77  36]\n",
            " [ 77  74]\n",
            " [ 78  22]\n",
            " [ 78  90]\n",
            " [ 78  17]\n",
            " [ 78  88]\n",
            " [ 78  20]\n",
            " [ 78  76]\n",
            " [ 78  16]\n",
            " [ 78  89]\n",
            " [ 78   1]\n",
            " [ 78  78]\n",
            " [ 78   1]\n",
            " [ 78  73]\n",
            " [ 79  35]\n",
            " [ 79  83]\n",
            " [ 81   5]\n",
            " [ 81  93]\n",
            " [ 85  26]\n",
            " [ 85  75]\n",
            " [ 86  20]\n",
            " [ 86  95]\n",
            " [ 87  27]\n",
            " [ 87  63]\n",
            " [ 87  13]\n",
            " [ 87  75]\n",
            " [ 87  10]\n",
            " [ 87  92]\n",
            " [ 88  13]\n",
            " [ 88  86]\n",
            " [ 88  15]\n",
            " [ 88  69]\n",
            " [ 93  14]\n",
            " [ 93  90]\n",
            " [ 97  32]\n",
            " [ 97  86]\n",
            " [ 98  15]\n",
            " [ 98  88]\n",
            " [ 99  39]\n",
            " [ 99  97]\n",
            " [101  24]\n",
            " [101  68]\n",
            " [103  17]\n",
            " [103  85]\n",
            " [103  23]\n",
            " [103  69]\n",
            " [113   8]\n",
            " [113  91]\n",
            " [120  16]\n",
            " [120  79]\n",
            " [126  28]\n",
            " [126  74]\n",
            " [137  18]\n",
            " [137  83]]\n"
          ]
        }
      ]
    },
    {
      "cell_type": "markdown",
      "source": [
        "Training the k means model on the dataset"
      ],
      "metadata": {
        "id": "s8xXjGTK5Bxp"
      },
      "id": "s8xXjGTK5Bxp"
    },
    {
      "cell_type": "code",
      "source": [
        "from sklearn.cluster import KMeans\n",
        "kmeans = KMeans(n_clusters = 5, init = 'k-means++', random_state = 42)\n",
        "y_kmeans = kmeans.fit_predict(x)\n",
        "print(y_kmeans)"
      ],
      "metadata": {
        "colab": {
          "base_uri": "https://localhost:8080/"
        },
        "id": "GZuASp8E5J7m",
        "outputId": "6276a8e9-89fe-4169-b437-c02153c6d466"
      },
      "id": "GZuASp8E5J7m",
      "execution_count": 79,
      "outputs": [
        {
          "output_type": "stream",
          "name": "stdout",
          "text": [
            "[2 3 2 3 2 3 2 3 2 3 2 3 2 3 2 3 2 3 2 3 2 3 2 3 2 3 2 3 2 3 2 3 2 3 2 3 2\n",
            " 3 2 3 2 3 2 0 2 3 0 0 0 0 0 0 0 0 0 0 0 0 0 0 0 0 0 0 0 0 0 0 0 0 0 0 0 0\n",
            " 0 0 0 0 0 0 0 0 0 0 0 0 0 0 0 0 0 0 0 0 0 0 0 0 0 0 0 0 0 0 0 0 0 0 0 0 0\n",
            " 0 0 0 0 0 0 0 0 0 0 0 0 4 1 4 0 4 1 4 1 4 0 4 1 4 1 4 1 4 1 4 0 4 1 4 1 4\n",
            " 1 4 1 4 1 4 1 4 1 4 1 4 1 4 1 4 1 4 1 4 1 4 1 4 1 4 1 4 1 4 1 4 1 4 1 4 1\n",
            " 4 1 4 1 4 1 4 1 4 1 4 1 4 1 4]\n"
          ]
        },
        {
          "output_type": "stream",
          "name": "stderr",
          "text": [
            "/usr/local/lib/python3.10/dist-packages/sklearn/cluster/_kmeans.py:870: FutureWarning: The default value of `n_init` will change from 10 to 'auto' in 1.4. Set the value of `n_init` explicitly to suppress the warning\n",
            "  warnings.warn(\n"
          ]
        }
      ]
    },
    {
      "cell_type": "markdown",
      "source": [
        "Visualising the clusters"
      ],
      "metadata": {
        "id": "ovuOY7SG6CqU"
      },
      "id": "ovuOY7SG6CqU"
    },
    {
      "cell_type": "code",
      "source": [
        "plt.scatter(x[y_kmeans == 0,0],x[y_kmeans == 0,1], s = 100, c='red', label='CLuster 1')\n",
        "plt.scatter(x[y_kmeans == 1,0],x[y_kmeans == 1,1], s = 100, c='blue', label='CLuster 2')\n",
        "plt.scatter(x[y_kmeans == 2,0],x[y_kmeans == 2,1], s = 100, c='green', label='Cluster 3')\n",
        "plt.scatter(x[y_kmeans == 3,0],x[y_kmeans == 3,1], s = 100, c='cyan', label='CLuster 4')\n",
        "plt.scatter(x[y_kmeans == 4,0],x[y_kmeans == 4,1], s = 100, c='magenta', label='CLuster 5')\n",
        "plt.scatter(kmeans.cluster_centers_[:,0],kmeans.cluster_centers_[:,1],s=300,c='black',label='Centroid')\n",
        "\n",
        "plt.title('Clusters of customers')\n",
        "plt.xlabel('Annual Income (k$)')\n",
        "plt.ylabel('Spending Score(1-100)')\n",
        "plt.legend()"
      ],
      "metadata": {
        "colab": {
          "base_uri": "https://localhost:8080/",
          "height": 0
        },
        "id": "My11pV5w58Yv",
        "outputId": "aed39455-acfc-4a76-a36c-eba26956ec55"
      },
      "id": "My11pV5w58Yv",
      "execution_count": 80,
      "outputs": [
        {
          "output_type": "execute_result",
          "data": {
            "text/plain": [
              "<matplotlib.legend.Legend at 0x782e8a43b0d0>"
            ]
          },
          "metadata": {},
          "execution_count": 80
        },
        {
          "output_type": "display_data",
          "data": {
            "text/plain": [
              "<Figure size 640x480 with 1 Axes>"
            ],
            "image/png": "[encoded data removed]"
          },
          "metadata": {}
        }
      ]
    },
    {
      "cell_type": "markdown",
      "source": [
        "# Practical 09 - Hierarchical Clustering\n",
        "22/07/2023\n"
      ],
      "metadata": {
        "id": "IfqG_I7La5Gf"
      },
      "id": "IfqG_I7La5Gf"
    },
    {
      "cell_type": "code",
      "source": [
        "#Importing Libraries\n",
        "import numpy as np\n",
        "import matplotlib.pyplot as plt\n",
        "import pandas as pd\n",
        "from sklearn.cluster import AgglomerativeClustering"
      ],
      "metadata": {
        "id": "nMUtmddGbAb4"
      },
      "id": "nMUtmddGbAb4",
      "execution_count": 81,
      "outputs": []
    },
    {
      "cell_type": "code",
      "source": [
        "# Importing the dataset\n",
        "dataset=pd.read_csv('/content/drive/MyDrive/csv_files/Mall_Customers.csv')\n",
        "# Extracting the matrix of features\n",
        "x = dataset.iloc[:, [3, 4]].values"
      ],
      "metadata": {
        "id": "q9U766wNbLd7"
      },
      "id": "q9U766wNbLd7",
      "execution_count": 82,
      "outputs": []
    },
    {
      "cell_type": "code",
      "source": [
        "# Finding the optimal number of clusters using the dendrogram\n",
        "import scipy.cluster.hierarchy as shc\n",
        "dendro = shc.dendrogram(shc.linkage(x, method=\"ward\"))\n",
        "plt.title(\"Dendrogrma Plot\")\n",
        "plt.ylabel(\"Euclidean Distances\")\n",
        "plt.xlabel(\"Customers\")\n",
        "plt.show()"
      ],
      "metadata": {
        "colab": {
          "base_uri": "https://localhost:8080/",
          "height": 0
        },
        "id": "hs7DAITUd55o",
        "outputId": "c5b07981-8faa-47f1-8dde-322952d76424"
      },
      "id": "hs7DAITUd55o",
      "execution_count": 83,
      "outputs": [
        {
          "output_type": "display_data",
          "data": {
            "text/plain": [
              "<Figure size 640x480 with 1 Axes>"
            ],
            "image/png": "[encoded data removed]"
          },
          "metadata": {}
        }
      ]
    },
    {
      "cell_type": "code",
      "source": [
        "#training the hierarchical model on dataset\n",
        "hc= AgglomerativeClustering(n_clusters=5, affinity='euclidean', linkage='ward')\n",
        "y_pred= hc.fit_predict(x)"
      ],
      "metadata": {
        "colab": {
          "base_uri": "https://localhost:8080/"
        },
        "id": "H2Tg_ahPbNxr",
        "outputId": "6570faab-aba2-48c5-ab9e-96c77f549220"
      },
      "id": "H2Tg_ahPbNxr",
      "execution_count": 84,
      "outputs": [
        {
          "output_type": "stream",
          "name": "stderr",
          "text": [
            "/usr/local/lib/python3.10/dist-packages/sklearn/cluster/_agglomerative.py:983: FutureWarning: Attribute `affinity` was deprecated in version 1.2 and will be removed in 1.4. Use `metric` instead\n",
            "  warnings.warn(\n"
          ]
        }
      ]
    },
    {
      "cell_type": "code",
      "source": [
        "#visulaizing the clusters\n",
        "plt.scatter(x[y_pred == 0, 0], x[y_pred == 0, 1], s = 100, c = 'blue', label = 'Cluster 1')\n",
        "plt.scatter(x[y_pred == 1, 0], x[y_pred == 1, 1], s = 100, c = 'green', label = 'Cluster 2')\n",
        "plt.scatter(x[y_pred== 2, 0], x[y_pred == 2, 1], s = 100, c = 'red', label = 'Cluster 3')\n",
        "plt.scatter(x[y_pred == 3, 0], x[y_pred == 3, 1], s = 100, c = 'cyan', label = 'Cluster 4')\n",
        "plt.scatter(x[y_pred == 4, 0], x[y_pred == 4, 1], s = 100, c = 'magenta', label = 'Cluster 5')\n",
        "plt.title('Clusters of customers')\n",
        "plt.xlabel('Annual Income (k$)')\n",
        "plt.ylabel('Spending Score (1-100)')\n",
        "plt.legend()\n",
        "plt.show()"
      ],
      "metadata": {
        "colab": {
          "base_uri": "https://localhost:8080/",
          "height": 0
        },
        "id": "Y_8BZTBobV2L",
        "outputId": "e8356743-e86c-4672-c874-363a1325dff7"
      },
      "id": "Y_8BZTBobV2L",
      "execution_count": 85,
      "outputs": [
        {
          "output_type": "display_data",
          "data": {
            "text/plain": [
              "<Figure size 640x480 with 1 Axes>"
            ],
            "image/png": "[encoded data removed]"
          },
          "metadata": {}
        }
      ]
    },
    {
      "cell_type": "markdown",
      "source": [
        "# Practical 10 - Artificial Neural Network (ANN)"
      ],
      "metadata": {
        "id": "jrHArUkfBtA5"
      },
      "id": "jrHArUkfBtA5"
    },
    {
      "cell_type": "code",
      "source": [
        "import numpy as np\n",
        "import pandas as pd\n",
        "import tensorflow as tf"
      ],
      "metadata": {
        "id": "4GRfHBLDBzQ8"
      },
      "id": "4GRfHBLDBzQ8",
      "execution_count": 86,
      "outputs": []
    },
    {
      "cell_type": "code",
      "source": [
        "tf.__version__"
      ],
      "metadata": {
        "colab": {
          "base_uri": "https://localhost:8080/",
          "height": 35
        },
        "id": "RG6M57JzDUD3",
        "outputId": "21f912e9-e4ea-4792-c805-9d186a28cabc"
      },
      "id": "RG6M57JzDUD3",
      "execution_count": 87,
      "outputs": [
        {
          "output_type": "execute_result",
          "data": {
            "text/plain": [
              "'2.13.0'"
            ],
            "application/vnd.google.colaboratory.intrinsic+json": {
              "type": "string"
            }
          },
          "metadata": {},
          "execution_count": 87
        }
      ]
    },
    {
      "cell_type": "markdown",
      "source": [
        "**Part 1 - Data Preprocessing**\n",
        "\n",
        "```\n",
        "# Importing the dataset\n",
        "```"
      ],
      "metadata": {
        "id": "hjVkhQzqCCrM"
      },
      "id": "hjVkhQzqCCrM"
    },
    {
      "cell_type": "code",
      "source": [
        "dataset = pd.read_csv('/content/drive/MyDrive/csv_files/Churn_Modelling.csv')\n",
        "x = dataset.iloc[:, 3:-1].values\n",
        "y = dataset.iloc[:,-1].values"
      ],
      "metadata": {
        "id": "3k4hh-lFB_me"
      },
      "id": "3k4hh-lFB_me",
      "execution_count": 88,
      "outputs": []
    },
    {
      "cell_type": "code",
      "source": [
        "print(x)"
      ],
      "metadata": {
        "colab": {
          "base_uri": "https://localhost:8080/"
        },
        "id": "DqKtetiHDO0J",
        "outputId": "c086d3f3-aeef-45fb-991d-56a26540d7c8"
      },
      "id": "DqKtetiHDO0J",
      "execution_count": 89,
      "outputs": [
        {
          "output_type": "stream",
          "name": "stdout",
          "text": [
            "[[619 'France' 'Female' ... 1 1 101348.88]\n",
            " [608 'Spain' 'Female' ... 0 1 112542.58]\n",
            " [502 'France' 'Female' ... 1 0 113931.57]\n",
            " ...\n",
            " [709 'France' 'Female' ... 0 1 42085.58]\n",
            " [772 'Germany' 'Male' ... 1 0 92888.52]\n",
            " [792 'France' 'Female' ... 1 0 38190.78]]\n"
          ]
        }
      ]
    },
    {
      "cell_type": "code",
      "source": [
        "print(y)"
      ],
      "metadata": {
        "colab": {
          "base_uri": "https://localhost:8080/"
        },
        "id": "D9JKuIxiD8mG",
        "outputId": "6ca208a3-ce55-4c4b-bbd8-a3de36beb0f2"
      },
      "id": "D9JKuIxiD8mG",
      "execution_count": 90,
      "outputs": [
        {
          "output_type": "stream",
          "name": "stdout",
          "text": [
            "[1 0 1 ... 1 1 0]\n"
          ]
        }
      ]
    },
    {
      "cell_type": "markdown",
      "source": [
        "**Encoding categorical data**\n",
        "\n",
        "```\n",
        "# Label Encoding the 'Gender' column\n",
        "```"
      ],
      "metadata": {
        "id": "iDZWcswyEC0x"
      },
      "id": "iDZWcswyEC0x"
    },
    {
      "cell_type": "code",
      "source": [
        "from sklearn.preprocessing import LabelEncoder\n",
        "le = LabelEncoder()\n",
        "x[:,2] = le.fit_transform(x[:,2])"
      ],
      "metadata": {
        "id": "AZEeINU7ENkj"
      },
      "id": "AZEeINU7ENkj",
      "execution_count": 91,
      "outputs": []
    },
    {
      "cell_type": "code",
      "source": [
        "print(x)"
      ],
      "metadata": {
        "colab": {
          "base_uri": "https://localhost:8080/"
        },
        "id": "xDfnNwokEb8h",
        "outputId": "6aaf3697-a088-41e6-faa7-f17ac8dc1d14"
      },
      "id": "xDfnNwokEb8h",
      "execution_count": 92,
      "outputs": [
        {
          "output_type": "stream",
          "name": "stdout",
          "text": [
            "[[619 'France' 0 ... 1 1 101348.88]\n",
            " [608 'Spain' 0 ... 0 1 112542.58]\n",
            " [502 'France' 0 ... 1 0 113931.57]\n",
            " ...\n",
            " [709 'France' 0 ... 0 1 42085.58]\n",
            " [772 'Germany' 1 ... 1 0 92888.52]\n",
            " [792 'France' 0 ... 1 0 38190.78]]\n"
          ]
        }
      ]
    },
    {
      "cell_type": "markdown",
      "source": [
        "**One Hot Encoding the 'Geography' column**"
      ],
      "metadata": {
        "id": "z544cjuZErz8"
      },
      "id": "z544cjuZErz8"
    },
    {
      "cell_type": "code",
      "source": [
        "from sklearn.compose import ColumnTransformer\n",
        "from sklearn.preprocessing import OneHotEncoder\n",
        "ct = ColumnTransformer(transformers=[('encoder',OneHotEncoder(),[1])], remainder='passthrough')\n",
        "x = np.array(ct.fit_transform(x))"
      ],
      "metadata": {
        "id": "5uL71pOCEo-X"
      },
      "id": "5uL71pOCEo-X",
      "execution_count": 93,
      "outputs": []
    },
    {
      "cell_type": "code",
      "source": [
        "print(x)"
      ],
      "metadata": {
        "colab": {
          "base_uri": "https://localhost:8080/"
        },
        "id": "zqDOlg3pFX7B",
        "outputId": "f1c34644-7537-473b-d7fc-0fa101e7c0b9"
      },
      "id": "zqDOlg3pFX7B",
      "execution_count": 94,
      "outputs": [
        {
          "output_type": "stream",
          "name": "stdout",
          "text": [
            "[[1.0 0.0 0.0 ... 1 1 101348.88]\n",
            " [0.0 0.0 1.0 ... 0 1 112542.58]\n",
            " [1.0 0.0 0.0 ... 1 0 113931.57]\n",
            " ...\n",
            " [1.0 0.0 0.0 ... 0 1 42085.58]\n",
            " [0.0 1.0 0.0 ... 1 0 92888.52]\n",
            " [1.0 0.0 0.0 ... 1 0 38190.78]]\n"
          ]
        }
      ]
    },
    {
      "cell_type": "markdown",
      "source": [
        "**Splitting the ds into the training set and test set**"
      ],
      "metadata": {
        "id": "St6ev2mCFbAb"
      },
      "id": "St6ev2mCFbAb"
    },
    {
      "cell_type": "code",
      "source": [
        "from sklearn.model_selection import train_test_split\n",
        "x_train, x_test, y_train, y_test = train_test_split(x,y, test_size = 0.2, random_state = 0)"
      ],
      "metadata": {
        "id": "c_k5z3VZFaNQ"
      },
      "id": "c_k5z3VZFaNQ",
      "execution_count": 95,
      "outputs": []
    },
    {
      "cell_type": "markdown",
      "source": [
        "**Feature Scaling**"
      ],
      "metadata": {
        "id": "2BjW35lAFztL"
      },
      "id": "2BjW35lAFztL"
    },
    {
      "cell_type": "code",
      "source": [
        "from sklearn.preprocessing import StandardScaler\n",
        "sc = StandardScaler()\n",
        "x_train = sc.fit_transform(x_train)\n",
        "x_test = sc.transform(x_test)"
      ],
      "metadata": {
        "id": "6V1JiInaFy4m"
      },
      "id": "6V1JiInaFy4m",
      "execution_count": 96,
      "outputs": []
    },
    {
      "cell_type": "markdown",
      "source": [
        "**Part 2 - Building the ANN**\n",
        "\n",
        "\n",
        "```\n",
        "# Initializing the ANN\n",
        "```\n",
        "\n"
      ],
      "metadata": {
        "id": "8l8Y9X_wGbh7"
      },
      "id": "8l8Y9X_wGbh7"
    },
    {
      "cell_type": "code",
      "source": [
        "ann = tf.keras.models.Sequential()"
      ],
      "metadata": {
        "id": "7s6liKHDGaxu"
      },
      "id": "7s6liKHDGaxu",
      "execution_count": 97,
      "outputs": []
    },
    {
      "cell_type": "markdown",
      "source": [
        "```\n",
        "# Adding the input and first hidden layer\n",
        "```\n",
        "\n",
        "\n"
      ],
      "metadata": {
        "id": "knbPKkDMH2Sb"
      },
      "id": "knbPKkDMH2Sb"
    },
    {
      "cell_type": "code",
      "source": [
        "ann.add(tf.keras.layers.Dense(units=6, activation = 'relu'))"
      ],
      "metadata": {
        "id": "3qCs9T0PG2pg"
      },
      "id": "3qCs9T0PG2pg",
      "execution_count": 98,
      "outputs": []
    },
    {
      "cell_type": "markdown",
      "source": [
        "```\n",
        "# Adding the second hidden layer\n",
        "```"
      ],
      "metadata": {
        "id": "KqpgbBc4IgJg"
      },
      "id": "KqpgbBc4IgJg"
    },
    {
      "cell_type": "code",
      "source": [
        "ann.add(tf.keras.layers.Dense(units=6, activation = 'relu'))"
      ],
      "metadata": {
        "id": "7KW4XWPvISeb"
      },
      "id": "7KW4XWPvISeb",
      "execution_count": 99,
      "outputs": []
    },
    {
      "cell_type": "markdown",
      "source": [
        "```\n",
        "# Adding the output layer\n",
        "```"
      ],
      "metadata": {
        "id": "s7Re5Y_fIq1K"
      },
      "id": "s7Re5Y_fIq1K"
    },
    {
      "cell_type": "code",
      "source": [
        "ann.add(tf.keras.layers.Dense(units=1, activation = 'sigmoid'))"
      ],
      "metadata": {
        "id": "0qxb6kiYIo_Q"
      },
      "id": "0qxb6kiYIo_Q",
      "execution_count": 100,
      "outputs": []
    },
    {
      "cell_type": "markdown",
      "source": [
        "**Part 3 - Training the ANN**\n",
        "\n",
        "\n",
        "```\n",
        "# Compiling the ANN\n",
        "```\n",
        "\n"
      ],
      "metadata": {
        "id": "ddexR_ZfIx3Z"
      },
      "id": "ddexR_ZfIx3Z"
    },
    {
      "cell_type": "code",
      "source": [
        "ann.compile(optimizer = 'adam', loss = 'binary_crossentropy', metrics = ['accuracy'])"
      ],
      "metadata": {
        "id": "HfZPtJ2hIxEB"
      },
      "id": "HfZPtJ2hIxEB",
      "execution_count": 101,
      "outputs": []
    },
    {
      "cell_type": "markdown",
      "source": [
        "\n",
        "```\n",
        "Training the ANN on the TRaining Set\n",
        "```"
      ],
      "metadata": {
        "id": "p0qSr_X3Jduq"
      },
      "id": "p0qSr_X3Jduq"
    },
    {
      "cell_type": "code",
      "source": [
        "ann.fit(x_train,y_train, batch_size = 32, epochs = 10)"
      ],
      "metadata": {
        "colab": {
          "base_uri": "https://localhost:8080/"
        },
        "id": "aw3oSEwqJZf_",
        "outputId": "44811bda-2ad3-4e43-806f-142fd0420d2f"
      },
      "id": "aw3oSEwqJZf_",
      "execution_count": 102,
      "outputs": [
        {
          "output_type": "stream",
          "name": "stdout",
          "text": [
            "Epoch 1/10\n",
            "250/250 [==============================] - 7s 3ms/step - loss: 0.5328 - accuracy: 0.7735\n",
            "Epoch 2/10\n",
            "250/250 [==============================] - 1s 3ms/step - loss: 0.4720 - accuracy: 0.7960\n",
            "Epoch 3/10\n",
            "250/250 [==============================] - 1s 3ms/step - loss: 0.4532 - accuracy: 0.7960\n",
            "Epoch 4/10\n",
            "250/250 [==============================] - 1s 3ms/step - loss: 0.4419 - accuracy: 0.7960\n",
            "Epoch 5/10\n",
            "250/250 [==============================] - 1s 3ms/step - loss: 0.4352 - accuracy: 0.7960\n",
            "Epoch 6/10\n",
            "250/250 [==============================] - 1s 3ms/step - loss: 0.4313 - accuracy: 0.7960\n",
            "Epoch 7/10\n",
            "250/250 [==============================] - 1s 3ms/step - loss: 0.4276 - accuracy: 0.7960\n",
            "Epoch 8/10\n",
            "250/250 [==============================] - 1s 3ms/step - loss: 0.4250 - accuracy: 0.7960\n",
            "Epoch 9/10\n",
            "250/250 [==============================] - 1s 3ms/step - loss: 0.4216 - accuracy: 0.7980\n",
            "Epoch 10/10\n",
            "250/250 [==============================] - 1s 3ms/step - loss: 0.4193 - accuracy: 0.8076\n"
          ]
        },
        {
          "output_type": "execute_result",
          "data": {
            "text/plain": [
              "<keras.src.callbacks.History at 0x782e366f2470>"
            ]
          },
          "metadata": {},
          "execution_count": 102
        }
      ]
    },
    {
      "cell_type": "code",
      "source": [
        "print(ann.predict(sc.transform([[1, 0, 0, 600, 1, 40, 3, 60000, 2, 1, 1, 50000]])) >0.5)"
      ],
      "metadata": {
        "colab": {
          "base_uri": "https://localhost:8080/"
        },
        "id": "idO-wcHBNto0",
        "outputId": "5379c764-abbb-4371-990f-da677fcb915f"
      },
      "id": "idO-wcHBNto0",
      "execution_count": 103,
      "outputs": [
        {
          "output_type": "stream",
          "name": "stdout",
          "text": [
            "1/1 [==============================] - 0s 93ms/step\n",
            "[[False]]\n"
          ]
        }
      ]
    },
    {
      "cell_type": "markdown",
      "source": [
        "```\n",
        "# Predicting the test set results\n",
        "```"
      ],
      "metadata": {
        "id": "W4MRU-ygLhEC"
      },
      "id": "W4MRU-ygLhEC"
    },
    {
      "cell_type": "code",
      "source": [
        "y_pred = ann.predict(x_test)\n",
        "y_pred = (y_pred>0.5)\n",
        "print(np.concatenate((y_pred.reshape(len(y_pred),1),y_test.reshape(len(y_test),1)),1))"
      ],
      "metadata": {
        "colab": {
          "base_uri": "https://localhost:8080/"
        },
        "id": "nwvQaD_iLl-X",
        "outputId": "63ed68d6-a95b-46dc-93bd-a80b411d0de4"
      },
      "id": "nwvQaD_iLl-X",
      "execution_count": 104,
      "outputs": [
        {
          "output_type": "stream",
          "name": "stdout",
          "text": [
            "63/63 [==============================] - 0s 2ms/step\n",
            "[[0 0]\n",
            " [0 1]\n",
            " [0 0]\n",
            " ...\n",
            " [0 0]\n",
            " [0 0]\n",
            " [0 0]]\n"
          ]
        }
      ]
    },
    {
      "cell_type": "code",
      "source": [
        "from sklearn.metrics import confusion_matrix, accuracy_score\n",
        "cm = confusion_matrix(y_test, y_pred)\n",
        "print(cm)\n",
        "accuracy_score(y_test, y_pred)"
      ],
      "metadata": {
        "colab": {
          "base_uri": "https://localhost:8080/"
        },
        "id": "RworTNpuL5sM",
        "outputId": "29e54c98-c438-4d14-95d4-894ae95aff2d"
      },
      "id": "RworTNpuL5sM",
      "execution_count": 105,
      "outputs": [
        {
          "output_type": "stream",
          "name": "stdout",
          "text": [
            "[[1580   15]\n",
            " [ 372   33]]\n"
          ]
        },
        {
          "output_type": "execute_result",
          "data": {
            "text/plain": [
              "0.8065"
            ]
          },
          "metadata": {},
          "execution_count": 105
        }
      ]
    },
    {
      "cell_type": "markdown",
      "source": [
        "# Practical 11 - CNN\n"
      ],
      "metadata": {
        "id": "2mTUuPgux060"
      },
      "id": "2mTUuPgux060"
    },
    {
      "cell_type": "code",
      "source": [
        "import tensorflow as tf\n",
        "from keras.preprocessing.image import ImageDataGenerator as IDG"
      ],
      "metadata": {
        "id": "AzKcsYktx3t1"
      },
      "id": "AzKcsYktx3t1",
      "execution_count": 106,
      "outputs": []
    },
    {
      "cell_type": "code",
      "source": [
        "tf.__version__"
      ],
      "metadata": {
        "colab": {
          "base_uri": "https://localhost:8080/",
          "height": 35
        },
        "id": "O0e4z28XyOm0",
        "outputId": "1d690664-865d-4c3c-db9d-6ecc207de7a9"
      },
      "id": "O0e4z28XyOm0",
      "execution_count": 107,
      "outputs": [
        {
          "output_type": "execute_result",
          "data": {
            "text/plain": [
              "'2.13.0'"
            ],
            "application/vnd.google.colaboratory.intrinsic+json": {
              "type": "string"
            }
          },
          "metadata": {},
          "execution_count": 107
        }
      ]
    },
    {
      "cell_type": "code",
      "source": [
        "#ls"
      ],
      "metadata": {
        "id": "o0G5O7s8_JNs"
      },
      "id": "o0G5O7s8_JNs",
      "execution_count": 108,
      "outputs": []
    },
    {
      "cell_type": "code",
      "source": [
        "#!unzip images.zip"
      ],
      "metadata": {
        "id": "pdm_tOrA-5M1"
      },
      "id": "pdm_tOrA-5M1",
      "execution_count": 109,
      "outputs": []
    },
    {
      "cell_type": "code",
      "source": [
        "train_datagen =IDG(rescale = 1./255,\n",
        "                   shear_range = 0.2,\n",
        "                   zoom_range = 0.2,\n",
        "                   horizontal_flip=True)\n",
        "training_set = train_datagen.flow_from_directory('/content/drive/MyDrive/MLDL/images',\n",
        "                                            target_size = (64,64),\n",
        "                                            batch_size = 32,\n",
        "                                            class_mode = 'binary')"
      ],
      "metadata": {
        "colab": {
          "base_uri": "https://localhost:8080/"
        },
        "id": "C4dTUDdMyTjk",
        "outputId": "a23e021c-b9fa-4b46-a95c-5dbda3b78d13"
      },
      "id": "C4dTUDdMyTjk",
      "execution_count": 110,
      "outputs": [
        {
          "output_type": "stream",
          "name": "stdout",
          "text": [
            "Found 31 images belonging to 2 classes.\n"
          ]
        }
      ]
    },
    {
      "cell_type": "code",
      "source": [
        "test_datagen = IDG(rescale = 1./255)\n",
        "test_set = test_datagen.flow_from_directory('/content/drive/MyDrive/MLDL/images',\n",
        "                                            target_size=(64,64),\n",
        "                                            batch_size=32,\n",
        "                                            class_mode = 'binary')"
      ],
      "metadata": {
        "colab": {
          "base_uri": "https://localhost:8080/"
        },
        "id": "Siv-Nh_6yU_s",
        "outputId": "16d90ff3-5846-49b3-ed46-d6148d17056b"
      },
      "id": "Siv-Nh_6yU_s",
      "execution_count": 111,
      "outputs": [
        {
          "output_type": "stream",
          "name": "stdout",
          "text": [
            "Found 31 images belonging to 2 classes.\n"
          ]
        }
      ]
    },
    {
      "cell_type": "code",
      "source": [
        "cnn = tf.keras.models.Sequential()"
      ],
      "metadata": {
        "id": "7jxGGVVIAIgr"
      },
      "id": "7jxGGVVIAIgr",
      "execution_count": 112,
      "outputs": []
    },
    {
      "cell_type": "code",
      "source": [
        "cnn.add(tf.keras.layers.Conv2D(filters = 32, kernel_size = 3, activation = 'relu', input_shape = (64,64,3)))"
      ],
      "metadata": {
        "id": "E2tjmjKRARP4"
      },
      "id": "E2tjmjKRARP4",
      "execution_count": 113,
      "outputs": []
    },
    {
      "cell_type": "code",
      "source": [
        "cnn.add(tf.keras.layers.MaxPool2D(pool_size = 2, strides = 2))"
      ],
      "metadata": {
        "id": "9QdzVAXSASe5"
      },
      "id": "9QdzVAXSASe5",
      "execution_count": 114,
      "outputs": []
    },
    {
      "cell_type": "code",
      "source": [
        "cnn.add(tf.keras.layers.Conv2D(filters = 32, kernel_size = 3, activation = 'relu'))\n",
        "cnn.add(tf.keras.layers.MaxPool2D(pool_size = 2, strides = 2))"
      ],
      "metadata": {
        "id": "vkp16waTATsA"
      },
      "id": "vkp16waTATsA",
      "execution_count": 115,
      "outputs": []
    },
    {
      "cell_type": "code",
      "source": [
        "cnn.add(tf.keras.layers.Flatten())"
      ],
      "metadata": {
        "id": "09Fl6ku6AVB6"
      },
      "id": "09Fl6ku6AVB6",
      "execution_count": 116,
      "outputs": []
    },
    {
      "cell_type": "code",
      "source": [
        "cnn.add(tf.keras.layers.Dense(units = 128, activation = 'relu'))"
      ],
      "metadata": {
        "id": "jkL2cd0kAWU3"
      },
      "id": "jkL2cd0kAWU3",
      "execution_count": 117,
      "outputs": []
    },
    {
      "cell_type": "code",
      "source": [
        "cnn.add(tf.keras.layers.Dense(units = 1, activation = 'sigmoid'))"
      ],
      "metadata": {
        "id": "oQFok3MDAXif"
      },
      "id": "oQFok3MDAXif",
      "execution_count": 118,
      "outputs": []
    },
    {
      "cell_type": "code",
      "source": [
        "cnn.compile(optimizer = 'adam', loss = 'binary_crossentropy', metrics = ['accuracy'])"
      ],
      "metadata": {
        "id": "WFLEBvLKAY6M"
      },
      "id": "WFLEBvLKAY6M",
      "execution_count": 119,
      "outputs": []
    },
    {
      "cell_type": "code",
      "source": [
        "cnn.fit(x = training_set, validation_data=test_set,epochs = 25)"
      ],
      "metadata": {
        "colab": {
          "base_uri": "https://localhost:8080/"
        },
        "id": "zylSJnvcAaVL",
        "outputId": "52ca4b74-942e-426a-bb4c-fe5e3678b2c0"
      },
      "id": "zylSJnvcAaVL",
      "execution_count": 120,
      "outputs": [
        {
          "output_type": "stream",
          "name": "stdout",
          "text": [
            "Epoch 1/25\n",
            "1/1 [==============================] - 8s 8s/step - loss: 0.6936 - accuracy: 0.4839 - val_loss: 0.7008 - val_accuracy: 0.4839\n",
            "Epoch 2/25\n",
            "1/1 [==============================] - 0s 187ms/step - loss: 0.7003 - accuracy: 0.4839 - val_loss: 0.8201 - val_accuracy: 0.5161\n",
            "Epoch 3/25\n",
            "1/1 [==============================] - 0s 193ms/step - loss: 0.7961 - accuracy: 0.5161 - val_loss: 0.6542 - val_accuracy: 0.5161\n",
            "Epoch 4/25\n",
            "1/1 [==============================] - 0s 194ms/step - loss: 0.6481 - accuracy: 0.5161 - val_loss: 0.6549 - val_accuracy: 0.6452\n",
            "Epoch 5/25\n",
            "1/1 [==============================] - 0s 180ms/step - loss: 0.6483 - accuracy: 0.6774 - val_loss: 0.6666 - val_accuracy: 0.5484\n",
            "Epoch 6/25\n",
            "1/1 [==============================] - 0s 191ms/step - loss: 0.6639 - accuracy: 0.5484 - val_loss: 0.6467 - val_accuracy: 0.6452\n",
            "Epoch 7/25\n",
            "1/1 [==============================] - 0s 184ms/step - loss: 0.6592 - accuracy: 0.6452 - val_loss: 0.6176 - val_accuracy: 0.7419\n",
            "Epoch 8/25\n",
            "1/1 [==============================] - 0s 197ms/step - loss: 0.6203 - accuracy: 0.7097 - val_loss: 0.6071 - val_accuracy: 0.6774\n",
            "Epoch 9/25\n",
            "1/1 [==============================] - 0s 201ms/step - loss: 0.6067 - accuracy: 0.7742 - val_loss: 0.6034 - val_accuracy: 0.6452\n",
            "Epoch 10/25\n",
            "1/1 [==============================] - 0s 180ms/step - loss: 0.6096 - accuracy: 0.6452 - val_loss: 0.5789 - val_accuracy: 0.6774\n",
            "Epoch 11/25\n",
            "1/1 [==============================] - 0s 186ms/step - loss: 0.5817 - accuracy: 0.7419 - val_loss: 0.5460 - val_accuracy: 0.7742\n",
            "Epoch 12/25\n",
            "1/1 [==============================] - 0s 185ms/step - loss: 0.5691 - accuracy: 0.7419 - val_loss: 0.5267 - val_accuracy: 0.7419\n",
            "Epoch 13/25\n",
            "1/1 [==============================] - 0s 180ms/step - loss: 0.5412 - accuracy: 0.7419 - val_loss: 0.5031 - val_accuracy: 0.7419\n",
            "Epoch 14/25\n",
            "1/1 [==============================] - 0s 485ms/step - loss: 0.5248 - accuracy: 0.7742 - val_loss: 0.4876 - val_accuracy: 0.7742\n",
            "Epoch 15/25\n",
            "1/1 [==============================] - 0s 478ms/step - loss: 0.4965 - accuracy: 0.8065 - val_loss: 0.4892 - val_accuracy: 0.7097\n",
            "Epoch 16/25\n",
            "1/1 [==============================] - 0s 263ms/step - loss: 0.4787 - accuracy: 0.7742 - val_loss: 0.4365 - val_accuracy: 0.8387\n",
            "Epoch 17/25\n",
            "1/1 [==============================] - 1s 684ms/step - loss: 0.4792 - accuracy: 0.7742 - val_loss: 0.4249 - val_accuracy: 0.8065\n",
            "Epoch 18/25\n",
            "1/1 [==============================] - 0s 194ms/step - loss: 0.4728 - accuracy: 0.7742 - val_loss: 0.3994 - val_accuracy: 0.8387\n",
            "Epoch 19/25\n",
            "1/1 [==============================] - 0s 220ms/step - loss: 0.4594 - accuracy: 0.7742 - val_loss: 0.4363 - val_accuracy: 0.7419\n",
            "Epoch 20/25\n",
            "1/1 [==============================] - 1s 547ms/step - loss: 0.4309 - accuracy: 0.8065 - val_loss: 0.3548 - val_accuracy: 0.8387\n",
            "Epoch 21/25\n",
            "1/1 [==============================] - 0s 426ms/step - loss: 0.3531 - accuracy: 0.8710 - val_loss: 0.3390 - val_accuracy: 0.8065\n",
            "Epoch 22/25\n",
            "1/1 [==============================] - 0s 245ms/step - loss: 0.3709 - accuracy: 0.8387 - val_loss: 0.3565 - val_accuracy: 0.8387\n",
            "Epoch 23/25\n",
            "1/1 [==============================] - 0s 308ms/step - loss: 0.4001 - accuracy: 0.8065 - val_loss: 0.3253 - val_accuracy: 0.9032\n",
            "Epoch 24/25\n",
            "1/1 [==============================] - 0s 236ms/step - loss: 0.3596 - accuracy: 0.8710 - val_loss: 0.2854 - val_accuracy: 0.8387\n",
            "Epoch 25/25\n",
            "1/1 [==============================] - 0s 302ms/step - loss: 0.3232 - accuracy: 0.8387 - val_loss: 0.2766 - val_accuracy: 0.9032\n"
          ]
        },
        {
          "output_type": "execute_result",
          "data": {
            "text/plain": [
              "<keras.src.callbacks.History at 0x782e281afdf0>"
            ]
          },
          "metadata": {},
          "execution_count": 120
        }
      ]
    },
    {
      "cell_type": "code",
      "source": [
        "import numpy as np\n",
        "from tensorflow.keras.preprocessing import image\n",
        "test_image = image.load_img('/content/drive/MyDrive/MLDL/images/cat/cat_15.jpg', target_size = (64,64))\n",
        "test_image = image.img_to_array(test_image)\n",
        "test_image = np.expand_dims(test_image,axis = 0)\n",
        "result = cnn.predict(test_image)\n",
        "training_set.class_indices\n",
        "if result[0][0] == 1:\n",
        "  prediction = \"Loaf\"\n",
        "else:\n",
        "  prediction = \"Cat\""
      ],
      "metadata": {
        "colab": {
          "base_uri": "https://localhost:8080/"
        },
        "id": "eLxKoQ47AcjS",
        "outputId": "b98f1c9b-0e92-4a84-e2ca-7bc107502ba4"
      },
      "id": "eLxKoQ47AcjS",
      "execution_count": 122,
      "outputs": [
        {
          "output_type": "stream",
          "name": "stdout",
          "text": [
            "1/1 [==============================] - 0s 364ms/step\n"
          ]
        }
      ]
    },
    {
      "cell_type": "code",
      "source": [
        "print(prediction)\n",
        "#cv2.imshow(test_image[0])\n",
        "from google.colab.patches import cv2_imshow\n",
        "cv2_imshow(test_image[0])"
      ],
      "metadata": {
        "colab": {
          "base_uri": "https://localhost:8080/",
          "height": 98
        },
        "id": "GMl14qCcAlGa",
        "outputId": "ff05bd5c-31b8-43c7-89b6-532dc4e6e927"
      },
      "id": "GMl14qCcAlGa",
      "execution_count": 123,
      "outputs": [
        {
          "output_type": "stream",
          "name": "stdout",
          "text": [
            "Loaf\n"
          ]
        },
        {
          "output_type": "display_data",
          "data": {
            "text/plain": [
              "<PIL.Image.Image image mode=RGB size=64x64>"
            ],
            "image/png": "[encoded data removed]"
          },
          "metadata": {}
        }
      ]
    }
  ],
  "metadata": {
    "kernelspec": {
      "display_name": "Python 3",
      "name": "python3"
    },
    "language_info": {
      "codemirror_mode": {
        "name": "ipython",
        "version": 3
      },
      "file_extension": ".py",
      "mimetype": "text/x-python",
      "name": "python",
      "nbconvert_exporter": "python",
      "pygments_lexer": "ipython3",
      "version": "3.9.12"
    },
    "colab": {
      "provenance": [],
      "collapsed_sections": [
        "IfqG_I7La5Gf"
      ],
      "gpuType": "T4",
      "include_colab_link": true
    },
    "accelerator": "GPU"
  },
  "nbformat": 4,
  "nbformat_minor": 5
}